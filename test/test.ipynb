{
 "cells": [
  {
   "cell_type": "code",
   "execution_count": 5,
   "id": "84cb02bd",
   "metadata": {},
   "outputs": [
    {
     "name": "stdout",
     "output_type": "stream",
     "text": [
      "Number of samples: 100\n",
      "Cardinality of train set: 80\n",
      "Cardinality of test set: 20\n",
      "****Method based on polynomial regression****\n",
      "\n",
      "number of attributes: n=1\n",
      "sample sizes for traint sets: t=80\n",
      "degree of separating polynomial: k=3\n",
      "perturbed parameter: c=Inf\n",
      "Problem\n",
      "  Name                   :                 \n",
      "  Objective sense        : minimize        \n",
      "  Type                   : CONIC (conic optimization problem)\n",
      "  Constraints            : 0               \n",
      "  Affine conic cons.     : 1               \n",
      "  Disjunctive cons.      : 0               \n",
      "  Cones                  : 0               \n",
      "  Scalar variables       : 5               \n",
      "  Matrix variables       : 0               \n",
      "  Integer variables      : 0               \n",
      "\n",
      "Optimizer started.\n",
      "Presolve started.\n",
      "Eliminator started.\n",
      "Freed constraints in eliminator : 2\n",
      "Eliminator terminated.\n",
      "Eliminator - tries                  : 1                 time                   : 0.00            \n",
      "Lin. dep.  - tries                  : 0                 time                   : 0.00            \n",
      "Lin. dep.  - number                 : 0               \n",
      "Presolve terminated. Time: 0.00    \n",
      "Optimizer terminated. Time: 0.00    \n",
      "\n",
      "Error: 0.1859772589949694\n"
     ]
    },
    {
     "name": "stderr",
     "output_type": "stream",
     "text": [
      "WARNING: replacing module RegressionModels.\n"
     ]
    }
   ],
   "source": [
    "r=1.7\n",
    "nr=100\n",
    "X = zeros(Float64,nr,1)\n",
    "for j in 1:nr\n",
    "    X[j,1] = 2r*rand()-r\n",
    "end\n",
    "\n",
    "phi(a)=sin(a)+0.2*cos(5*a)\n",
    "eta = Vector{Float64}(phi.(X[:,1]))\n",
    "\n",
    "t=Int64(0.8*nr)\n",
    "X_train=X[1:t,:]\n",
    "eta_train=eta[1:t]\n",
    "\n",
    "X_test=X[t+1:end,:]\n",
    "eta_test=eta[t+1:end]\n",
    "\n",
    "println(\"Number of samples: \", nr)\n",
    "println(\"Cardinality of train set: \",t)\n",
    "println(\"Cardinality of test set: \",nr-t)\n",
    "\n",
    "include(\"../src/RegressionModels.jl\")\n",
    "using .RegressionModels\n",
    "\n",
    "\n",
    "n=1\n",
    "c=Inf\n",
    "k=3\n",
    "\n",
    "eval_pol_approx=RegressionModels.model_pol_regress(n,X_train,t,c,k,eta_train,additional_monomials=false)\n",
    "\n",
    "predict=[eval_pol_approx(X_test[j,:]) for j in 1:length(eta_test)]\n",
    "\n",
    "using LinearAlgebra\n",
    "\n",
    "error=norm(predict-eta_test)/maximum([norm(predict);norm(eta_test)])\n",
    "\n",
    "println(\"Error: \", error)"
   ]
  },
  {
   "cell_type": "code",
   "execution_count": null,
   "id": "767f5bdd",
   "metadata": {},
   "outputs": [],
   "source": []
  }
 ],
 "metadata": {
  "kernelspec": {
   "display_name": "Julia 1.7.1",
   "language": "julia",
   "name": "julia-1.7"
  },
  "language_info": {
   "file_extension": ".jl",
   "mimetype": "application/julia",
   "name": "julia",
   "version": "1.7.1"
  }
 },
 "nbformat": 4,
 "nbformat_minor": 5
}

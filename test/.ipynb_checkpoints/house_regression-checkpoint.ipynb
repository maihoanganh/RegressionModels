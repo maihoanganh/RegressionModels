{
 "cells": [
  {
   "cell_type": "code",
   "execution_count": 235,
   "id": "e041859f",
   "metadata": {},
   "outputs": [
    {
     "data": {
      "text/html": [
       "<div><div style = \"float: left;\"><span>506×15 DataFrame</span></div><div style = \"float: right;\"><span style = \"font-style: italic;\">481 rows omitted</span></div><div style = \"clear: both;\"></div></div><div class = \"data-frame\" style = \"overflow-x: scroll;\"><table class = \"data-frame\" style = \"margin-bottom: 6px;\"><thead><tr class = \"header\"><th class = \"rowNumber\" style = \"font-weight: bold; text-align: right;\">Row</th><th style = \"text-align: left;\">Column1</th><th style = \"text-align: left;\">crim</th><th style = \"text-align: left;\">zn</th><th style = \"text-align: left;\">indus</th><th style = \"text-align: left;\">chas</th><th style = \"text-align: left;\">nox</th><th style = \"text-align: left;\">rm</th><th style = \"text-align: left;\">age</th><th style = \"text-align: left;\">dis</th><th style = \"text-align: left;\">rad</th><th style = \"text-align: left;\">tax</th><th style = \"text-align: left;\">ptratio</th><th style = \"text-align: left;\">black</th><th style = \"text-align: left;\">lstat</th><th style = \"text-align: left;\">medv</th></tr><tr class = \"subheader headerLastRow\"><th class = \"rowNumber\" style = \"font-weight: bold; text-align: right;\"></th><th title = \"Int64\" style = \"text-align: left;\">Int64</th><th title = \"Float64\" style = \"text-align: left;\">Float64</th><th title = \"Float64\" style = \"text-align: left;\">Float64</th><th title = \"Float64\" style = \"text-align: left;\">Float64</th><th title = \"Int64\" style = \"text-align: left;\">Int64</th><th title = \"Float64\" style = \"text-align: left;\">Float64</th><th title = \"Float64\" style = \"text-align: left;\">Float64</th><th title = \"Float64\" style = \"text-align: left;\">Float64</th><th title = \"Float64\" style = \"text-align: left;\">Float64</th><th title = \"Int64\" style = \"text-align: left;\">Int64</th><th title = \"Int64\" style = \"text-align: left;\">Int64</th><th title = \"Float64\" style = \"text-align: left;\">Float64</th><th title = \"Float64\" style = \"text-align: left;\">Float64</th><th title = \"Float64\" style = \"text-align: left;\">Float64</th><th title = \"Float64\" style = \"text-align: left;\">Float64</th></tr></thead><tbody><tr><td class = \"rowNumber\" style = \"font-weight: bold; text-align: right;\">1</td><td style = \"text-align: right;\">1</td><td style = \"text-align: right;\">0.00632</td><td style = \"text-align: right;\">18.0</td><td style = \"text-align: right;\">2.31</td><td style = \"text-align: right;\">0</td><td style = \"text-align: right;\">0.538</td><td style = \"text-align: right;\">6.575</td><td style = \"text-align: right;\">65.2</td><td style = \"text-align: right;\">4.09</td><td style = \"text-align: right;\">1</td><td style = \"text-align: right;\">296</td><td style = \"text-align: right;\">15.3</td><td style = \"text-align: right;\">396.9</td><td style = \"text-align: right;\">4.98</td><td style = \"text-align: right;\">24.0</td></tr><tr><td class = \"rowNumber\" style = \"font-weight: bold; text-align: right;\">2</td><td style = \"text-align: right;\">2</td><td style = \"text-align: right;\">0.02731</td><td style = \"text-align: right;\">0.0</td><td style = \"text-align: right;\">7.07</td><td style = \"text-align: right;\">0</td><td style = \"text-align: right;\">0.469</td><td style = \"text-align: right;\">6.421</td><td style = \"text-align: right;\">78.9</td><td style = \"text-align: right;\">4.9671</td><td style = \"text-align: right;\">2</td><td style = \"text-align: right;\">242</td><td style = \"text-align: right;\">17.8</td><td style = \"text-align: right;\">396.9</td><td style = \"text-align: right;\">9.14</td><td style = \"text-align: right;\">21.6</td></tr><tr><td class = \"rowNumber\" style = \"font-weight: bold; text-align: right;\">3</td><td style = \"text-align: right;\">3</td><td style = \"text-align: right;\">0.02729</td><td style = \"text-align: right;\">0.0</td><td style = \"text-align: right;\">7.07</td><td style = \"text-align: right;\">0</td><td style = \"text-align: right;\">0.469</td><td style = \"text-align: right;\">7.185</td><td style = \"text-align: right;\">61.1</td><td style = \"text-align: right;\">4.9671</td><td style = \"text-align: right;\">2</td><td style = \"text-align: right;\">242</td><td style = \"text-align: right;\">17.8</td><td style = \"text-align: right;\">392.83</td><td style = \"text-align: right;\">4.03</td><td style = \"text-align: right;\">34.7</td></tr><tr><td class = \"rowNumber\" style = \"font-weight: bold; text-align: right;\">4</td><td style = \"text-align: right;\">4</td><td style = \"text-align: right;\">0.03237</td><td style = \"text-align: right;\">0.0</td><td style = \"text-align: right;\">2.18</td><td style = \"text-align: right;\">0</td><td style = \"text-align: right;\">0.458</td><td style = \"text-align: right;\">6.998</td><td style = \"text-align: right;\">45.8</td><td style = \"text-align: right;\">6.0622</td><td style = \"text-align: right;\">3</td><td style = \"text-align: right;\">222</td><td style = \"text-align: right;\">18.7</td><td style = \"text-align: right;\">394.63</td><td style = \"text-align: right;\">2.94</td><td style = \"text-align: right;\">33.4</td></tr><tr><td class = \"rowNumber\" style = \"font-weight: bold; text-align: right;\">5</td><td style = \"text-align: right;\">5</td><td style = \"text-align: right;\">0.06905</td><td style = \"text-align: right;\">0.0</td><td style = \"text-align: right;\">2.18</td><td style = \"text-align: right;\">0</td><td style = \"text-align: right;\">0.458</td><td style = \"text-align: right;\">7.147</td><td style = \"text-align: right;\">54.2</td><td style = \"text-align: right;\">6.0622</td><td style = \"text-align: right;\">3</td><td style = \"text-align: right;\">222</td><td style = \"text-align: right;\">18.7</td><td style = \"text-align: right;\">396.9</td><td style = \"text-align: right;\">5.33</td><td style = \"text-align: right;\">36.2</td></tr><tr><td class = \"rowNumber\" style = \"font-weight: bold; text-align: right;\">6</td><td style = \"text-align: right;\">6</td><td style = \"text-align: right;\">0.02985</td><td style = \"text-align: right;\">0.0</td><td style = \"text-align: right;\">2.18</td><td style = \"text-align: right;\">0</td><td style = \"text-align: right;\">0.458</td><td style = \"text-align: right;\">6.43</td><td style = \"text-align: right;\">58.7</td><td style = \"text-align: right;\">6.0622</td><td style = \"text-align: right;\">3</td><td style = \"text-align: right;\">222</td><td style = \"text-align: right;\">18.7</td><td style = \"text-align: right;\">394.12</td><td style = \"text-align: right;\">5.21</td><td style = \"text-align: right;\">28.7</td></tr><tr><td class = \"rowNumber\" style = \"font-weight: bold; text-align: right;\">7</td><td style = \"text-align: right;\">7</td><td style = \"text-align: right;\">0.08829</td><td style = \"text-align: right;\">12.5</td><td style = \"text-align: right;\">7.87</td><td style = \"text-align: right;\">0</td><td style = \"text-align: right;\">0.524</td><td style = \"text-align: right;\">6.012</td><td style = \"text-align: right;\">66.6</td><td style = \"text-align: right;\">5.5605</td><td style = \"text-align: right;\">5</td><td style = \"text-align: right;\">311</td><td style = \"text-align: right;\">15.2</td><td style = \"text-align: right;\">395.6</td><td style = \"text-align: right;\">12.43</td><td style = \"text-align: right;\">22.9</td></tr><tr><td class = \"rowNumber\" style = \"font-weight: bold; text-align: right;\">8</td><td style = \"text-align: right;\">8</td><td style = \"text-align: right;\">0.14455</td><td style = \"text-align: right;\">12.5</td><td style = \"text-align: right;\">7.87</td><td style = \"text-align: right;\">0</td><td style = \"text-align: right;\">0.524</td><td style = \"text-align: right;\">6.172</td><td style = \"text-align: right;\">96.1</td><td style = \"text-align: right;\">5.9505</td><td style = \"text-align: right;\">5</td><td style = \"text-align: right;\">311</td><td style = \"text-align: right;\">15.2</td><td style = \"text-align: right;\">396.9</td><td style = \"text-align: right;\">19.15</td><td style = \"text-align: right;\">27.1</td></tr><tr><td class = \"rowNumber\" style = \"font-weight: bold; text-align: right;\">9</td><td style = \"text-align: right;\">9</td><td style = \"text-align: right;\">0.21124</td><td style = \"text-align: right;\">12.5</td><td style = \"text-align: right;\">7.87</td><td style = \"text-align: right;\">0</td><td style = \"text-align: right;\">0.524</td><td style = \"text-align: right;\">5.631</td><td style = \"text-align: right;\">100.0</td><td style = \"text-align: right;\">6.0821</td><td style = \"text-align: right;\">5</td><td style = \"text-align: right;\">311</td><td style = \"text-align: right;\">15.2</td><td style = \"text-align: right;\">386.63</td><td style = \"text-align: right;\">29.93</td><td style = \"text-align: right;\">16.5</td></tr><tr><td class = \"rowNumber\" style = \"font-weight: bold; text-align: right;\">10</td><td style = \"text-align: right;\">10</td><td style = \"text-align: right;\">0.17004</td><td style = \"text-align: right;\">12.5</td><td style = \"text-align: right;\">7.87</td><td style = \"text-align: right;\">0</td><td style = \"text-align: right;\">0.524</td><td style = \"text-align: right;\">6.004</td><td style = \"text-align: right;\">85.9</td><td style = \"text-align: right;\">6.5921</td><td style = \"text-align: right;\">5</td><td style = \"text-align: right;\">311</td><td style = \"text-align: right;\">15.2</td><td style = \"text-align: right;\">386.71</td><td style = \"text-align: right;\">17.1</td><td style = \"text-align: right;\">18.9</td></tr><tr><td class = \"rowNumber\" style = \"font-weight: bold; text-align: right;\">11</td><td style = \"text-align: right;\">11</td><td style = \"text-align: right;\">0.22489</td><td style = \"text-align: right;\">12.5</td><td style = \"text-align: right;\">7.87</td><td style = \"text-align: right;\">0</td><td style = \"text-align: right;\">0.524</td><td style = \"text-align: right;\">6.377</td><td style = \"text-align: right;\">94.3</td><td style = \"text-align: right;\">6.3467</td><td style = \"text-align: right;\">5</td><td style = \"text-align: right;\">311</td><td style = \"text-align: right;\">15.2</td><td style = \"text-align: right;\">392.52</td><td style = \"text-align: right;\">20.45</td><td style = \"text-align: right;\">15.0</td></tr><tr><td class = \"rowNumber\" style = \"font-weight: bold; text-align: right;\">12</td><td style = \"text-align: right;\">12</td><td style = \"text-align: right;\">0.11747</td><td style = \"text-align: right;\">12.5</td><td style = \"text-align: right;\">7.87</td><td style = \"text-align: right;\">0</td><td style = \"text-align: right;\">0.524</td><td style = \"text-align: right;\">6.009</td><td style = \"text-align: right;\">82.9</td><td style = \"text-align: right;\">6.2267</td><td style = \"text-align: right;\">5</td><td style = \"text-align: right;\">311</td><td style = \"text-align: right;\">15.2</td><td style = \"text-align: right;\">396.9</td><td style = \"text-align: right;\">13.27</td><td style = \"text-align: right;\">18.9</td></tr><tr><td class = \"rowNumber\" style = \"font-weight: bold; text-align: right;\">13</td><td style = \"text-align: right;\">13</td><td style = \"text-align: right;\">0.09378</td><td style = \"text-align: right;\">12.5</td><td style = \"text-align: right;\">7.87</td><td style = \"text-align: right;\">0</td><td style = \"text-align: right;\">0.524</td><td style = \"text-align: right;\">5.889</td><td style = \"text-align: right;\">39.0</td><td style = \"text-align: right;\">5.4509</td><td style = \"text-align: right;\">5</td><td style = \"text-align: right;\">311</td><td style = \"text-align: right;\">15.2</td><td style = \"text-align: right;\">390.5</td><td style = \"text-align: right;\">15.71</td><td style = \"text-align: right;\">21.7</td></tr><tr><td style = \"text-align: right;\">&vellip;</td><td style = \"text-align: right;\">&vellip;</td><td style = \"text-align: right;\">&vellip;</td><td style = \"text-align: right;\">&vellip;</td><td style = \"text-align: right;\">&vellip;</td><td style = \"text-align: right;\">&vellip;</td><td style = \"text-align: right;\">&vellip;</td><td style = \"text-align: right;\">&vellip;</td><td style = \"text-align: right;\">&vellip;</td><td style = \"text-align: right;\">&vellip;</td><td style = \"text-align: right;\">&vellip;</td><td style = \"text-align: right;\">&vellip;</td><td style = \"text-align: right;\">&vellip;</td><td style = \"text-align: right;\">&vellip;</td><td style = \"text-align: right;\">&vellip;</td><td style = \"text-align: right;\">&vellip;</td></tr><tr><td class = \"rowNumber\" style = \"font-weight: bold; text-align: right;\">495</td><td style = \"text-align: right;\">495</td><td style = \"text-align: right;\">0.27957</td><td style = \"text-align: right;\">0.0</td><td style = \"text-align: right;\">9.69</td><td style = \"text-align: right;\">0</td><td style = \"text-align: right;\">0.585</td><td style = \"text-align: right;\">5.926</td><td style = \"text-align: right;\">42.6</td><td style = \"text-align: right;\">2.3817</td><td style = \"text-align: right;\">6</td><td style = \"text-align: right;\">391</td><td style = \"text-align: right;\">19.2</td><td style = \"text-align: right;\">396.9</td><td style = \"text-align: right;\">13.59</td><td style = \"text-align: right;\">24.5</td></tr><tr><td class = \"rowNumber\" style = \"font-weight: bold; text-align: right;\">496</td><td style = \"text-align: right;\">496</td><td style = \"text-align: right;\">0.17899</td><td style = \"text-align: right;\">0.0</td><td style = \"text-align: right;\">9.69</td><td style = \"text-align: right;\">0</td><td style = \"text-align: right;\">0.585</td><td style = \"text-align: right;\">5.67</td><td style = \"text-align: right;\">28.8</td><td style = \"text-align: right;\">2.7986</td><td style = \"text-align: right;\">6</td><td style = \"text-align: right;\">391</td><td style = \"text-align: right;\">19.2</td><td style = \"text-align: right;\">393.29</td><td style = \"text-align: right;\">17.6</td><td style = \"text-align: right;\">23.1</td></tr><tr><td class = \"rowNumber\" style = \"font-weight: bold; text-align: right;\">497</td><td style = \"text-align: right;\">497</td><td style = \"text-align: right;\">0.2896</td><td style = \"text-align: right;\">0.0</td><td style = \"text-align: right;\">9.69</td><td style = \"text-align: right;\">0</td><td style = \"text-align: right;\">0.585</td><td style = \"text-align: right;\">5.39</td><td style = \"text-align: right;\">72.9</td><td style = \"text-align: right;\">2.7986</td><td style = \"text-align: right;\">6</td><td style = \"text-align: right;\">391</td><td style = \"text-align: right;\">19.2</td><td style = \"text-align: right;\">396.9</td><td style = \"text-align: right;\">21.14</td><td style = \"text-align: right;\">19.7</td></tr><tr><td class = \"rowNumber\" style = \"font-weight: bold; text-align: right;\">498</td><td style = \"text-align: right;\">498</td><td style = \"text-align: right;\">0.26838</td><td style = \"text-align: right;\">0.0</td><td style = \"text-align: right;\">9.69</td><td style = \"text-align: right;\">0</td><td style = \"text-align: right;\">0.585</td><td style = \"text-align: right;\">5.794</td><td style = \"text-align: right;\">70.6</td><td style = \"text-align: right;\">2.8927</td><td style = \"text-align: right;\">6</td><td style = \"text-align: right;\">391</td><td style = \"text-align: right;\">19.2</td><td style = \"text-align: right;\">396.9</td><td style = \"text-align: right;\">14.1</td><td style = \"text-align: right;\">18.3</td></tr><tr><td class = \"rowNumber\" style = \"font-weight: bold; text-align: right;\">499</td><td style = \"text-align: right;\">499</td><td style = \"text-align: right;\">0.23912</td><td style = \"text-align: right;\">0.0</td><td style = \"text-align: right;\">9.69</td><td style = \"text-align: right;\">0</td><td style = \"text-align: right;\">0.585</td><td style = \"text-align: right;\">6.019</td><td style = \"text-align: right;\">65.3</td><td style = \"text-align: right;\">2.4091</td><td style = \"text-align: right;\">6</td><td style = \"text-align: right;\">391</td><td style = \"text-align: right;\">19.2</td><td style = \"text-align: right;\">396.9</td><td style = \"text-align: right;\">12.92</td><td style = \"text-align: right;\">21.2</td></tr><tr><td class = \"rowNumber\" style = \"font-weight: bold; text-align: right;\">500</td><td style = \"text-align: right;\">500</td><td style = \"text-align: right;\">0.17783</td><td style = \"text-align: right;\">0.0</td><td style = \"text-align: right;\">9.69</td><td style = \"text-align: right;\">0</td><td style = \"text-align: right;\">0.585</td><td style = \"text-align: right;\">5.569</td><td style = \"text-align: right;\">73.5</td><td style = \"text-align: right;\">2.3999</td><td style = \"text-align: right;\">6</td><td style = \"text-align: right;\">391</td><td style = \"text-align: right;\">19.2</td><td style = \"text-align: right;\">395.77</td><td style = \"text-align: right;\">15.1</td><td style = \"text-align: right;\">17.5</td></tr><tr><td class = \"rowNumber\" style = \"font-weight: bold; text-align: right;\">501</td><td style = \"text-align: right;\">501</td><td style = \"text-align: right;\">0.22438</td><td style = \"text-align: right;\">0.0</td><td style = \"text-align: right;\">9.69</td><td style = \"text-align: right;\">0</td><td style = \"text-align: right;\">0.585</td><td style = \"text-align: right;\">6.027</td><td style = \"text-align: right;\">79.7</td><td style = \"text-align: right;\">2.4982</td><td style = \"text-align: right;\">6</td><td style = \"text-align: right;\">391</td><td style = \"text-align: right;\">19.2</td><td style = \"text-align: right;\">396.9</td><td style = \"text-align: right;\">14.33</td><td style = \"text-align: right;\">16.8</td></tr><tr><td class = \"rowNumber\" style = \"font-weight: bold; text-align: right;\">502</td><td style = \"text-align: right;\">502</td><td style = \"text-align: right;\">0.06263</td><td style = \"text-align: right;\">0.0</td><td style = \"text-align: right;\">11.93</td><td style = \"text-align: right;\">0</td><td style = \"text-align: right;\">0.573</td><td style = \"text-align: right;\">6.593</td><td style = \"text-align: right;\">69.1</td><td style = \"text-align: right;\">2.4786</td><td style = \"text-align: right;\">1</td><td style = \"text-align: right;\">273</td><td style = \"text-align: right;\">21.0</td><td style = \"text-align: right;\">391.99</td><td style = \"text-align: right;\">9.67</td><td style = \"text-align: right;\">22.4</td></tr><tr><td class = \"rowNumber\" style = \"font-weight: bold; text-align: right;\">503</td><td style = \"text-align: right;\">503</td><td style = \"text-align: right;\">0.04527</td><td style = \"text-align: right;\">0.0</td><td style = \"text-align: right;\">11.93</td><td style = \"text-align: right;\">0</td><td style = \"text-align: right;\">0.573</td><td style = \"text-align: right;\">6.12</td><td style = \"text-align: right;\">76.7</td><td style = \"text-align: right;\">2.2875</td><td style = \"text-align: right;\">1</td><td style = \"text-align: right;\">273</td><td style = \"text-align: right;\">21.0</td><td style = \"text-align: right;\">396.9</td><td style = \"text-align: right;\">9.08</td><td style = \"text-align: right;\">20.6</td></tr><tr><td class = \"rowNumber\" style = \"font-weight: bold; text-align: right;\">504</td><td style = \"text-align: right;\">504</td><td style = \"text-align: right;\">0.06076</td><td style = \"text-align: right;\">0.0</td><td style = \"text-align: right;\">11.93</td><td style = \"text-align: right;\">0</td><td style = \"text-align: right;\">0.573</td><td style = \"text-align: right;\">6.976</td><td style = \"text-align: right;\">91.0</td><td style = \"text-align: right;\">2.1675</td><td style = \"text-align: right;\">1</td><td style = \"text-align: right;\">273</td><td style = \"text-align: right;\">21.0</td><td style = \"text-align: right;\">396.9</td><td style = \"text-align: right;\">5.64</td><td style = \"text-align: right;\">23.9</td></tr><tr><td class = \"rowNumber\" style = \"font-weight: bold; text-align: right;\">505</td><td style = \"text-align: right;\">505</td><td style = \"text-align: right;\">0.10959</td><td style = \"text-align: right;\">0.0</td><td style = \"text-align: right;\">11.93</td><td style = \"text-align: right;\">0</td><td style = \"text-align: right;\">0.573</td><td style = \"text-align: right;\">6.794</td><td style = \"text-align: right;\">89.3</td><td style = \"text-align: right;\">2.3889</td><td style = \"text-align: right;\">1</td><td style = \"text-align: right;\">273</td><td style = \"text-align: right;\">21.0</td><td style = \"text-align: right;\">393.45</td><td style = \"text-align: right;\">6.48</td><td style = \"text-align: right;\">22.0</td></tr><tr><td class = \"rowNumber\" style = \"font-weight: bold; text-align: right;\">506</td><td style = \"text-align: right;\">506</td><td style = \"text-align: right;\">0.04741</td><td style = \"text-align: right;\">0.0</td><td style = \"text-align: right;\">11.93</td><td style = \"text-align: right;\">0</td><td style = \"text-align: right;\">0.573</td><td style = \"text-align: right;\">6.03</td><td style = \"text-align: right;\">80.8</td><td style = \"text-align: right;\">2.505</td><td style = \"text-align: right;\">1</td><td style = \"text-align: right;\">273</td><td style = \"text-align: right;\">21.0</td><td style = \"text-align: right;\">396.9</td><td style = \"text-align: right;\">7.88</td><td style = \"text-align: right;\">11.9</td></tr></tbody></table></div>"
      ],
      "text/latex": [
       "\\begin{tabular}{r|ccccccccccc}\n",
       "\t& Column1 & crim & zn & indus & chas & nox & rm & age & dis & rad & \\\\\n",
       "\t\\hline\n",
       "\t& Int64 & Float64 & Float64 & Float64 & Int64 & Float64 & Float64 & Float64 & Float64 & Int64 & \\\\\n",
       "\t\\hline\n",
       "\t1 & 1 & 0.00632 & 18.0 & 2.31 & 0 & 0.538 & 6.575 & 65.2 & 4.09 & 1 & $\\dots$ \\\\\n",
       "\t2 & 2 & 0.02731 & 0.0 & 7.07 & 0 & 0.469 & 6.421 & 78.9 & 4.9671 & 2 & $\\dots$ \\\\\n",
       "\t3 & 3 & 0.02729 & 0.0 & 7.07 & 0 & 0.469 & 7.185 & 61.1 & 4.9671 & 2 & $\\dots$ \\\\\n",
       "\t4 & 4 & 0.03237 & 0.0 & 2.18 & 0 & 0.458 & 6.998 & 45.8 & 6.0622 & 3 & $\\dots$ \\\\\n",
       "\t5 & 5 & 0.06905 & 0.0 & 2.18 & 0 & 0.458 & 7.147 & 54.2 & 6.0622 & 3 & $\\dots$ \\\\\n",
       "\t6 & 6 & 0.02985 & 0.0 & 2.18 & 0 & 0.458 & 6.43 & 58.7 & 6.0622 & 3 & $\\dots$ \\\\\n",
       "\t7 & 7 & 0.08829 & 12.5 & 7.87 & 0 & 0.524 & 6.012 & 66.6 & 5.5605 & 5 & $\\dots$ \\\\\n",
       "\t8 & 8 & 0.14455 & 12.5 & 7.87 & 0 & 0.524 & 6.172 & 96.1 & 5.9505 & 5 & $\\dots$ \\\\\n",
       "\t9 & 9 & 0.21124 & 12.5 & 7.87 & 0 & 0.524 & 5.631 & 100.0 & 6.0821 & 5 & $\\dots$ \\\\\n",
       "\t10 & 10 & 0.17004 & 12.5 & 7.87 & 0 & 0.524 & 6.004 & 85.9 & 6.5921 & 5 & $\\dots$ \\\\\n",
       "\t11 & 11 & 0.22489 & 12.5 & 7.87 & 0 & 0.524 & 6.377 & 94.3 & 6.3467 & 5 & $\\dots$ \\\\\n",
       "\t12 & 12 & 0.11747 & 12.5 & 7.87 & 0 & 0.524 & 6.009 & 82.9 & 6.2267 & 5 & $\\dots$ \\\\\n",
       "\t13 & 13 & 0.09378 & 12.5 & 7.87 & 0 & 0.524 & 5.889 & 39.0 & 5.4509 & 5 & $\\dots$ \\\\\n",
       "\t14 & 14 & 0.62976 & 0.0 & 8.14 & 0 & 0.538 & 5.949 & 61.8 & 4.7075 & 4 & $\\dots$ \\\\\n",
       "\t15 & 15 & 0.63796 & 0.0 & 8.14 & 0 & 0.538 & 6.096 & 84.5 & 4.4619 & 4 & $\\dots$ \\\\\n",
       "\t16 & 16 & 0.62739 & 0.0 & 8.14 & 0 & 0.538 & 5.834 & 56.5 & 4.4986 & 4 & $\\dots$ \\\\\n",
       "\t17 & 17 & 1.05393 & 0.0 & 8.14 & 0 & 0.538 & 5.935 & 29.3 & 4.4986 & 4 & $\\dots$ \\\\\n",
       "\t18 & 18 & 0.7842 & 0.0 & 8.14 & 0 & 0.538 & 5.99 & 81.7 & 4.2579 & 4 & $\\dots$ \\\\\n",
       "\t19 & 19 & 0.80271 & 0.0 & 8.14 & 0 & 0.538 & 5.456 & 36.6 & 3.7965 & 4 & $\\dots$ \\\\\n",
       "\t20 & 20 & 0.7258 & 0.0 & 8.14 & 0 & 0.538 & 5.727 & 69.5 & 3.7965 & 4 & $\\dots$ \\\\\n",
       "\t21 & 21 & 1.25179 & 0.0 & 8.14 & 0 & 0.538 & 5.57 & 98.1 & 3.7979 & 4 & $\\dots$ \\\\\n",
       "\t22 & 22 & 0.85204 & 0.0 & 8.14 & 0 & 0.538 & 5.965 & 89.2 & 4.0123 & 4 & $\\dots$ \\\\\n",
       "\t23 & 23 & 1.23247 & 0.0 & 8.14 & 0 & 0.538 & 6.142 & 91.7 & 3.9769 & 4 & $\\dots$ \\\\\n",
       "\t24 & 24 & 0.98843 & 0.0 & 8.14 & 0 & 0.538 & 5.813 & 100.0 & 4.0952 & 4 & $\\dots$ \\\\\n",
       "\t25 & 25 & 0.75026 & 0.0 & 8.14 & 0 & 0.538 & 5.924 & 94.1 & 4.3996 & 4 & $\\dots$ \\\\\n",
       "\t26 & 26 & 0.84054 & 0.0 & 8.14 & 0 & 0.538 & 5.599 & 85.7 & 4.4546 & 4 & $\\dots$ \\\\\n",
       "\t27 & 27 & 0.67191 & 0.0 & 8.14 & 0 & 0.538 & 5.813 & 90.3 & 4.682 & 4 & $\\dots$ \\\\\n",
       "\t28 & 28 & 0.95577 & 0.0 & 8.14 & 0 & 0.538 & 6.047 & 88.8 & 4.4534 & 4 & $\\dots$ \\\\\n",
       "\t29 & 29 & 0.77299 & 0.0 & 8.14 & 0 & 0.538 & 6.495 & 94.4 & 4.4547 & 4 & $\\dots$ \\\\\n",
       "\t30 & 30 & 1.00245 & 0.0 & 8.14 & 0 & 0.538 & 6.674 & 87.3 & 4.239 & 4 & $\\dots$ \\\\\n",
       "\t$\\dots$ & $\\dots$ & $\\dots$ & $\\dots$ & $\\dots$ & $\\dots$ & $\\dots$ & $\\dots$ & $\\dots$ & $\\dots$ & $\\dots$ &  \\\\\n",
       "\\end{tabular}\n"
      ],
      "text/plain": [
       "\u001b[1m506×15 DataFrame\u001b[0m\n",
       "\u001b[1m Row \u001b[0m│\u001b[1m Column1 \u001b[0m\u001b[1m crim    \u001b[0m\u001b[1m zn      \u001b[0m\u001b[1m indus   \u001b[0m\u001b[1m chas  \u001b[0m\u001b[1m nox     \u001b[0m\u001b[1m rm      \u001b[0m\u001b[1m age     \u001b[0m\u001b[1m d\u001b[0m ⋯\n",
       "     │\u001b[90m Int64   \u001b[0m\u001b[90m Float64 \u001b[0m\u001b[90m Float64 \u001b[0m\u001b[90m Float64 \u001b[0m\u001b[90m Int64 \u001b[0m\u001b[90m Float64 \u001b[0m\u001b[90m Float64 \u001b[0m\u001b[90m Float64 \u001b[0m\u001b[90m F\u001b[0m ⋯\n",
       "─────┼──────────────────────────────────────────────────────────────────────────\n",
       "   1 │       1  0.00632     18.0     2.31      0    0.538    6.575     65.2    ⋯\n",
       "   2 │       2  0.02731      0.0     7.07      0    0.469    6.421     78.9\n",
       "   3 │       3  0.02729      0.0     7.07      0    0.469    7.185     61.1\n",
       "   4 │       4  0.03237      0.0     2.18      0    0.458    6.998     45.8\n",
       "   5 │       5  0.06905      0.0     2.18      0    0.458    7.147     54.2    ⋯\n",
       "   6 │       6  0.02985      0.0     2.18      0    0.458    6.43      58.7\n",
       "   7 │       7  0.08829     12.5     7.87      0    0.524    6.012     66.6\n",
       "   8 │       8  0.14455     12.5     7.87      0    0.524    6.172     96.1\n",
       "   9 │       9  0.21124     12.5     7.87      0    0.524    5.631    100.0    ⋯\n",
       "  10 │      10  0.17004     12.5     7.87      0    0.524    6.004     85.9\n",
       "  11 │      11  0.22489     12.5     7.87      0    0.524    6.377     94.3\n",
       "  ⋮  │    ⋮        ⋮        ⋮        ⋮       ⋮       ⋮        ⋮        ⋮       ⋱\n",
       " 497 │     497  0.2896       0.0     9.69      0    0.585    5.39      72.9\n",
       " 498 │     498  0.26838      0.0     9.69      0    0.585    5.794     70.6    ⋯\n",
       " 499 │     499  0.23912      0.0     9.69      0    0.585    6.019     65.3\n",
       " 500 │     500  0.17783      0.0     9.69      0    0.585    5.569     73.5\n",
       " 501 │     501  0.22438      0.0     9.69      0    0.585    6.027     79.7\n",
       " 502 │     502  0.06263      0.0    11.93      0    0.573    6.593     69.1    ⋯\n",
       " 503 │     503  0.04527      0.0    11.93      0    0.573    6.12      76.7\n",
       " 504 │     504  0.06076      0.0    11.93      0    0.573    6.976     91.0\n",
       " 505 │     505  0.10959      0.0    11.93      0    0.573    6.794     89.3\n",
       " 506 │     506  0.04741      0.0    11.93      0    0.573    6.03      80.8    ⋯\n",
       "\u001b[36m                                                  7 columns and 485 rows omitted\u001b[0m"
      ]
     },
     "execution_count": 235,
     "metadata": {},
     "output_type": "execute_result"
    }
   ],
   "source": [
    "using CSV\n",
    "using DataFrames\n",
    "\n",
    "df = CSV.read(\"/home/hoanganh/Desktop/math-topics/Polynomial_Regression/codes/Boston.csv\",DataFrame)"
   ]
  },
  {
   "cell_type": "code",
   "execution_count": 236,
   "id": "c4d86261",
   "metadata": {},
   "outputs": [
    {
     "data": {
      "text/plain": [
       "506×14 Matrix{Float64}:\n",
       " 0.00632  18.0   2.31  0.0  0.538  6.575  …  296.0  15.3  396.9    4.98  24.0\n",
       " 0.02731   0.0   7.07  0.0  0.469  6.421     242.0  17.8  396.9    9.14  21.6\n",
       " 0.02729   0.0   7.07  0.0  0.469  7.185     242.0  17.8  392.83   4.03  34.7\n",
       " 0.03237   0.0   2.18  0.0  0.458  6.998     222.0  18.7  394.63   2.94  33.4\n",
       " 0.06905   0.0   2.18  0.0  0.458  7.147     222.0  18.7  396.9    5.33  36.2\n",
       " 0.02985   0.0   2.18  0.0  0.458  6.43   …  222.0  18.7  394.12   5.21  28.7\n",
       " 0.08829  12.5   7.87  0.0  0.524  6.012     311.0  15.2  395.6   12.43  22.9\n",
       " 0.14455  12.5   7.87  0.0  0.524  6.172     311.0  15.2  396.9   19.15  27.1\n",
       " 0.21124  12.5   7.87  0.0  0.524  5.631     311.0  15.2  386.63  29.93  16.5\n",
       " 0.17004  12.5   7.87  0.0  0.524  6.004     311.0  15.2  386.71  17.1   18.9\n",
       " 0.22489  12.5   7.87  0.0  0.524  6.377  …  311.0  15.2  392.52  20.45  15.0\n",
       " 0.11747  12.5   7.87  0.0  0.524  6.009     311.0  15.2  396.9   13.27  18.9\n",
       " 0.09378  12.5   7.87  0.0  0.524  5.889     311.0  15.2  390.5   15.71  21.7\n",
       " ⋮                                 ⋮      ⋱          ⋮                   \n",
       " 0.27957   0.0   9.69  0.0  0.585  5.926     391.0  19.2  396.9   13.59  24.5\n",
       " 0.17899   0.0   9.69  0.0  0.585  5.67   …  391.0  19.2  393.29  17.6   23.1\n",
       " 0.2896    0.0   9.69  0.0  0.585  5.39      391.0  19.2  396.9   21.14  19.7\n",
       " 0.26838   0.0   9.69  0.0  0.585  5.794     391.0  19.2  396.9   14.1   18.3\n",
       " 0.23912   0.0   9.69  0.0  0.585  6.019     391.0  19.2  396.9   12.92  21.2\n",
       " 0.17783   0.0   9.69  0.0  0.585  5.569     391.0  19.2  395.77  15.1   17.5\n",
       " 0.22438   0.0   9.69  0.0  0.585  6.027  …  391.0  19.2  396.9   14.33  16.8\n",
       " 0.06263   0.0  11.93  0.0  0.573  6.593     273.0  21.0  391.99   9.67  22.4\n",
       " 0.04527   0.0  11.93  0.0  0.573  6.12      273.0  21.0  396.9    9.08  20.6\n",
       " 0.06076   0.0  11.93  0.0  0.573  6.976     273.0  21.0  396.9    5.64  23.9\n",
       " 0.10959   0.0  11.93  0.0  0.573  6.794     273.0  21.0  393.45   6.48  22.0\n",
       " 0.04741   0.0  11.93  0.0  0.573  6.03   …  273.0  21.0  396.9    7.88  11.9"
      ]
     },
     "execution_count": 236,
     "metadata": {},
     "output_type": "execute_result"
    }
   ],
   "source": [
    "nr,nc=size(df)\n",
    "D=Matrix{Float64}(undef,nr,nc-1)\n",
    "for j=1:nr\n",
    "    for i=2:nc\n",
    "        D[j,i-1]=df[j,i]\n",
    "    end\n",
    "end\n",
    "D"
   ]
  },
  {
   "cell_type": "code",
   "execution_count": 237,
   "id": "2dff8267",
   "metadata": {},
   "outputs": [
    {
     "data": {
      "text/plain": [
       "13-element Vector{Float64}:\n",
       "  88.9762\n",
       " 100.0\n",
       "  27.74\n",
       "   1.0\n",
       "   0.871\n",
       "   8.78\n",
       " 100.0\n",
       "  12.1265\n",
       "  24.0\n",
       " 711.0\n",
       "  22.0\n",
       " 396.9\n",
       "  37.97"
      ]
     },
     "execution_count": 237,
     "metadata": {},
     "output_type": "execute_result"
    }
   ],
   "source": [
    "using LinearAlgebra\n",
    "\n",
    "max_col=[maximum(D[:,j]) for j=1:13]"
   ]
  },
  {
   "cell_type": "code",
   "execution_count": 238,
   "id": "b36c1be5",
   "metadata": {},
   "outputs": [
    {
     "data": {
      "text/plain": [
       "Int64[]"
      ]
     },
     "execution_count": 238,
     "metadata": {},
     "output_type": "execute_result"
    }
   ],
   "source": [
    "ind_zero=Vector{Int64}([])\n",
    "for j=1:13\n",
    "    if max_col[j]>0\n",
    "        D[:,j]/=max_col[j]\n",
    "    else\n",
    "        append!(ind_zero,j)\n",
    "    end\n",
    "end\n",
    "ind_zero"
   ]
  },
  {
   "cell_type": "code",
   "execution_count": 239,
   "id": "f0f6516a",
   "metadata": {},
   "outputs": [
    {
     "data": {
      "text/plain": [
       "506×14 Matrix{Float64}:\n",
       " 7.10302e-5   0.18   0.0832733  0.0  …  0.695455  1.0       0.131156   24.0\n",
       " 0.000306936  0.0    0.254867   0.0     0.809091  1.0       0.240716   21.6\n",
       " 0.000306711  0.0    0.254867   0.0     0.809091  0.989746  0.106136   34.7\n",
       " 0.000363805  0.0    0.0785869  0.0     0.85      0.994281  0.0774295  33.4\n",
       " 0.00077605   0.0    0.0785869  0.0     0.85      1.0       0.140374   36.2\n",
       " 0.000335483  0.0    0.0785869  0.0  …  0.85      0.992996  0.137214   28.7\n",
       " 0.000992288  0.125  0.283706   0.0     0.690909  0.996725  0.327364   22.9\n",
       " 0.00162459   0.125  0.283706   0.0     0.690909  1.0       0.504346   27.1\n",
       " 0.00237412   0.125  0.283706   0.0     0.690909  0.974124  0.788254   16.5\n",
       " 0.00191107   0.125  0.283706   0.0     0.690909  0.974326  0.450356   18.9\n",
       " 0.00252753   0.125  0.283706   0.0  …  0.690909  0.988964  0.538583   15.0\n",
       " 0.00132024   0.125  0.283706   0.0     0.690909  1.0       0.349486   18.9\n",
       " 0.00105399   0.125  0.283706   0.0     0.690909  0.983875  0.413748   21.7\n",
       " ⋮                                   ⋱  ⋮                              \n",
       " 0.00314208   0.0    0.349315   0.0     0.872727  1.0       0.357914   24.5\n",
       " 0.00201166   0.0    0.349315   0.0  …  0.872727  0.990905  0.463524   23.1\n",
       " 0.0032548    0.0    0.349315   0.0     0.872727  1.0       0.556755   19.7\n",
       " 0.00301631   0.0    0.349315   0.0     0.872727  1.0       0.371346   18.3\n",
       " 0.00268746   0.0    0.349315   0.0     0.872727  1.0       0.340269   21.2\n",
       " 0.00199862   0.0    0.349315   0.0     0.872727  0.997153  0.397682   17.5\n",
       " 0.0025218    0.0    0.349315   0.0  …  0.872727  1.0       0.377403   16.8\n",
       " 0.000703896  0.0    0.430065   0.0     0.954545  0.987629  0.254675   22.4\n",
       " 0.000508788  0.0    0.430065   0.0     0.954545  1.0       0.239136   20.6\n",
       " 0.000682879  0.0    0.430065   0.0     0.954545  1.0       0.148538   23.9\n",
       " 0.00123168   0.0    0.430065   0.0     0.954545  0.991308  0.170661   22.0\n",
       " 0.000532839  0.0    0.430065   0.0  …  0.954545  1.0       0.207532   11.9"
      ]
     },
     "execution_count": 239,
     "metadata": {},
     "output_type": "execute_result"
    }
   ],
   "source": [
    "D=D[:,setdiff(1:14,ind_zero)]"
   ]
  },
  {
   "cell_type": "code",
   "execution_count": 240,
   "id": "9f87028b",
   "metadata": {},
   "outputs": [],
   "source": [
    "# D[:,1:14].-=0.5\n",
    "# D[:,1:14]*=2"
   ]
  },
  {
   "cell_type": "code",
   "execution_count": 241,
   "id": "046e3f98",
   "metadata": {},
   "outputs": [],
   "source": [
    "using LinearAlgebra\n",
    "\n",
    "#max_norm_col=maximum(norm(D[j,1:14]) for j=1:nr) "
   ]
  },
  {
   "cell_type": "code",
   "execution_count": 242,
   "id": "888c52fe",
   "metadata": {},
   "outputs": [],
   "source": [
    "# r=1\n",
    "# D[:,1:14]/=max_norm_col/r\n",
    "# D"
   ]
  },
  {
   "cell_type": "code",
   "execution_count": 243,
   "id": "fdaf0179",
   "metadata": {},
   "outputs": [
    {
     "data": {
      "text/plain": [
       "13"
      ]
     },
     "execution_count": 243,
     "metadata": {},
     "output_type": "execute_result"
    }
   ],
   "source": [
    "X=D[:,1:13]\n",
    "eta=D[:,14]\n",
    "n=13"
   ]
  },
  {
   "cell_type": "code",
   "execution_count": 244,
   "id": "6bfae1ff",
   "metadata": {},
   "outputs": [
    {
     "data": {
      "text/plain": [
       "405-element Vector{Float64}:\n",
       " 24.0\n",
       " 21.6\n",
       " 34.7\n",
       " 33.4\n",
       " 36.2\n",
       " 28.7\n",
       " 22.9\n",
       " 27.1\n",
       " 16.5\n",
       " 18.9\n",
       " 15.0\n",
       " 18.9\n",
       " 21.7\n",
       "  ⋮\n",
       " 13.8\n",
       " 12.7\n",
       " 13.1\n",
       " 12.5\n",
       "  8.5\n",
       "  5.0\n",
       "  6.3\n",
       "  5.6\n",
       "  7.2\n",
       " 12.1\n",
       "  8.3\n",
       "  8.5"
      ]
     },
     "execution_count": 244,
     "metadata": {},
     "output_type": "execute_result"
    }
   ],
   "source": [
    "t=ceil(Int64,0.8*nr)\n",
    "X_train=X[1:t,:]\n",
    "eta_train=eta[1:t]"
   ]
  },
  {
   "cell_type": "code",
   "execution_count": 245,
   "id": "166db5f2",
   "metadata": {},
   "outputs": [
    {
     "data": {
      "text/plain": [
       "101-element Vector{Float64}:\n",
       "  5.0\n",
       " 11.9\n",
       " 27.9\n",
       " 17.2\n",
       " 27.5\n",
       " 15.0\n",
       " 17.2\n",
       " 17.9\n",
       " 16.3\n",
       "  7.0\n",
       "  7.2\n",
       "  7.5\n",
       " 10.4\n",
       "  ⋮\n",
       " 24.5\n",
       " 23.1\n",
       " 19.7\n",
       " 18.3\n",
       " 21.2\n",
       " 17.5\n",
       " 16.8\n",
       " 22.4\n",
       " 20.6\n",
       " 23.9\n",
       " 22.0\n",
       " 11.9"
      ]
     },
     "execution_count": 245,
     "metadata": {},
     "output_type": "execute_result"
    }
   ],
   "source": [
    "X_test=X[t+1:end,:]\n",
    "eta_test=eta[t+1:end]"
   ]
  },
  {
   "cell_type": "code",
   "execution_count": 257,
   "id": "ffa69baa",
   "metadata": {},
   "outputs": [
    {
     "name": "stdout",
     "output_type": "stream",
     "text": [
      "****Method based on polynomial regression****\n",
      "\n",
      "number of attributes: n=13\n",
      "sample sizes for traint sets: t=405\n",
      "degree of separating polynomial: k=1\n",
      "perturbed parameter: c=Inf\n",
      "Problem\n",
      "  Name                   :                 \n",
      "  Objective sense        : minimize        \n",
      "  Type                   : CONIC (conic optimization problem)\n",
      "  Constraints            : 0               \n",
      "  Affine conic cons.     : 1               \n",
      "  Disjunctive cons.      : 0               \n",
      "  Cones                  : 0               \n",
      "  Scalar variables       : 15              \n",
      "  Matrix variables       : 0               \n",
      "  Integer variables      : 0               \n",
      "\n",
      "Optimizer started.\n",
      "Presolve started.\n",
      "Linear dependency checker started.\n",
      "Linear dependency checker terminated.\n",
      "Eliminator started.\n",
      "Freed constraints in eliminator : 12\n",
      "Eliminator terminated.\n",
      "Eliminator - tries                  : 1                 time                   : 0.00            \n",
      "Lin. dep.  - tries                  : 1                 time                   : 0.00            \n",
      "Lin. dep.  - number                 : 0               \n",
      "Presolve terminated. Time: 0.00    \n",
      "Optimizer terminated. Time: 0.00    \n",
      "\n",
      "  0.488614 seconds (850.67 k allocations: 61.504 MiB, 94.12% compilation time)\n"
     ]
    },
    {
     "name": "stderr",
     "output_type": "stream",
     "text": [
      "WARNING: replacing module RegressionModels.\n"
     ]
    },
    {
     "data": {
      "text/plain": [
       "(::Main.RegressionModels.var\"#eval_pol_approx#314\"{Int64, Vector{Float64}}) (generic function with 1 method)"
      ]
     },
     "execution_count": 257,
     "metadata": {},
     "output_type": "execute_result"
    }
   ],
   "source": [
    "include(\"../src/RegressionModels.jl\")\n",
    "using .RegressionModels\n",
    "\n",
    "c=Inf\n",
    "k=1\n",
    "\n",
    "\n",
    "@time eval_pol_approx=RegressionModels.model_pol_regress(n,X_train,t,c,k,eta_train,\n",
    "                                                    additional_monomials=false,lamb=0.005)"
   ]
  },
  {
   "cell_type": "code",
   "execution_count": 258,
   "id": "95d31661",
   "metadata": {},
   "outputs": [
    {
     "data": {
      "text/plain": [
       "101-element Vector{Float64}:\n",
       " 11.263078223578953\n",
       "  9.025323115472565\n",
       " 20.158369691037834\n",
       " 11.895492622164689\n",
       " 17.176968521517775\n",
       " 13.90477238543138\n",
       " 13.456209656406008\n",
       " -1.1439214329025376\n",
       " 10.856902329669373\n",
       " -3.827814868754338\n",
       "  7.748521817153851\n",
       " 11.060060023241054\n",
       "  6.443251068202295\n",
       "  ⋮\n",
       " 21.246881895037568\n",
       " 17.622580292109998\n",
       " 15.19494039990778\n",
       " 20.435334525836147\n",
       " 22.152945024345247\n",
       " 19.508242548176113\n",
       " 21.463142793694345\n",
       " 25.23154835035283\n",
       " 24.303792689675102\n",
       " 29.319236097713038\n",
       " 28.003105431407462\n",
       " 24.570042023392475"
      ]
     },
     "execution_count": 258,
     "metadata": {},
     "output_type": "execute_result"
    }
   ],
   "source": [
    "predict=[eval_pol_approx(X_test[j,:]) for j in 1:length(eta_test)]"
   ]
  },
  {
   "cell_type": "code",
   "execution_count": 259,
   "id": "599f10ed",
   "metadata": {},
   "outputs": [
    {
     "data": {
      "text/plain": [
       "0.24048549218113033"
      ]
     },
     "execution_count": 259,
     "metadata": {},
     "output_type": "execute_result"
    }
   ],
   "source": [
    "error=norm(predict-eta_test)/maximum([norm(predict);norm(eta_test)])"
   ]
  },
  {
   "cell_type": "code",
   "execution_count": 260,
   "id": "a582b6fc",
   "metadata": {},
   "outputs": [
    {
     "data": {
      "text/plain": [
       "405"
      ]
     },
     "execution_count": 260,
     "metadata": {},
     "output_type": "execute_result"
    }
   ],
   "source": [
    "t"
   ]
  },
  {
   "cell_type": "code",
   "execution_count": 256,
   "id": "50552daf",
   "metadata": {},
   "outputs": [
    {
     "data": {
      "text/plain": [
       "101"
      ]
     },
     "execution_count": 256,
     "metadata": {},
     "output_type": "execute_result"
    }
   ],
   "source": [
    "nr-t"
   ]
  },
  {
   "cell_type": "code",
   "execution_count": null,
   "id": "b09ff6f5",
   "metadata": {},
   "outputs": [],
   "source": []
  }
 ],
 "metadata": {
  "kernelspec": {
   "display_name": "Julia 1.7.1",
   "language": "julia",
   "name": "julia-1.7"
  },
  "language_info": {
   "file_extension": ".jl",
   "mimetype": "application/julia",
   "name": "julia",
   "version": "1.7.1"
  }
 },
 "nbformat": 4,
 "nbformat_minor": 5
}

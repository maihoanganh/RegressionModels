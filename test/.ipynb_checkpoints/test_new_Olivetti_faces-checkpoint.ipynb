{
 "cells": [
  {
   "cell_type": "code",
   "execution_count": 2,
   "metadata": {},
   "outputs": [
    {
     "data": {
      "text/plain": [
       "7646×65 Array{Float64,2}:\n",
       " 0.0  1.0   6.0  15.0  12.0   1.0   0.0  …  14.0   7.0   1.0   0.0  0.0  0.0\n",
       " 0.0  0.0  10.0  16.0   6.0   0.0   0.0     16.0  15.0   3.0   0.0  0.0  0.0\n",
       " 0.0  0.0   8.0  15.0  16.0  13.0   0.0     14.0   0.0   0.0   0.0  0.0  7.0\n",
       " 0.0  0.0   0.0   3.0  11.0  16.0   0.0      1.0  15.0   2.0   0.0  0.0  4.0\n",
       " 0.0  0.0   5.0  14.0   4.0   0.0   0.0     12.0  14.0   7.0   0.0  0.0  6.0\n",
       " 0.0  0.0  11.0  16.0  10.0   1.0   0.0  …  16.0  16.0  16.0  16.0  6.0  2.0\n",
       " 0.0  0.0   1.0  11.0  13.0  11.0   7.0     13.0   5.0   0.0   0.0  0.0  5.0\n",
       " 0.0  0.0   8.0  10.0   8.0   7.0   2.0     13.0   8.0   0.0   0.0  0.0  5.0\n",
       " 0.0  0.0  15.0   2.0  14.0  13.0   2.0     12.0   5.0   0.0   0.0  0.0  0.0\n",
       " 0.0  0.0   3.0  13.0  13.0   2.0   0.0     15.0  11.0   6.0   0.0  0.0  8.0\n",
       " 0.0  0.0   6.0  14.0  14.0  16.0  16.0  …  12.0   0.0   0.0   0.0  0.0  7.0\n",
       " 0.0  0.0   0.0   3.0  16.0  11.0   1.0      2.0  14.0  14.0   1.0  0.0  1.0\n",
       " 0.0  0.0   0.0   4.0  13.0  16.0  16.0      5.0  15.0   4.0   0.0  0.0  9.0\n",
       " ⋮                            ⋮          ⋱         ⋮                        \n",
       " 0.0  0.0   0.0   0.0   7.0  11.0   1.0      0.0   7.0  11.0   0.0  0.0  1.0\n",
       " 0.0  0.0   0.0   6.0  13.0   0.0   0.0  …   6.0   9.0   0.0   0.0  0.0  4.0\n",
       " 0.0  0.0   0.0   6.0   8.0   0.0   0.0      9.0   8.0   0.0   0.0  0.0  4.0\n",
       " 0.0  0.0   9.0  16.0   6.0   0.0   0.0     13.0   1.0   0.0   0.0  0.0  8.0\n",
       " 0.0  0.0   9.0  16.0  12.0   1.0   0.0     16.0  16.0  16.0   8.0  0.0  9.0\n",
       " 0.0  1.0  10.0  16.0  16.0   4.0   0.0     16.0  12.0   5.0   0.0  0.0  3.0\n",
       " 0.0  0.0   6.0  16.0  11.0   0.0   0.0  …  14.0  16.0  12.0   1.0  0.0  9.0\n",
       " 0.0  0.0   5.0  13.0  11.0   2.0   0.0     13.0  15.0  10.0   1.0  0.0  9.0\n",
       " 0.0  0.0   0.0   1.0  12.0   1.0   0.0      4.0   9.0   0.0   0.0  0.0  4.0\n",
       " 0.0  0.0   3.0  15.0   0.0   0.0   0.0     14.0  16.0   9.0   0.0  0.0  6.0\n",
       " 0.0  0.0   6.0  16.0   2.0   0.0   0.0     16.0  16.0  16.0   5.0  0.0  6.0\n",
       " 0.0  0.0   2.0  15.0  16.0  13.0   1.0  …  14.0   1.0   0.0   0.0  0.0  7.0"
      ]
     },
     "execution_count": 2,
     "metadata": {},
     "output_type": "execute_result"
    }
   ],
   "source": [
    "using DelimitedFiles\n",
    "\n",
    "df_train = readdlm(\"../optdigits.tra\", ',')\n",
    "df_test = readdlm(\"../optdigits.tra\", ',')\n",
    "df=[df_train;df_test]"
   ]
  },
  {
   "cell_type": "code",
   "execution_count": 3,
   "metadata": {},
   "outputs": [
    {
     "data": {
      "text/plain": [
       "7646×65 Array{Float64,2}:\n",
       " 0.0  1.0   6.0  15.0  12.0   1.0   0.0  …  14.0   7.0   1.0   0.0  0.0   1.0\n",
       " 0.0  0.0  10.0  16.0   6.0   0.0   0.0     16.0  15.0   3.0   0.0  0.0   1.0\n",
       " 0.0  0.0   8.0  15.0  16.0  13.0   0.0     14.0   0.0   0.0   0.0  0.0   8.0\n",
       " 0.0  0.0   0.0   3.0  11.0  16.0   0.0      1.0  15.0   2.0   0.0  0.0   5.0\n",
       " 0.0  0.0   5.0  14.0   4.0   0.0   0.0     12.0  14.0   7.0   0.0  0.0   7.0\n",
       " 0.0  0.0  11.0  16.0  10.0   1.0   0.0  …  16.0  16.0  16.0  16.0  6.0   3.0\n",
       " 0.0  0.0   1.0  11.0  13.0  11.0   7.0     13.0   5.0   0.0   0.0  0.0   6.0\n",
       " 0.0  0.0   8.0  10.0   8.0   7.0   2.0     13.0   8.0   0.0   0.0  0.0   6.0\n",
       " 0.0  0.0  15.0   2.0  14.0  13.0   2.0     12.0   5.0   0.0   0.0  0.0   1.0\n",
       " 0.0  0.0   3.0  13.0  13.0   2.0   0.0     15.0  11.0   6.0   0.0  0.0   9.0\n",
       " 0.0  0.0   6.0  14.0  14.0  16.0  16.0  …  12.0   0.0   0.0   0.0  0.0   8.0\n",
       " 0.0  0.0   0.0   3.0  16.0  11.0   1.0      2.0  14.0  14.0   1.0  0.0   2.0\n",
       " 0.0  0.0   0.0   4.0  13.0  16.0  16.0      5.0  15.0   4.0   0.0  0.0  10.0\n",
       " ⋮                            ⋮          ⋱         ⋮                         \n",
       " 0.0  0.0   0.0   0.0   7.0  11.0   1.0      0.0   7.0  11.0   0.0  0.0   2.0\n",
       " 0.0  0.0   0.0   6.0  13.0   0.0   0.0  …   6.0   9.0   0.0   0.0  0.0   5.0\n",
       " 0.0  0.0   0.0   6.0   8.0   0.0   0.0      9.0   8.0   0.0   0.0  0.0   5.0\n",
       " 0.0  0.0   9.0  16.0   6.0   0.0   0.0     13.0   1.0   0.0   0.0  0.0   9.0\n",
       " 0.0  0.0   9.0  16.0  12.0   1.0   0.0     16.0  16.0  16.0   8.0  0.0  10.0\n",
       " 0.0  1.0  10.0  16.0  16.0   4.0   0.0     16.0  12.0   5.0   0.0  0.0   4.0\n",
       " 0.0  0.0   6.0  16.0  11.0   0.0   0.0  …  14.0  16.0  12.0   1.0  0.0  10.0\n",
       " 0.0  0.0   5.0  13.0  11.0   2.0   0.0     13.0  15.0  10.0   1.0  0.0  10.0\n",
       " 0.0  0.0   0.0   1.0  12.0   1.0   0.0      4.0   9.0   0.0   0.0  0.0   5.0\n",
       " 0.0  0.0   3.0  15.0   0.0   0.0   0.0     14.0  16.0   9.0   0.0  0.0   7.0\n",
       " 0.0  0.0   6.0  16.0   2.0   0.0   0.0     16.0  16.0  16.0   5.0  0.0   7.0\n",
       " 0.0  0.0   2.0  15.0  16.0  13.0   1.0  …  14.0   1.0   0.0   0.0  0.0   8.0"
      ]
     },
     "execution_count": 3,
     "metadata": {},
     "output_type": "execute_result"
    }
   ],
   "source": [
    "nr,nc=size(df)\n",
    "D=Matrix{Float64}(undef,nr,nc)\n",
    "for j=1:nr\n",
    "    for i=1:65\n",
    "        D[j,i]=df[j,i]\n",
    "    end\n",
    "        \n",
    "    D[j,65]+=1\n",
    "end\n",
    "D"
   ]
  },
  {
   "cell_type": "code",
   "execution_count": 4,
   "metadata": {},
   "outputs": [
    {
     "data": {
      "text/plain": [
       "64-element Array{Float64,1}:\n",
       "  0.0\n",
       "  8.0\n",
       " 16.0\n",
       " 16.0\n",
       " 16.0\n",
       " 16.0\n",
       " 16.0\n",
       " 16.0\n",
       "  5.0\n",
       " 15.0\n",
       " 16.0\n",
       " 16.0\n",
       " 16.0\n",
       "  ⋮  \n",
       " 16.0\n",
       " 16.0\n",
       " 16.0\n",
       " 12.0\n",
       "  1.0\n",
       " 10.0\n",
       " 16.0\n",
       " 16.0\n",
       " 16.0\n",
       " 16.0\n",
       " 16.0\n",
       " 16.0"
      ]
     },
     "execution_count": 4,
     "metadata": {},
     "output_type": "execute_result"
    }
   ],
   "source": [
    "max_col=[maximum(D[:,j]) for j=1:64]"
   ]
  },
  {
   "cell_type": "code",
   "execution_count": 5,
   "metadata": {},
   "outputs": [
    {
     "data": {
      "text/plain": [
       "2-element Array{Int64,1}:\n",
       "  1\n",
       " 40"
      ]
     },
     "execution_count": 5,
     "metadata": {},
     "output_type": "execute_result"
    }
   ],
   "source": [
    "ind_zero=Vector{Int64}([])\n",
    "for j=1:64\n",
    "    if max_col[j]>0\n",
    "        D[:,j]/=max_col[j]\n",
    "    else\n",
    "        append!(ind_zero,j)\n",
    "    end\n",
    "end\n",
    "ind_zero"
   ]
  },
  {
   "cell_type": "code",
   "execution_count": 6,
   "metadata": {},
   "outputs": [
    {
     "data": {
      "text/plain": [
       "7646×63 Array{Float64,2}:\n",
       " 0.125  0.375   0.9375  0.75    …  0.4375  0.0625  0.0     0.0     1.0\n",
       " 0.0    0.625   1.0     0.375      0.9375  0.1875  0.0     0.0     1.0\n",
       " 0.0    0.5     0.9375  1.0        0.0     0.0     0.0     0.0     8.0\n",
       " 0.0    0.0     0.1875  0.6875     0.9375  0.125   0.0     0.0     5.0\n",
       " 0.0    0.3125  0.875   0.25       0.875   0.4375  0.0     0.0     7.0\n",
       " 0.0    0.6875  1.0     0.625   …  1.0     1.0     1.0     0.375   3.0\n",
       " 0.0    0.0625  0.6875  0.8125     0.3125  0.0     0.0     0.0     6.0\n",
       " 0.0    0.5     0.625   0.5        0.5     0.0     0.0     0.0     6.0\n",
       " 0.0    0.9375  0.125   0.875      0.3125  0.0     0.0     0.0     1.0\n",
       " 0.0    0.1875  0.8125  0.8125     0.6875  0.375   0.0     0.0     9.0\n",
       " 0.0    0.375   0.875   0.875   …  0.0     0.0     0.0     0.0     8.0\n",
       " 0.0    0.0     0.1875  1.0        0.875   0.875   0.0625  0.0     2.0\n",
       " 0.0    0.0     0.25    0.8125     0.9375  0.25    0.0     0.0    10.0\n",
       " ⋮                              ⋱                  ⋮                  \n",
       " 0.0    0.0     0.0     0.4375     0.4375  0.6875  0.0     0.0     2.0\n",
       " 0.0    0.0     0.375   0.8125  …  0.5625  0.0     0.0     0.0     5.0\n",
       " 0.0    0.0     0.375   0.5        0.5     0.0     0.0     0.0     5.0\n",
       " 0.0    0.5625  1.0     0.375      0.0625  0.0     0.0     0.0     9.0\n",
       " 0.0    0.5625  1.0     0.75       1.0     1.0     0.5     0.0    10.0\n",
       " 0.125  0.625   1.0     1.0        0.75    0.3125  0.0     0.0     4.0\n",
       " 0.0    0.375   1.0     0.6875  …  1.0     0.75    0.0625  0.0    10.0\n",
       " 0.0    0.3125  0.8125  0.6875     0.9375  0.625   0.0625  0.0    10.0\n",
       " 0.0    0.0     0.0625  0.75       0.5625  0.0     0.0     0.0     5.0\n",
       " 0.0    0.1875  0.9375  0.0        1.0     0.5625  0.0     0.0     7.0\n",
       " 0.0    0.375   1.0     0.125      1.0     1.0     0.3125  0.0     7.0\n",
       " 0.0    0.125   0.9375  1.0     …  0.0625  0.0     0.0     0.0     8.0"
      ]
     },
     "execution_count": 6,
     "metadata": {},
     "output_type": "execute_result"
    }
   ],
   "source": [
    "D=D[:,setdiff(1:65,ind_zero)]"
   ]
  },
  {
   "cell_type": "code",
   "execution_count": 7,
   "metadata": {},
   "outputs": [
    {
     "data": {
      "text/plain": [
       "7646×62 Array{Float64,2}:\n",
       " -0.75  -0.25    0.875   0.5    -0.875  …  -0.125  -0.875  -1.0    -1.0 \n",
       " -1.0    0.25    1.0    -0.25   -1.0        0.875  -0.625  -1.0    -1.0 \n",
       " -1.0    0.0     0.875   1.0     0.625     -1.0    -1.0    -1.0    -1.0 \n",
       " -1.0   -1.0    -0.625   0.375   1.0        0.875  -0.75   -1.0    -1.0 \n",
       " -1.0   -0.375   0.75   -0.5    -1.0        0.75   -0.125  -1.0    -1.0 \n",
       " -1.0    0.375   1.0     0.25   -0.875  …   1.0     1.0     1.0    -0.25\n",
       " -1.0   -0.875   0.375   0.625   0.375     -0.375  -1.0    -1.0    -1.0 \n",
       " -1.0    0.0     0.25    0.0    -0.125      0.0    -1.0    -1.0    -1.0 \n",
       " -1.0    0.875  -0.75    0.75    0.625     -0.375  -1.0    -1.0    -1.0 \n",
       " -1.0   -0.625   0.625   0.625  -0.75       0.375  -0.25   -1.0    -1.0 \n",
       " -1.0   -0.25    0.75    0.75    1.0    …  -1.0    -1.0    -1.0    -1.0 \n",
       " -1.0   -1.0    -0.625   1.0     0.375      0.75    0.75   -0.875  -1.0 \n",
       " -1.0   -1.0    -0.5     0.625   1.0        0.875  -0.5    -1.0    -1.0 \n",
       "  ⋮                                     ⋱                   ⋮           \n",
       " -1.0   -1.0    -1.0    -0.125   0.375     -0.125   0.375  -1.0    -1.0 \n",
       " -1.0   -1.0    -0.25    0.625  -1.0    …   0.125  -1.0    -1.0    -1.0 \n",
       " -1.0   -1.0    -0.25    0.0    -1.0        0.0    -1.0    -1.0    -1.0 \n",
       " -1.0    0.125   1.0    -0.25   -1.0       -0.875  -1.0    -1.0    -1.0 \n",
       " -1.0    0.125   1.0     0.5    -0.875      1.0     1.0     0.0    -1.0 \n",
       " -0.75   0.25    1.0     1.0    -0.5        0.5    -0.375  -1.0    -1.0 \n",
       " -1.0   -0.25    1.0     0.375  -1.0    …   1.0     0.5    -0.875  -1.0 \n",
       " -1.0   -0.375   0.625   0.375  -0.75       0.875   0.25   -0.875  -1.0 \n",
       " -1.0   -1.0    -0.875   0.5    -0.875      0.125  -1.0    -1.0    -1.0 \n",
       " -1.0   -0.625   0.875  -1.0    -1.0        1.0     0.125  -1.0    -1.0 \n",
       " -1.0   -0.25    1.0    -0.75   -1.0        1.0     1.0    -0.375  -1.0 \n",
       " -1.0   -0.75    0.875   1.0     0.625  …  -0.875  -1.0    -1.0    -1.0 "
      ]
     },
     "execution_count": 7,
     "metadata": {},
     "output_type": "execute_result"
    }
   ],
   "source": [
    "D[:,1:62].-=0.5\n",
    "D[:,1:62]*=2"
   ]
  },
  {
   "cell_type": "code",
   "execution_count": 8,
   "metadata": {},
   "outputs": [
    {
     "data": {
      "text/plain": [
       "7.522881761665539"
      ]
     },
     "execution_count": 8,
     "metadata": {},
     "output_type": "execute_result"
    }
   ],
   "source": [
    "using LinearAlgebra\n",
    "\n",
    "max_norm_col=maximum(norm(D[j,1:62]) for j=1:nr) "
   ]
  },
  {
   "cell_type": "code",
   "execution_count": 9,
   "metadata": {},
   "outputs": [
    {
     "data": {
      "text/plain": [
       "7646×63 Array{Float64,2}:\n",
       " -0.0996958  -0.0332319   0.116312   …  -0.132928   -0.132928    1.0\n",
       " -0.132928    0.0332319   0.132928      -0.132928   -0.132928    1.0\n",
       " -0.132928    0.0         0.116312      -0.132928   -0.132928    8.0\n",
       " -0.132928   -0.132928   -0.0830799     -0.132928   -0.132928    5.0\n",
       " -0.132928   -0.0498479   0.0996958     -0.132928   -0.132928    7.0\n",
       " -0.132928    0.0498479   0.132928   …   0.132928   -0.0332319   3.0\n",
       " -0.132928   -0.116312    0.0498479     -0.132928   -0.132928    6.0\n",
       " -0.132928    0.0         0.0332319     -0.132928   -0.132928    6.0\n",
       " -0.132928    0.116312   -0.0996958     -0.132928   -0.132928    1.0\n",
       " -0.132928   -0.0830799   0.0830799     -0.132928   -0.132928    9.0\n",
       " -0.132928   -0.0332319   0.0996958  …  -0.132928   -0.132928    8.0\n",
       " -0.132928   -0.132928   -0.0830799     -0.116312   -0.132928    2.0\n",
       " -0.132928   -0.132928   -0.0664639     -0.132928   -0.132928   10.0\n",
       "  ⋮                                  ⋱   ⋮                          \n",
       " -0.132928   -0.132928   -0.132928      -0.132928   -0.132928    2.0\n",
       " -0.132928   -0.132928   -0.0332319  …  -0.132928   -0.132928    5.0\n",
       " -0.132928   -0.132928   -0.0332319     -0.132928   -0.132928    5.0\n",
       " -0.132928    0.016616    0.132928      -0.132928   -0.132928    9.0\n",
       " -0.132928    0.016616    0.132928       0.0        -0.132928   10.0\n",
       " -0.0996958   0.0332319   0.132928      -0.132928   -0.132928    4.0\n",
       " -0.132928   -0.0332319   0.132928   …  -0.116312   -0.132928   10.0\n",
       " -0.132928   -0.0498479   0.0830799     -0.116312   -0.132928   10.0\n",
       " -0.132928   -0.132928   -0.116312      -0.132928   -0.132928    5.0\n",
       " -0.132928   -0.0830799   0.116312      -0.132928   -0.132928    7.0\n",
       " -0.132928   -0.0332319   0.132928      -0.0498479  -0.132928    7.0\n",
       " -0.132928   -0.0996958   0.116312   …  -0.132928   -0.132928    8.0"
      ]
     },
     "execution_count": 9,
     "metadata": {},
     "output_type": "execute_result"
    }
   ],
   "source": [
    "D[:,1:62]/=max_norm_col\n",
    "D"
   ]
  },
  {
   "cell_type": "code",
   "execution_count": 10,
   "metadata": {},
   "outputs": [
    {
     "data": {
      "text/plain": [
       "62"
      ]
     },
     "execution_count": 10,
     "metadata": {},
     "output_type": "execute_result"
    }
   ],
   "source": [
    "Y=Vector{Matrix{Float64}}(undef,10)\n",
    "\n",
    "for k in 1:10\n",
    "    Y[k]=D[findall(u -> u == k, D[:,end]),1:62]\n",
    "end\n",
    "N=62\n"
   ]
  },
  {
   "cell_type": "code",
   "execution_count": 11,
   "metadata": {},
   "outputs": [
    {
     "data": {
      "text/plain": [
       "774×62 Array{Float64,2}:\n",
       " -0.132928  -0.132928  -0.0830799  …  -0.0996958  -0.132928  -0.132928\n",
       " -0.132928  -0.132928  -0.116312      -0.132928   -0.132928  -0.132928\n",
       " -0.132928  -0.132928  -0.0996958     -0.0830799  -0.132928  -0.132928\n",
       " -0.132928  -0.132928  -0.0996958      0.016616   -0.132928  -0.132928\n",
       " -0.132928  -0.132928  -0.116312       0.016616   -0.132928  -0.132928\n",
       " -0.132928  -0.132928  -0.0664639  …  -0.116312   -0.132928  -0.132928\n",
       " -0.132928  -0.132928  -0.132928      -0.132928   -0.132928  -0.132928\n",
       " -0.132928  -0.132928  -0.132928      -0.0664639  -0.132928  -0.132928\n",
       " -0.132928  -0.132928  -0.0996958      0.0830799  -0.132928  -0.132928\n",
       " -0.132928  -0.132928  -0.0664639      0.016616   -0.132928  -0.132928\n",
       " -0.132928  -0.132928  -0.0664639  …  -0.132928   -0.132928  -0.132928\n",
       " -0.132928  -0.132928  -0.132928       0.0        -0.132928  -0.132928\n",
       " -0.132928  -0.132928  -0.0996958      0.0498479  -0.132928  -0.132928\n",
       "  ⋮                                ⋱               ⋮                  \n",
       " -0.132928  -0.132928  -0.0830799     -0.132928   -0.132928  -0.132928\n",
       " -0.132928  -0.132928  -0.0332319     -0.132928   -0.132928  -0.132928\n",
       " -0.132928  -0.132928  -0.0830799     -0.0498479  -0.132928  -0.132928\n",
       " -0.132928  -0.132928  -0.0498479  …  -0.132928   -0.132928  -0.132928\n",
       " -0.132928  -0.132928  -0.0830799     -0.0830799  -0.132928  -0.132928\n",
       " -0.132928  -0.132928  -0.0830799     -0.132928   -0.132928  -0.132928\n",
       " -0.132928  -0.132928   0.0664639     -0.132928   -0.132928  -0.132928\n",
       " -0.132928  -0.132928   0.016616      -0.132928   -0.132928  -0.132928\n",
       " -0.132928  -0.132928   0.0        …  -0.132928   -0.132928  -0.132928\n",
       " -0.132928  -0.132928  -0.0332319     -0.132928   -0.132928  -0.132928\n",
       " -0.132928  -0.132928  -0.0332319     -0.132928   -0.132928  -0.132928\n",
       " -0.132928  -0.132928  -0.116312      -0.132928   -0.132928  -0.132928"
      ]
     },
     "execution_count": 11,
     "metadata": {},
     "output_type": "execute_result"
    }
   ],
   "source": [
    "Y[5]"
   ]
  },
  {
   "cell_type": "code",
   "execution_count": 12,
   "metadata": {},
   "outputs": [
    {
     "data": {
      "text/plain": [
       "602×62 Array{Float64,2}:\n",
       " -0.0996958  -0.0332319   0.116312   …  -0.116312   -0.132928   -0.132928\n",
       " -0.132928    0.0332319   0.132928      -0.0830799  -0.132928   -0.132928\n",
       " -0.132928    0.116312   -0.0996958     -0.132928   -0.132928   -0.132928\n",
       " -0.0996958   0.0332319   0.116312      -0.132928   -0.132928   -0.132928\n",
       " -0.132928   -0.0996958   0.0830799     -0.0664639  -0.132928   -0.132928\n",
       " -0.132928    0.0         0.132928   …  -0.0498479  -0.132928   -0.132928\n",
       " -0.132928   -0.016616    0.0996958     -0.132928   -0.132928   -0.132928\n",
       " -0.132928    0.0332319   0.0           -0.132928   -0.132928   -0.132928\n",
       " -0.132928   -0.0996958   0.0664639      0.0        -0.132928   -0.132928\n",
       " -0.132928   -0.132928    0.0            0.016616   -0.116312   -0.132928\n",
       " -0.132928   -0.0996958   0.0830799  …   0.016616   -0.132928   -0.132928\n",
       " -0.132928   -0.0498479   0.132928       0.116312   -0.116312   -0.132928\n",
       " -0.132928   -0.0664639   0.0498479     -0.0996958  -0.132928   -0.132928\n",
       "  ⋮                                  ⋱               ⋮                   \n",
       " -0.132928   -0.016616    0.0332319  …  -0.0996958  -0.132928   -0.132928\n",
       " -0.132928   -0.0664639   0.132928       0.0332319  -0.132928   -0.132928\n",
       " -0.132928    0.0332319   0.132928      -0.0332319  -0.132928   -0.132928\n",
       " -0.132928   -0.016616    0.0664639      0.016616   -0.132928   -0.132928\n",
       " -0.132928   -0.0332319   0.116312       0.0498479  -0.132928   -0.132928\n",
       " -0.132928   -0.016616    0.0996958  …   0.016616   -0.132928   -0.132928\n",
       " -0.132928   -0.116312    0.0830799     -0.0830799  -0.132928   -0.132928\n",
       " -0.132928   -0.0332319   0.116312      -0.0332319  -0.132928   -0.132928\n",
       " -0.132928   -0.0498479   0.116312       0.0332319  -0.0996958  -0.132928\n",
       " -0.132928   -0.0830799   0.0664639     -0.116312   -0.132928   -0.132928\n",
       " -0.132928   -0.0664639   0.0830799  …   0.016616   -0.116312   -0.132928\n",
       " -0.132928   -0.0332319   0.0830799     -0.0830799  -0.132928   -0.132928"
      ]
     },
     "execution_count": 12,
     "metadata": {},
     "output_type": "execute_result"
    }
   ],
   "source": [
    "t=Vector{Int64}(undef,10)\n",
    "Y_train=Vector{Matrix{Float64}}(undef,10)\n",
    "\n",
    "for k=1:10\n",
    "    t[k]=ceil(Int64,0.8*size(Y[k],1))\n",
    "    Y_train[k]=Y[k][1:t[k],:]\n",
    "end\n",
    "\n",
    "Y_train[1]"
   ]
  },
  {
   "cell_type": "code",
   "execution_count": 13,
   "metadata": {},
   "outputs": [],
   "source": [
    "Y_test=Vector{Matrix{Float64}}(undef,10)\n",
    "\n",
    "for k=1:10\n",
    "    Y_test[k]=Y[k][(t[k]+1):end,:]\n",
    "end"
   ]
  },
  {
   "cell_type": "code",
   "execution_count": 14,
   "metadata": {},
   "outputs": [
    {
     "name": "stdout",
     "output_type": "stream",
     "text": [
      "63\n",
      "63\n",
      "63\n",
      "63\n",
      "63\n",
      "63\n",
      "63\n",
      "63\n",
      "63\n",
      "63\n"
     ]
    }
   ],
   "source": [
    "d=Vector{Int64}(undef,10)\n",
    "for k=1:10\n",
    "    d[k]=1\n",
    "    println(binomial(N+d[k],N))\n",
    "end"
   ]
  },
  {
   "cell_type": "code",
   "execution_count": null,
   "metadata": {},
   "outputs": [],
   "source": []
  },
  {
   "cell_type": "code",
   "execution_count": null,
   "metadata": {
    "scrolled": true
   },
   "outputs": [
    {
     "name": "stderr",
     "output_type": "stream",
     "text": [
      "WARNING: Force throwing a SIGINT\n",
      "Internal error: encountered unexpected error in runtime:\n",
      "InterruptException()\n",
      "sweep_page at /buildworker/worker/package_linux64/build/src/gc.c:1209 [inlined]\n",
      "sweep_pool_page at /buildworker/worker/package_linux64/build/src/gc.c:1277 [inlined]\n",
      "sweep_pool_pagetable0 at /buildworker/worker/package_linux64/build/src/gc.c:1297 [inlined]\n",
      "sweep_pool_pagetable1 at /buildworker/worker/package_linux64/build/src/gc.c:1317 [inlined]\n",
      "sweep_pool_pagetable at /buildworker/worker/package_linux64/build/src/gc.c:1347 [inlined]\n",
      "gc_sweep_pool at /buildworker/worker/package_linux64/build/src/gc.c:1422\n",
      "_jl_gc_collect at /buildworker/worker/package_linux64/build/src/gc.c:2814\n",
      "jl_gc_collect at /buildworker/worker/package_linux64/build/src/gc.c:2903\n",
      "maybe_collect at /buildworker/worker/package_linux64/build/src/gc.c:781 [inlined]\n",
      "jl_gc_pool_alloc at /buildworker/worker/package_linux64/build/src/gc.c:1096\n",
      "jl_gc_alloc_ at /buildworker/worker/package_linux64/build/src/julia_internal.h:233 [inlined]\n",
      "jl_gc_alloc at /buildworker/worker/package_linux64/build/src/gc.c:2940\n",
      "_new_array_ at /buildworker/worker/package_linux64/build/src/array.c:100 [inlined]\n",
      "_new_array at /buildworker/worker/package_linux64/build/src/array.c:163 [inlined]\n",
      "jl_alloc_array_1d at /buildworker/worker/package_linux64/build/src/array.c:424\n",
      "Array at ./boot.jl:404 [inlined]\n",
      "Array at ./boot.jl:413 [inlined]\n",
      "similar at ./abstractarray.jl:672 [inlined]\n",
      "similar at ./abstractarray.jl:671 [inlined]\n",
      "_array_for at ./array.jl:614 [inlined]\n",
      "anymap at ./compiler/utilities.jl:39\n",
      "tuple_tfunc at ./compiler/tfuncs.jl:1174\n",
      "builtin_tfunction at ./compiler/tfuncs.jl:1307\n",
      "builtin_tfunction at ./compiler/tfuncs.jl:1305 [inlined]\n",
      "abstract_call at ./compiler/abstractinterpretation.jl:663\n",
      "abstract_call at ./compiler/abstractinterpretation.jl:636\n",
      "abstract_eval_call at ./compiler/abstractinterpretation.jl:879\n",
      "abstract_eval at ./compiler/abstractinterpretation.jl:949\n",
      "typeinf_local at ./compiler/abstractinterpretation.jl:1208\n",
      "typeinf_nocycle at ./compiler/abstractinterpretation.jl:1264\n",
      "typeinf at ./compiler/typeinfer.jl:12\n",
      "abstract_call_method_with_const_args at ./compiler/abstractinterpretation.jl:243\n",
      "abstract_call_gf_by_type at ./compiler/abstractinterpretation.jl:116\n",
      "abstract_call at ./compiler/abstractinterpretation.jl:850\n",
      "abstract_call at ./compiler/abstractinterpretation.jl:636\n",
      "abstract_eval_call at ./compiler/abstractinterpretation.jl:879\n",
      "abstract_eval at ./compiler/abstractinterpretation.jl:949\n",
      "typeinf_local at ./compiler/abstractinterpretation.jl:1208\n",
      "typeinf_nocycle at ./compiler/abstractinterpretation.jl:1264\n",
      "typeinf at ./compiler/typeinfer.jl:12\n",
      "abstract_call_method_with_const_args at ./compiler/abstractinterpretation.jl:243\n",
      "abstract_call_gf_by_type at ./compiler/abstractinterpretation.jl:116\n",
      "abstract_call at ./compiler/abstractinterpretation.jl:850\n",
      "abstract_call at ./compiler/abstractinterpretation.jl:636\n",
      "abstract_eval_call at ./compiler/abstractinterpretation.jl:879\n",
      "abstract_eval at ./compiler/abstractinterpretation.jl:949\n",
      "typeinf_local at ./compiler/abstractinterpretation.jl:1208\n",
      "typeinf_nocycle at ./compiler/abstractinterpretation.jl:1264\n",
      "typeinf at ./compiler/typeinfer.jl:12\n",
      "abstract_call_method_with_const_args at ./compiler/abstractinterpretation.jl:243\n",
      "abstract_call_gf_by_type at ./compiler/abstractinterpretation.jl:116\n",
      "abstract_call at ./compiler/abstractinterpretation.jl:850\n",
      "abstract_call at ./compiler/abstractinterpretation.jl:636\n",
      "abstract_eval_call at ./compiler/abstractinterpretation.jl:879\n",
      "abstract_eval at ./compiler/abstractinterpretation.jl:949\n",
      "typeinf_local at ./compiler/abstractinterpretation.jl:1208\n",
      "typeinf_nocycle at ./compiler/abstractinterpretation.jl:1264\n",
      "typeinf at ./compiler/typeinfer.jl:12\n",
      "abstract_call_method_with_const_args at ./compiler/abstractinterpretation.jl:243\n",
      "abstract_call_gf_by_type at ./compiler/abstractinterpretation.jl:116\n",
      "abstract_call at ./compiler/abstractinterpretation.jl:850\n",
      "abstract_call at ./compiler/abstractinterpretation.jl:636\n",
      "abstract_eval_call at ./compiler/abstractinterpretation.jl:879\n",
      "abstract_eval at ./compiler/abstractinterpretation.jl:949\n",
      "typeinf_local at ./compiler/abstractinterpretation.jl:1208\n",
      "typeinf_nocycle at ./compiler/abstractinterpretation.jl:1264\n",
      "typeinf at ./compiler/typeinfer.jl:12\n",
      "abstract_call_method_with_const_args at ./compiler/abstractinterpretation.jl:243\n",
      "abstract_call_gf_by_type at ./compiler/abstractinterpretation.jl:116\n",
      "abstract_call at ./compiler/abstractinterpretation.jl:850\n",
      "abstract_call at ./compiler/abstractinterpretation.jl:636\n",
      "abstract_eval_call at ./compiler/abstractinterpretation.jl:879\n",
      "abstract_eval at ./compiler/abstractinterpretation.jl:949\n",
      "typeinf_local at ./compiler/abstractinterpretation.jl:1208\n",
      "typeinf_nocycle at ./compiler/abstractinterpretation.jl:1264\n",
      "typeinf at ./compiler/typeinfer.jl:12\n",
      "abstract_call_method_with_const_args at ./compiler/abstractinterpretation.jl:243\n",
      "abstract_call_gf_by_type at ./compiler/abstractinterpretation.jl:116\n",
      "abstract_call at ./compiler/abstractinterpretation.jl:850\n",
      "abstract_call at ./compiler/abstractinterpretation.jl:636\n",
      "abstract_eval_call at ./compiler/abstractinterpretation.jl:879\n",
      "abstract_eval at ./compiler/abstractinterpretation.jl:949\n",
      "typeinf_local at ./compiler/abstractinterpretation.jl:1208\n",
      "typeinf_nocycle at ./compiler/abstractinterpretation.jl:1264\n",
      "typeinf at ./compiler/typeinfer.jl:12\n",
      "abstract_call_method_with_const_args at ./compiler/abstractinterpretation.jl:243\n",
      "abstract_call_gf_by_type at ./compiler/abstractinterpretation.jl:116\n",
      "abstract_call at ./compiler/abstractinterpretation.jl:850\n",
      "abstract_call at ./compiler/abstractinterpretation.jl:636\n",
      "abstract_eval_call at ./compiler/abstractinterpretation.jl:879\n",
      "abstract_eval at ./compiler/abstractinterpretation.jl:949\n",
      "typeinf_local at ./compiler/abstractinterpretation.jl:1208\n",
      "typeinf_nocycle at ./compiler/abstractinterpretation.jl:1264\n",
      "typeinf at ./compiler/typeinfer.jl:12\n",
      "typeinf_edge at ./compiler/typeinfer.jl:488\n",
      "abstract_call_method at ./compiler/abstractinterpretation.jl:396\n",
      "abstract_call_gf_by_type at ./compiler/abstractinterpretation.jl:93\n",
      "abstract_call at ./compiler/abstractinterpretation.jl:850\n",
      "abstract_call at ./compiler/abstractinterpretation.jl:636\n",
      "abstract_eval_call at ./compiler/abstractinterpretation.jl:879\n",
      "abstract_eval at ./compiler/abstractinterpretation.jl:949\n",
      "typeinf_local at ./compiler/abstractinterpretation.jl:1194\n",
      "typeinf_nocycle at ./compiler/abstractinterpretation.jl:1264\n",
      "typeinf at ./compiler/typeinfer.jl:12\n",
      "typeinf_edge at ./compiler/typeinfer.jl:488\n",
      "abstract_call_method at ./compiler/abstractinterpretation.jl:396\n",
      "abstract_call_gf_by_type at ./compiler/abstractinterpretation.jl:93\n",
      "abstract_call at ./compiler/abstractinterpretation.jl:850\n",
      "abstract_call at ./compiler/abstractinterpretation.jl:636\n",
      "abstract_eval_call at ./compiler/abstractinterpretation.jl:879\n",
      "abstract_eval at ./compiler/abstractinterpretation.jl:949\n",
      "typeinf_local at ./compiler/abstractinterpretation.jl:1208\n",
      "typeinf_nocycle at ./compiler/abstractinterpretation.jl:1264\n",
      "typeinf at ./compiler/typeinfer.jl:12\n",
      "typeinf_edge at ./compiler/typeinfer.jl:488\n",
      "abstract_call_method at ./compiler/abstractinterpretation.jl:396\n",
      "abstract_call_gf_by_type at ./compiler/abstractinterpretation.jl:93\n",
      "abstract_call at ./compiler/abstractinterpretation.jl:850\n",
      "abstract_call at ./compiler/abstractinterpretation.jl:636\n",
      "abstract_eval_call at ./compiler/abstractinterpretation.jl:879\n",
      "abstract_eval at ./compiler/abstractinterpretation.jl:949\n",
      "typeinf_local at ./compiler/abstractinterpretation.jl:1208\n",
      "typeinf_nocycle at ./compiler/abstractinterpretation.jl:1264\n",
      "typeinf at ./compiler/typeinfer.jl:12\n",
      "typeinf_edge at ./compiler/typeinfer.jl:488\n",
      "abstract_call_method at ./compiler/abstractinterpretation.jl:396\n",
      "abstract_call_gf_by_type at ./compiler/abstractinterpretation.jl:93\n",
      "abstract_call at ./compiler/abstractinterpretation.jl:850\n",
      "abstract_call at ./compiler/abstractinterpretation.jl:636\n",
      "abstract_eval_call at ./compiler/abstractinterpretation.jl:879\n",
      "abstract_eval at ./compiler/abstractinterpretation.jl:949\n",
      "typeinf_local at ./compiler/abstractinterpretation.jl:1208\n",
      "typeinf_nocycle at ./compiler/abstractinterpretation.jl:1264\n",
      "typeinf at ./compiler/typeinfer.jl:12\n",
      "typeinf_edge at ./compiler/typeinfer.jl:488\n",
      "abstract_call_method at ./compiler/abstractinterpretation.jl:396\n",
      "abstract_call_gf_by_type at ./compiler/abstractinterpretation.jl:93\n",
      "abstract_call at ./compiler/abstractinterpretation.jl:850\n",
      "abstract_call at ./compiler/abstractinterpretation.jl:636\n",
      "abstract_eval_call at ./compiler/abstractinterpretation.jl:879\n",
      "abstract_eval at ./compiler/abstractinterpretation.jl:949\n",
      "typeinf_local at ./compiler/abstractinterpretation.jl:1208\n",
      "typeinf_nocycle at ./compiler/abstractinterpretation.jl:1264\n",
      "typeinf at ./compiler/typeinfer.jl:12\n",
      "typeinf_edge at ./compiler/typeinfer.jl:488\n",
      "abstract_call_method at ./compiler/abstractinterpretation.jl:396\n",
      "abstract_call_gf_by_type at ./compiler/abstractinterpretation.jl:93\n",
      "abstract_call at ./compiler/abstractinterpretation.jl:850\n",
      "abstract_call at ./compiler/abstractinterpretation.jl:636\n",
      "abstract_eval_call at ./compiler/abstractinterpretation.jl:879\n",
      "abstract_eval at ./compiler/abstractinterpretation.jl:949\n",
      "typeinf_local at ./compiler/abstractinterpretation.jl:1208\n",
      "typeinf_nocycle at ./compiler/abstractinterpretation.jl:1264\n",
      "typeinf at ./compiler/typeinfer.jl:12\n",
      "typeinf_ext at ./compiler/typeinfer.jl:574\n",
      "typeinf_ext at ./compiler/typeinfer.jl:605\n",
      "jfptr_typeinf_ext_1.clone_1 at /home/hoanganh/julia-1.3.0/lib/julia/sys.so (unknown line)\n",
      "_jl_invoke at /buildworker/worker/package_linux64/build/src/gf.c:2135 [inlined]\n",
      "jl_apply_generic at /buildworker/worker/package_linux64/build/src/gf.c:2305\n",
      "jl_apply at /buildworker/worker/package_linux64/build/src/julia.h:1631 [inlined]\n",
      "jl_type_infer at /buildworker/worker/package_linux64/build/src/gf.c:209\n",
      "jl_compile_method_internal at /buildworker/worker/package_linux64/build/src/gf.c:1879\n",
      "_jl_invoke at /buildworker/worker/package_linux64/build/src/gf.c:2140 [inlined]\n",
      "jl_apply_generic at /buildworker/worker/package_linux64/build/src/gf.c:2305\n",
      "jl_apply at /buildworker/worker/package_linux64/build/src/julia.h:1631 [inlined]\n",
      "jl_f__apply at /buildworker/worker/package_linux64/build/src/builtins.c:627\n",
      "jl_f__apply_latest at /buildworker/worker/package_linux64/build/src/builtins.c:665\n",
      "#invokelatest#1 at ./essentials.jl:709 [inlined]\n",
      "invokelatest at ./essentials.jl:708 [inlined]\n",
      "eventloop at /home/hoanganh/.julia/packages/IJulia/a1SNk/src/eventloop.jl:8\n",
      "#15 at ./task.jl:333\n",
      "unknown function (ip: 0x7f8976198c7c)\n",
      "_jl_invoke at /buildworker/worker/package_linux64/build/src/gf.c:2141 [inlined]\n",
      "jl_apply_generic at /buildworker/worker/package_linux64/build/src/gf.c:2305\n",
      "jl_apply at /buildworker/worker/package_linux64/build/src/julia.h:1631 [inlined]\n",
      "start_task at /buildworker/worker/package_linux64/build/src/task.c:659\n",
      "unknown function (ip: 0xffffffffffffffff)\n"
     ]
    }
   ],
   "source": [
    "include(\"../src/DensityEstimation.jl\")\n",
    "using .DensityEstimation\n",
    "\n",
    "\n",
    "R=Vector{Int64}(undef,10)\n",
    "x=Vector{Vector{Float64}}(undef,10)\n",
    "\n",
    "@time begin\n",
    "for k=1:10\n",
    "    println(\"Class \",k)\n",
    "    println()\n",
    "    R[k]=1\n",
    "    x[k]=DensityEstimation.solve_opt(N,Y_train[k],t[k],R[k],d[k];delta=1,s=1,rho=1,\n",
    "                         numiter=1e5,eps=-1e-3,tol_eig=1e-3,ball_cons=true,feas_start=false);\n",
    "end\n",
    "end"
   ]
  },
  {
   "cell_type": "code",
   "execution_count": null,
   "metadata": {},
   "outputs": [],
   "source": [
    "include(\"../src/DensityEstimation.jl\")\n",
    "using .DensityEstimation\n",
    "\n",
    "eval_PDF=Vector{Function}(undef,10)\n",
    "\n",
    "for k=1:10\n",
    "    eval_PDF[k]=DensityEstimation.func_eval_PDF(x[k],N,d[k],R[k],ball_cons=true)\n",
    "end"
   ]
  },
  {
   "cell_type": "code",
   "execution_count": null,
   "metadata": {},
   "outputs": [],
   "source": [
    "function classifier(y)\n",
    "    return findmax([eval_PDF[k](y) for k=1:10])[2]\n",
    "end"
   ]
  },
  {
   "cell_type": "code",
   "execution_count": null,
   "metadata": {},
   "outputs": [],
   "source": [
    "predict=Vector{Vector{Int64}}(undef,10)\n",
    "\n",
    "for k=1:10\n",
    "    predict[k]=[classifier(Y_test[k][j,:]) for j in 1:size(Y_test[k],1)]\n",
    "end"
   ]
  },
  {
   "cell_type": "code",
   "execution_count": null,
   "metadata": {},
   "outputs": [],
   "source": [
    "numcor=Vector{Int64}(undef,10)\n",
    "\n",
    "for k=1:10\n",
    "    numcor[k]=length(findall(u -> u == k, predict[k]))\n",
    "end"
   ]
  },
  {
   "cell_type": "code",
   "execution_count": null,
   "metadata": {},
   "outputs": [],
   "source": [
    "sum(numcor)"
   ]
  },
  {
   "cell_type": "code",
   "execution_count": null,
   "metadata": {},
   "outputs": [],
   "source": [
    "accuracy=(sum(numcor))/(sum(size(Y_test[k],1) for k=1:10))"
   ]
  },
  {
   "cell_type": "code",
   "execution_count": null,
   "metadata": {},
   "outputs": [],
   "source": [
    "sum(t)"
   ]
  },
  {
   "cell_type": "code",
   "execution_count": null,
   "metadata": {},
   "outputs": [],
   "source": [
    "7646-sum(t)"
   ]
  },
  {
   "cell_type": "code",
   "execution_count": null,
   "metadata": {},
   "outputs": [],
   "source": [
    "t"
   ]
  },
  {
   "cell_type": "code",
   "execution_count": null,
   "metadata": {},
   "outputs": [],
   "source": []
  },
  {
   "cell_type": "code",
   "execution_count": null,
   "metadata": {},
   "outputs": [],
   "source": [
    "A=rand(d,d)\n"
   ]
  }
 ],
 "metadata": {
  "kernelspec": {
   "display_name": "Julia 1.3.0",
   "language": "julia",
   "name": "julia-1.3"
  },
  "language_info": {
   "file_extension": ".jl",
   "mimetype": "application/julia",
   "name": "julia",
   "version": "1.3.0"
  }
 },
 "nbformat": 4,
 "nbformat_minor": 2
}

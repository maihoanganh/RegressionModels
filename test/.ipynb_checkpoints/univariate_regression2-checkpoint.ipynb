{
 "cells": [
  {
   "cell_type": "code",
   "execution_count": 7,
   "id": "20a689df",
   "metadata": {},
   "outputs": [],
   "source": [
    "#=r=1.7\n",
    "t=41\n",
    "l=Int64((t-1)/2)\n",
    "X = zeros(Float64,t,1)\n",
    "for j in 1:t\n",
    "    X[j,1] = 2r*rand()-r\n",
    "end=#"
   ]
  },
  {
   "cell_type": "code",
   "execution_count": 8,
   "id": "4b12a2c6",
   "metadata": {},
   "outputs": [],
   "source": [
    "#=data=\"/home/hoanganh/Desktop/math-topics/algebraic_statistics/codes/datasets/plot\" # path of data\n",
    "output_file = open(data*\"/univariate_regression2_data.jl\",\"w\")\n",
    "\n",
    "write(output_file, \"r = $(r)\")\n",
    "write(output_file, \"; \\n \\n\")\n",
    "write(output_file, \"t = $(t)\")\n",
    "write(output_file, \"; \\n \\n\")\n",
    "write(output_file, \"X = \")\n",
    "show(output_file, X)\n",
    "\n",
    "close(output_file)=#"
   ]
  },
  {
   "cell_type": "code",
   "execution_count": 1,
   "id": "f3fb9dbb",
   "metadata": {},
   "outputs": [],
   "source": [
    "data=\"/home/hoanganh/Desktop/math-topics/algebraic_statistics/codes/datasets/plot\" # path of data\n",
    "include(data*\"/univariate_regression2_data.jl\");"
   ]
  },
  {
   "cell_type": "code",
   "execution_count": null,
   "id": "48e0f4c2",
   "metadata": {},
   "outputs": [],
   "source": [
    "func(a)=sin(a)+0.2*cos(5*a)#*(2*rand().-1)\n",
    "# weight (kg)\n",
    "phi = Vector{Float64}(func.(X[:,1]))"
   ]
  },
  {
   "cell_type": "code",
   "execution_count": null,
   "id": "95250123",
   "metadata": {},
   "outputs": [],
   "source": [
    "using Plots\n",
    "\n",
    "#p_exact(z)=0.5\n",
    "scatter(X[:,1], phi,label =\"input data\",color=\"Blue\")#,aspect_ratio = 1)\n",
    "plot!(func, -r, r, label =\"exact\",color=\"Red\")"
   ]
  },
  {
   "cell_type": "code",
   "execution_count": null,
   "id": "e19f6fda",
   "metadata": {},
   "outputs": [],
   "source": [
    "include(\"../src/RegressionModels.jl\")\n",
    "using .RegressionModels\n",
    "\n",
    "\n",
    "n=1\n",
    "c=Inf\n",
    "k=3\n",
    "\n",
    "\n",
    "eval_pol_approx=RegressionModels.model_pol_regress(n,X,t,c,k,phi,additional_monomials=false);"
   ]
  },
  {
   "cell_type": "code",
   "execution_count": null,
   "id": "88952684",
   "metadata": {},
   "outputs": [],
   "source": [
    "p_approx(z)=eval_pol_approx([z;zeros(n-1)])\n",
    "plot!(p_approx, -1.7, 1.7, label = \"k = $(k)\",#=legend=:bottomright,=#title = \"t = $(t)\",color=\"Orange\")"
   ]
  },
  {
   "cell_type": "code",
   "execution_count": null,
   "id": "72346de8",
   "metadata": {},
   "outputs": [],
   "source": [
    "include(\"../src/RegressionModels.jl\")\n",
    "using .RegressionModels\n",
    "\n",
    "\n",
    "n=1\n",
    "c=Inf\n",
    "k=8\n",
    "\n",
    "\n",
    "eval_pol_approx=RegressionModels.model_pol_regress(n,X,t,c,k,phi,additional_monomials=false);"
   ]
  },
  {
   "cell_type": "code",
   "execution_count": null,
   "id": "7d3d311f",
   "metadata": {},
   "outputs": [],
   "source": [
    "p_approx2(z)=eval_pol_approx([z;zeros(n-1)])\n",
    "plot!(p_approx2, -1.7, 1.7, label = \"k = $(k)\",color=\"Green\")"
   ]
  },
  {
   "cell_type": "code",
   "execution_count": null,
   "id": "9f1f18e9",
   "metadata": {},
   "outputs": [],
   "source": []
  },
  {
   "cell_type": "code",
   "execution_count": 15,
   "id": "c9d3ab88",
   "metadata": {},
   "outputs": [
    {
     "data": {
      "text/plain": [
       "\"/home/hoanganh/Desktop/math-topics/Polynomial_Regression/drafts/univariate_regression_numsamp41.png\""
      ]
     },
     "execution_count": 15,
     "metadata": {},
     "output_type": "execute_result"
    }
   ],
   "source": [
    "#savefig(\"/home/hoanganh/Desktop/math-topics/Polynomial_Regression/drafts/univariate_regression_numsamp$(t).png\")"
   ]
  },
  {
   "cell_type": "code",
   "execution_count": null,
   "id": "fbdfcafd",
   "metadata": {},
   "outputs": [],
   "source": []
  }
 ],
 "metadata": {
  "kernelspec": {
   "display_name": "Julia 1.7.1",
   "language": "julia",
   "name": "julia-1.7"
  },
  "language_info": {
   "file_extension": ".jl",
   "mimetype": "application/julia",
   "name": "julia",
   "version": "1.7.1"
  }
 },
 "nbformat": 4,
 "nbformat_minor": 5
}

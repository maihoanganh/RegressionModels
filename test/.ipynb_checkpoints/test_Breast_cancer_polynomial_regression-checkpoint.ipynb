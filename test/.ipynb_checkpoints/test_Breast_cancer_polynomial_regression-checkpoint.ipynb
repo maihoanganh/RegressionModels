{
 "cells": [
  {
   "cell_type": "code",
   "execution_count": 23,
   "id": "26ede4d0",
   "metadata": {},
   "outputs": [
    {
     "name": "stderr",
     "output_type": "stream",
     "text": [
      "┌ Warning: thread = 1 warning: only found 32 / 33 columns around data row: 1. Filling remaining columns with `missing`\n",
      "└ @ CSV /home/hoanganh/.julia/packages/CSV/1P1tQ/src/file.jl:576\n",
      "┌ Warning: thread = 1 warning: only found 32 / 33 columns around data row: 2. Filling remaining columns with `missing`\n",
      "└ @ CSV /home/hoanganh/.julia/packages/CSV/1P1tQ/src/file.jl:576\n",
      "┌ Warning: thread = 1 warning: only found 32 / 33 columns around data row: 3. Filling remaining columns with `missing`\n",
      "└ @ CSV /home/hoanganh/.julia/packages/CSV/1P1tQ/src/file.jl:576\n",
      "┌ Warning: thread = 1 warning: only found 32 / 33 columns around data row: 4. Filling remaining columns with `missing`\n",
      "└ @ CSV /home/hoanganh/.julia/packages/CSV/1P1tQ/src/file.jl:576\n",
      "┌ Warning: thread = 1 warning: only found 32 / 33 columns around data row: 5. Filling remaining columns with `missing`\n",
      "└ @ CSV /home/hoanganh/.julia/packages/CSV/1P1tQ/src/file.jl:576\n",
      "┌ Warning: thread = 1 warning: only found 32 / 33 columns around data row: 6. Filling remaining columns with `missing`\n",
      "└ @ CSV /home/hoanganh/.julia/packages/CSV/1P1tQ/src/file.jl:576\n",
      "┌ Warning: thread = 1 warning: only found 32 / 33 columns around data row: 7. Filling remaining columns with `missing`\n",
      "└ @ CSV /home/hoanganh/.julia/packages/CSV/1P1tQ/src/file.jl:576\n",
      "┌ Warning: thread = 1 warning: only found 32 / 33 columns around data row: 8. Filling remaining columns with `missing`\n",
      "└ @ CSV /home/hoanganh/.julia/packages/CSV/1P1tQ/src/file.jl:576\n",
      "┌ Warning: thread = 1 warning: only found 32 / 33 columns around data row: 9. Filling remaining columns with `missing`\n",
      "└ @ CSV /home/hoanganh/.julia/packages/CSV/1P1tQ/src/file.jl:576\n",
      "┌ Warning: thread = 1 warning: only found 32 / 33 columns around data row: 10. Filling remaining columns with `missing`\n",
      "└ @ CSV /home/hoanganh/.julia/packages/CSV/1P1tQ/src/file.jl:576\n",
      "┌ Warning: thread = 1 warning: only found 32 / 33 columns around data row: 11. Filling remaining columns with `missing`\n",
      "└ @ CSV /home/hoanganh/.julia/packages/CSV/1P1tQ/src/file.jl:576\n",
      "┌ Warning: thread = 1 warning: only found 32 / 33 columns around data row: 12. Filling remaining columns with `missing`\n",
      "└ @ CSV /home/hoanganh/.julia/packages/CSV/1P1tQ/src/file.jl:576\n",
      "┌ Warning: thread = 1 warning: only found 32 / 33 columns around data row: 13. Filling remaining columns with `missing`\n",
      "└ @ CSV /home/hoanganh/.julia/packages/CSV/1P1tQ/src/file.jl:576\n",
      "┌ Warning: thread = 1 warning: only found 32 / 33 columns around data row: 14. Filling remaining columns with `missing`\n",
      "└ @ CSV /home/hoanganh/.julia/packages/CSV/1P1tQ/src/file.jl:576\n",
      "┌ Warning: thread = 1 warning: only found 32 / 33 columns around data row: 15. Filling remaining columns with `missing`\n",
      "└ @ CSV /home/hoanganh/.julia/packages/CSV/1P1tQ/src/file.jl:576\n",
      "┌ Warning: thread = 1 warning: only found 32 / 33 columns around data row: 16. Filling remaining columns with `missing`\n",
      "└ @ CSV /home/hoanganh/.julia/packages/CSV/1P1tQ/src/file.jl:576\n",
      "┌ Warning: thread = 1 warning: only found 32 / 33 columns around data row: 17. Filling remaining columns with `missing`\n",
      "└ @ CSV /home/hoanganh/.julia/packages/CSV/1P1tQ/src/file.jl:576\n",
      "┌ Warning: thread = 1 warning: only found 32 / 33 columns around data row: 18. Filling remaining columns with `missing`\n",
      "└ @ CSV /home/hoanganh/.julia/packages/CSV/1P1tQ/src/file.jl:576\n",
      "┌ Warning: thread = 1 warning: only found 32 / 33 columns around data row: 19. Filling remaining columns with `missing`\n",
      "└ @ CSV /home/hoanganh/.julia/packages/CSV/1P1tQ/src/file.jl:576\n",
      "┌ Warning: thread = 1 warning: only found 32 / 33 columns around data row: 20. Filling remaining columns with `missing`\n",
      "└ @ CSV /home/hoanganh/.julia/packages/CSV/1P1tQ/src/file.jl:576\n",
      "┌ Warning: thread = 1 warning: only found 32 / 33 columns around data row: 21. Filling remaining columns with `missing`\n",
      "└ @ CSV /home/hoanganh/.julia/packages/CSV/1P1tQ/src/file.jl:576\n",
      "┌ Warning: thread = 1 warning: only found 32 / 33 columns around data row: 22. Filling remaining columns with `missing`\n",
      "└ @ CSV /home/hoanganh/.julia/packages/CSV/1P1tQ/src/file.jl:576\n",
      "┌ Warning: thread = 1 warning: only found 32 / 33 columns around data row: 23. Filling remaining columns with `missing`\n",
      "└ @ CSV /home/hoanganh/.julia/packages/CSV/1P1tQ/src/file.jl:576\n",
      "┌ Warning: thread = 1 warning: only found 32 / 33 columns around data row: 24. Filling remaining columns with `missing`\n",
      "└ @ CSV /home/hoanganh/.julia/packages/CSV/1P1tQ/src/file.jl:576\n",
      "┌ Warning: thread = 1 warning: only found 32 / 33 columns around data row: 25. Filling remaining columns with `missing`\n",
      "└ @ CSV /home/hoanganh/.julia/packages/CSV/1P1tQ/src/file.jl:576\n",
      "┌ Warning: thread = 1 warning: only found 32 / 33 columns around data row: 26. Filling remaining columns with `missing`\n",
      "└ @ CSV /home/hoanganh/.julia/packages/CSV/1P1tQ/src/file.jl:576\n",
      "┌ Warning: thread = 1 warning: only found 32 / 33 columns around data row: 27. Filling remaining columns with `missing`\n",
      "└ @ CSV /home/hoanganh/.julia/packages/CSV/1P1tQ/src/file.jl:576\n",
      "┌ Warning: thread = 1 warning: only found 32 / 33 columns around data row: 28. Filling remaining columns with `missing`\n",
      "└ @ CSV /home/hoanganh/.julia/packages/CSV/1P1tQ/src/file.jl:576\n",
      "┌ Warning: thread = 1 warning: only found 32 / 33 columns around data row: 29. Filling remaining columns with `missing`\n",
      "└ @ CSV /home/hoanganh/.julia/packages/CSV/1P1tQ/src/file.jl:576\n",
      "┌ Warning: thread = 1 warning: only found 32 / 33 columns around data row: 30. Filling remaining columns with `missing`\n",
      "└ @ CSV /home/hoanganh/.julia/packages/CSV/1P1tQ/src/file.jl:576\n",
      "┌ Warning: thread = 1 warning: only found 32 / 33 columns around data row: 31. Filling remaining columns with `missing`\n",
      "└ @ CSV /home/hoanganh/.julia/packages/CSV/1P1tQ/src/file.jl:576\n",
      "┌ Warning: thread = 1 warning: only found 32 / 33 columns around data row: 32. Filling remaining columns with `missing`\n",
      "└ @ CSV /home/hoanganh/.julia/packages/CSV/1P1tQ/src/file.jl:576\n",
      "┌ Warning: thread = 1 warning: only found 32 / 33 columns around data row: 33. Filling remaining columns with `missing`\n",
      "└ @ CSV /home/hoanganh/.julia/packages/CSV/1P1tQ/src/file.jl:576\n",
      "┌ Warning: thread = 1 warning: only found 32 / 33 columns around data row: 34. Filling remaining columns with `missing`\n",
      "└ @ CSV /home/hoanganh/.julia/packages/CSV/1P1tQ/src/file.jl:576\n",
      "┌ Warning: thread = 1 warning: only found 32 / 33 columns around data row: 35. Filling remaining columns with `missing`\n",
      "└ @ CSV /home/hoanganh/.julia/packages/CSV/1P1tQ/src/file.jl:576\n",
      "┌ Warning: thread = 1 warning: only found 32 / 33 columns around data row: 36. Filling remaining columns with `missing`\n",
      "└ @ CSV /home/hoanganh/.julia/packages/CSV/1P1tQ/src/file.jl:576\n",
      "┌ Warning: thread = 1 warning: only found 32 / 33 columns around data row: 37. Filling remaining columns with `missing`\n",
      "└ @ CSV /home/hoanganh/.julia/packages/CSV/1P1tQ/src/file.jl:576\n",
      "┌ Warning: thread = 1 warning: only found 32 / 33 columns around data row: 38. Filling remaining columns with `missing`\n",
      "└ @ CSV /home/hoanganh/.julia/packages/CSV/1P1tQ/src/file.jl:576\n",
      "┌ Warning: thread = 1 warning: only found 32 / 33 columns around data row: 39. Filling remaining columns with `missing`\n",
      "└ @ CSV /home/hoanganh/.julia/packages/CSV/1P1tQ/src/file.jl:576\n",
      "┌ Warning: thread = 1 warning: only found 32 / 33 columns around data row: 40. Filling remaining columns with `missing`\n",
      "└ @ CSV /home/hoanganh/.julia/packages/CSV/1P1tQ/src/file.jl:576\n",
      "┌ Warning: thread = 1 warning: only found 32 / 33 columns around data row: 41. Filling remaining columns with `missing`\n",
      "└ @ CSV /home/hoanganh/.julia/packages/CSV/1P1tQ/src/file.jl:576\n",
      "┌ Warning: thread = 1 warning: only found 32 / 33 columns around data row: 42. Filling remaining columns with `missing`\n",
      "└ @ CSV /home/hoanganh/.julia/packages/CSV/1P1tQ/src/file.jl:576\n",
      "┌ Warning: thread = 1 warning: only found 32 / 33 columns around data row: 43. Filling remaining columns with `missing`\n",
      "└ @ CSV /home/hoanganh/.julia/packages/CSV/1P1tQ/src/file.jl:576\n",
      "┌ Warning: thread = 1 warning: only found 32 / 33 columns around data row: 44. Filling remaining columns with `missing`\n",
      "└ @ CSV /home/hoanganh/.julia/packages/CSV/1P1tQ/src/file.jl:576\n",
      "┌ Warning: thread = 1 warning: only found 32 / 33 columns around data row: 45. Filling remaining columns with `missing`\n",
      "└ @ CSV /home/hoanganh/.julia/packages/CSV/1P1tQ/src/file.jl:576\n",
      "┌ Warning: thread = 1 warning: only found 32 / 33 columns around data row: 46. Filling remaining columns with `missing`\n",
      "└ @ CSV /home/hoanganh/.julia/packages/CSV/1P1tQ/src/file.jl:576\n",
      "┌ Warning: thread = 1 warning: only found 32 / 33 columns around data row: 47. Filling remaining columns with `missing`\n",
      "└ @ CSV /home/hoanganh/.julia/packages/CSV/1P1tQ/src/file.jl:576\n",
      "┌ Warning: thread = 1 warning: only found 32 / 33 columns around data row: 48. Filling remaining columns with `missing`\n",
      "└ @ CSV /home/hoanganh/.julia/packages/CSV/1P1tQ/src/file.jl:576\n",
      "┌ Warning: thread = 1 warning: only found 32 / 33 columns around data row: 49. Filling remaining columns with `missing`\n",
      "└ @ CSV /home/hoanganh/.julia/packages/CSV/1P1tQ/src/file.jl:576\n",
      "┌ Warning: thread = 1 warning: only found 32 / 33 columns around data row: 50. Filling remaining columns with `missing`\n",
      "└ @ CSV /home/hoanganh/.julia/packages/CSV/1P1tQ/src/file.jl:576\n",
      "┌ Warning: thread = 1 warning: only found 32 / 33 columns around data row: 51. Filling remaining columns with `missing`\n",
      "└ @ CSV /home/hoanganh/.julia/packages/CSV/1P1tQ/src/file.jl:576\n",
      "┌ Warning: thread = 1 warning: only found 32 / 33 columns around data row: 52. Filling remaining columns with `missing`\n",
      "└ @ CSV /home/hoanganh/.julia/packages/CSV/1P1tQ/src/file.jl:576\n",
      "┌ Warning: thread = 1 warning: only found 32 / 33 columns around data row: 53. Filling remaining columns with `missing`\n",
      "└ @ CSV /home/hoanganh/.julia/packages/CSV/1P1tQ/src/file.jl:576\n",
      "┌ Warning: thread = 1 warning: only found 32 / 33 columns around data row: 54. Filling remaining columns with `missing`\n",
      "└ @ CSV /home/hoanganh/.julia/packages/CSV/1P1tQ/src/file.jl:576\n",
      "┌ Warning: thread = 1 warning: only found 32 / 33 columns around data row: 55. Filling remaining columns with `missing`\n",
      "└ @ CSV /home/hoanganh/.julia/packages/CSV/1P1tQ/src/file.jl:576\n",
      "┌ Warning: thread = 1 warning: only found 32 / 33 columns around data row: 56. Filling remaining columns with `missing`\n",
      "└ @ CSV /home/hoanganh/.julia/packages/CSV/1P1tQ/src/file.jl:576\n"
     ]
    },
    {
     "name": "stderr",
     "output_type": "stream",
     "text": [
      "┌ Warning: thread = 1 warning: only found 32 / 33 columns around data row: 57. Filling remaining columns with `missing`\n",
      "└ @ CSV /home/hoanganh/.julia/packages/CSV/1P1tQ/src/file.jl:576\n",
      "┌ Warning: thread = 1 warning: only found 32 / 33 columns around data row: 58. Filling remaining columns with `missing`\n",
      "└ @ CSV /home/hoanganh/.julia/packages/CSV/1P1tQ/src/file.jl:576\n",
      "┌ Warning: thread = 1 warning: only found 32 / 33 columns around data row: 59. Filling remaining columns with `missing`\n",
      "└ @ CSV /home/hoanganh/.julia/packages/CSV/1P1tQ/src/file.jl:576\n",
      "┌ Warning: thread = 1 warning: only found 32 / 33 columns around data row: 60. Filling remaining columns with `missing`\n",
      "└ @ CSV /home/hoanganh/.julia/packages/CSV/1P1tQ/src/file.jl:576\n",
      "┌ Warning: thread = 1 warning: only found 32 / 33 columns around data row: 61. Filling remaining columns with `missing`\n",
      "└ @ CSV /home/hoanganh/.julia/packages/CSV/1P1tQ/src/file.jl:576\n",
      "┌ Warning: thread = 1 warning: only found 32 / 33 columns around data row: 62. Filling remaining columns with `missing`\n",
      "└ @ CSV /home/hoanganh/.julia/packages/CSV/1P1tQ/src/file.jl:576\n",
      "┌ Warning: thread = 1 warning: only found 32 / 33 columns around data row: 63. Filling remaining columns with `missing`\n",
      "└ @ CSV /home/hoanganh/.julia/packages/CSV/1P1tQ/src/file.jl:576\n",
      "┌ Warning: thread = 1 warning: only found 32 / 33 columns around data row: 64. Filling remaining columns with `missing`\n",
      "└ @ CSV /home/hoanganh/.julia/packages/CSV/1P1tQ/src/file.jl:576\n",
      "┌ Warning: thread = 1 warning: only found 32 / 33 columns around data row: 65. Filling remaining columns with `missing`\n",
      "└ @ CSV /home/hoanganh/.julia/packages/CSV/1P1tQ/src/file.jl:576\n",
      "┌ Warning: thread = 1 warning: only found 32 / 33 columns around data row: 66. Filling remaining columns with `missing`\n",
      "└ @ CSV /home/hoanganh/.julia/packages/CSV/1P1tQ/src/file.jl:576\n",
      "┌ Warning: thread = 1 warning: only found 32 / 33 columns around data row: 67. Filling remaining columns with `missing`\n",
      "└ @ CSV /home/hoanganh/.julia/packages/CSV/1P1tQ/src/file.jl:576\n",
      "┌ Warning: thread = 1 warning: only found 32 / 33 columns around data row: 68. Filling remaining columns with `missing`\n",
      "└ @ CSV /home/hoanganh/.julia/packages/CSV/1P1tQ/src/file.jl:576\n",
      "┌ Warning: thread = 1 warning: only found 32 / 33 columns around data row: 69. Filling remaining columns with `missing`\n",
      "└ @ CSV /home/hoanganh/.julia/packages/CSV/1P1tQ/src/file.jl:576\n",
      "┌ Warning: thread = 1 warning: only found 32 / 33 columns around data row: 70. Filling remaining columns with `missing`\n",
      "└ @ CSV /home/hoanganh/.julia/packages/CSV/1P1tQ/src/file.jl:576\n",
      "┌ Warning: thread = 1 warning: only found 32 / 33 columns around data row: 71. Filling remaining columns with `missing`\n",
      "└ @ CSV /home/hoanganh/.julia/packages/CSV/1P1tQ/src/file.jl:576\n",
      "┌ Warning: thread = 1 warning: only found 32 / 33 columns around data row: 72. Filling remaining columns with `missing`\n",
      "└ @ CSV /home/hoanganh/.julia/packages/CSV/1P1tQ/src/file.jl:576\n",
      "┌ Warning: thread = 1 warning: only found 32 / 33 columns around data row: 73. Filling remaining columns with `missing`\n",
      "└ @ CSV /home/hoanganh/.julia/packages/CSV/1P1tQ/src/file.jl:576\n",
      "┌ Warning: thread = 1 warning: only found 32 / 33 columns around data row: 74. Filling remaining columns with `missing`\n",
      "└ @ CSV /home/hoanganh/.julia/packages/CSV/1P1tQ/src/file.jl:576\n",
      "┌ Warning: thread = 1 warning: only found 32 / 33 columns around data row: 75. Filling remaining columns with `missing`\n",
      "└ @ CSV /home/hoanganh/.julia/packages/CSV/1P1tQ/src/file.jl:576\n",
      "┌ Warning: thread = 1 warning: only found 32 / 33 columns around data row: 76. Filling remaining columns with `missing`\n",
      "└ @ CSV /home/hoanganh/.julia/packages/CSV/1P1tQ/src/file.jl:576\n",
      "┌ Warning: thread = 1 warning: only found 32 / 33 columns around data row: 77. Filling remaining columns with `missing`\n",
      "└ @ CSV /home/hoanganh/.julia/packages/CSV/1P1tQ/src/file.jl:576\n",
      "┌ Warning: thread = 1 warning: only found 32 / 33 columns around data row: 78. Filling remaining columns with `missing`\n",
      "└ @ CSV /home/hoanganh/.julia/packages/CSV/1P1tQ/src/file.jl:576\n",
      "┌ Warning: thread = 1 warning: only found 32 / 33 columns around data row: 79. Filling remaining columns with `missing`\n",
      "└ @ CSV /home/hoanganh/.julia/packages/CSV/1P1tQ/src/file.jl:576\n",
      "┌ Warning: thread = 1 warning: only found 32 / 33 columns around data row: 80. Filling remaining columns with `missing`\n",
      "└ @ CSV /home/hoanganh/.julia/packages/CSV/1P1tQ/src/file.jl:576\n",
      "┌ Warning: thread = 1 warning: only found 32 / 33 columns around data row: 81. Filling remaining columns with `missing`\n",
      "└ @ CSV /home/hoanganh/.julia/packages/CSV/1P1tQ/src/file.jl:576\n",
      "┌ Warning: thread = 1 warning: only found 32 / 33 columns around data row: 82. Filling remaining columns with `missing`\n",
      "└ @ CSV /home/hoanganh/.julia/packages/CSV/1P1tQ/src/file.jl:576\n",
      "┌ Warning: thread = 1 warning: only found 32 / 33 columns around data row: 83. Filling remaining columns with `missing`\n",
      "└ @ CSV /home/hoanganh/.julia/packages/CSV/1P1tQ/src/file.jl:576\n",
      "┌ Warning: thread = 1 warning: only found 32 / 33 columns around data row: 84. Filling remaining columns with `missing`\n",
      "└ @ CSV /home/hoanganh/.julia/packages/CSV/1P1tQ/src/file.jl:576\n",
      "┌ Warning: thread = 1 warning: only found 32 / 33 columns around data row: 85. Filling remaining columns with `missing`\n",
      "└ @ CSV /home/hoanganh/.julia/packages/CSV/1P1tQ/src/file.jl:576\n",
      "┌ Warning: thread = 1 warning: only found 32 / 33 columns around data row: 86. Filling remaining columns with `missing`\n",
      "└ @ CSV /home/hoanganh/.julia/packages/CSV/1P1tQ/src/file.jl:576\n",
      "┌ Warning: thread = 1 warning: only found 32 / 33 columns around data row: 87. Filling remaining columns with `missing`\n",
      "└ @ CSV /home/hoanganh/.julia/packages/CSV/1P1tQ/src/file.jl:576\n",
      "┌ Warning: thread = 1 warning: only found 32 / 33 columns around data row: 88. Filling remaining columns with `missing`\n",
      "└ @ CSV /home/hoanganh/.julia/packages/CSV/1P1tQ/src/file.jl:576\n",
      "┌ Warning: thread = 1 warning: only found 32 / 33 columns around data row: 89. Filling remaining columns with `missing`\n",
      "└ @ CSV /home/hoanganh/.julia/packages/CSV/1P1tQ/src/file.jl:576\n",
      "┌ Warning: thread = 1 warning: only found 32 / 33 columns around data row: 90. Filling remaining columns with `missing`\n",
      "└ @ CSV /home/hoanganh/.julia/packages/CSV/1P1tQ/src/file.jl:576\n",
      "┌ Warning: thread = 1 warning: only found 32 / 33 columns around data row: 91. Filling remaining columns with `missing`\n",
      "└ @ CSV /home/hoanganh/.julia/packages/CSV/1P1tQ/src/file.jl:576\n",
      "┌ Warning: thread = 1 warning: only found 32 / 33 columns around data row: 92. Filling remaining columns with `missing`\n",
      "└ @ CSV /home/hoanganh/.julia/packages/CSV/1P1tQ/src/file.jl:576\n",
      "┌ Warning: thread = 1 warning: only found 32 / 33 columns around data row: 93. Filling remaining columns with `missing`\n",
      "└ @ CSV /home/hoanganh/.julia/packages/CSV/1P1tQ/src/file.jl:576\n",
      "┌ Warning: thread = 1 warning: only found 32 / 33 columns around data row: 94. Filling remaining columns with `missing`\n",
      "└ @ CSV /home/hoanganh/.julia/packages/CSV/1P1tQ/src/file.jl:576\n",
      "┌ Warning: thread = 1 warning: only found 32 / 33 columns around data row: 95. Filling remaining columns with `missing`\n",
      "└ @ CSV /home/hoanganh/.julia/packages/CSV/1P1tQ/src/file.jl:576\n",
      "┌ Warning: thread = 1 warning: only found 32 / 33 columns around data row: 96. Filling remaining columns with `missing`\n",
      "└ @ CSV /home/hoanganh/.julia/packages/CSV/1P1tQ/src/file.jl:576\n",
      "┌ Warning: thread = 1 warning: only found 32 / 33 columns around data row: 97. Filling remaining columns with `missing`\n",
      "└ @ CSV /home/hoanganh/.julia/packages/CSV/1P1tQ/src/file.jl:576\n",
      "┌ Warning: thread = 1 warning: only found 32 / 33 columns around data row: 98. Filling remaining columns with `missing`\n",
      "└ @ CSV /home/hoanganh/.julia/packages/CSV/1P1tQ/src/file.jl:576\n",
      "┌ Warning: thread = 1 warning: only found 32 / 33 columns around data row: 99. Filling remaining columns with `missing`\n",
      "└ @ CSV /home/hoanganh/.julia/packages/CSV/1P1tQ/src/file.jl:576\n",
      "┌ Warning: thread = 1 warning: only found 32 / 33 columns around data row: 100. Filling remaining columns with `missing`\n",
      "└ @ CSV /home/hoanganh/.julia/packages/CSV/1P1tQ/src/file.jl:576\n",
      "┌ Warning: thread = 1 warning: only found 32 / 33 columns around data row: 101. Filling remaining columns with `missing`\n",
      "└ @ CSV /home/hoanganh/.julia/packages/CSV/1P1tQ/src/file.jl:576\n",
      "┌ Warning: thread = 1: too many warnings, silencing any further warnings\n",
      "└ @ CSV /home/hoanganh/.julia/packages/CSV/1P1tQ/src/file.jl:581\n"
     ]
    },
    {
     "data": {
      "text/html": [
       "<div><div style = \"float: left;\"><span>569×33 DataFrame</span></div><div style = \"float: right;\"><span style = \"font-style: italic;\">544 rows omitted</span></div><div style = \"clear: both;\"></div></div><div class = \"data-frame\" style = \"overflow-x: scroll;\"><table class = \"data-frame\" style = \"margin-bottom: 6px;\"><thead><tr class = \"header\"><th class = \"rowNumber\" style = \"font-weight: bold; text-align: right;\">Row</th><th style = \"text-align: left;\">id</th><th style = \"text-align: left;\">diagnosis</th><th style = \"text-align: left;\">radius_mean</th><th style = \"text-align: left;\">texture_mean</th><th style = \"text-align: left;\">perimeter_mean</th><th style = \"text-align: left;\">area_mean</th><th style = \"text-align: left;\">smoothness_mean</th><th style = \"text-align: left;\">compactness_mean</th><th style = \"text-align: left;\">concavity_mean</th><th style = \"text-align: left;\">concave points_mean</th><th style = \"text-align: left;\">symmetry_mean</th><th style = \"text-align: left;\">fractal_dimension_mean</th><th style = \"text-align: left;\">radius_se</th><th style = \"text-align: left;\">texture_se</th><th style = \"text-align: left;\">perimeter_se</th><th style = \"text-align: left;\">area_se</th><th style = \"text-align: left;\">smoothness_se</th><th style = \"text-align: left;\">compactness_se</th><th style = \"text-align: left;\">concavity_se</th><th style = \"text-align: left;\">concave points_se</th><th style = \"text-align: left;\">symmetry_se</th><th style = \"text-align: left;\">fractal_dimension_se</th><th style = \"text-align: left;\">radius_worst</th><th style = \"text-align: left;\">texture_worst</th><th style = \"text-align: left;\">perimeter_worst</th><th style = \"text-align: left;\">area_worst</th><th style = \"text-align: left;\">smoothness_worst</th><th style = \"text-align: left;\">compactness_worst</th><th style = \"text-align: left;\">concavity_worst</th><th style = \"text-align: left;\">concave points_worst</th><th style = \"text-align: left;\">symmetry_worst</th><th style = \"text-align: left;\">fractal_dimension_worst</th><th style = \"text-align: left;\">Column33</th></tr><tr class = \"subheader headerLastRow\"><th class = \"rowNumber\" style = \"font-weight: bold; text-align: right;\"></th><th title = \"Int64\" style = \"text-align: left;\">Int64</th><th title = \"String1\" style = \"text-align: left;\">String1</th><th title = \"Float64\" style = \"text-align: left;\">Float64</th><th title = \"Float64\" style = \"text-align: left;\">Float64</th><th title = \"Float64\" style = \"text-align: left;\">Float64</th><th title = \"Float64\" style = \"text-align: left;\">Float64</th><th title = \"Float64\" style = \"text-align: left;\">Float64</th><th title = \"Float64\" style = \"text-align: left;\">Float64</th><th title = \"Float64\" style = \"text-align: left;\">Float64</th><th title = \"Float64\" style = \"text-align: left;\">Float64</th><th title = \"Float64\" style = \"text-align: left;\">Float64</th><th title = \"Float64\" style = \"text-align: left;\">Float64</th><th title = \"Float64\" style = \"text-align: left;\">Float64</th><th title = \"Float64\" style = \"text-align: left;\">Float64</th><th title = \"Float64\" style = \"text-align: left;\">Float64</th><th title = \"Float64\" style = \"text-align: left;\">Float64</th><th title = \"Float64\" style = \"text-align: left;\">Float64</th><th title = \"Float64\" style = \"text-align: left;\">Float64</th><th title = \"Float64\" style = \"text-align: left;\">Float64</th><th title = \"Float64\" style = \"text-align: left;\">Float64</th><th title = \"Float64\" style = \"text-align: left;\">Float64</th><th title = \"Float64\" style = \"text-align: left;\">Float64</th><th title = \"Float64\" style = \"text-align: left;\">Float64</th><th title = \"Float64\" style = \"text-align: left;\">Float64</th><th title = \"Float64\" style = \"text-align: left;\">Float64</th><th title = \"Float64\" style = \"text-align: left;\">Float64</th><th title = \"Float64\" style = \"text-align: left;\">Float64</th><th title = \"Float64\" style = \"text-align: left;\">Float64</th><th title = \"Float64\" style = \"text-align: left;\">Float64</th><th title = \"Float64\" style = \"text-align: left;\">Float64</th><th title = \"Float64\" style = \"text-align: left;\">Float64</th><th title = \"Float64\" style = \"text-align: left;\">Float64</th><th title = \"Missing\" style = \"text-align: left;\">Missing</th></tr></thead><tbody><tr><td class = \"rowNumber\" style = \"font-weight: bold; text-align: right;\">1</td><td style = \"text-align: right;\">842302</td><td style = \"text-align: left;\">M</td><td style = \"text-align: right;\">17.99</td><td style = \"text-align: right;\">10.38</td><td style = \"text-align: right;\">122.8</td><td style = \"text-align: right;\">1001.0</td><td style = \"text-align: right;\">0.1184</td><td style = \"text-align: right;\">0.2776</td><td style = \"text-align: right;\">0.3001</td><td style = \"text-align: right;\">0.1471</td><td style = \"text-align: right;\">0.2419</td><td style = \"text-align: right;\">0.07871</td><td style = \"text-align: right;\">1.095</td><td style = \"text-align: right;\">0.9053</td><td style = \"text-align: right;\">8.589</td><td style = \"text-align: right;\">153.4</td><td style = \"text-align: right;\">0.006399</td><td style = \"text-align: right;\">0.04904</td><td style = \"text-align: right;\">0.05373</td><td style = \"text-align: right;\">0.01587</td><td style = \"text-align: right;\">0.03003</td><td style = \"text-align: right;\">0.006193</td><td style = \"text-align: right;\">25.38</td><td style = \"text-align: right;\">17.33</td><td style = \"text-align: right;\">184.6</td><td style = \"text-align: right;\">2019.0</td><td style = \"text-align: right;\">0.1622</td><td style = \"text-align: right;\">0.6656</td><td style = \"text-align: right;\">0.7119</td><td style = \"text-align: right;\">0.2654</td><td style = \"text-align: right;\">0.4601</td><td style = \"text-align: right;\">0.1189</td><td style = \"font-style: italic; text-align: right;\">missing</td></tr><tr><td class = \"rowNumber\" style = \"font-weight: bold; text-align: right;\">2</td><td style = \"text-align: right;\">842517</td><td style = \"text-align: left;\">M</td><td style = \"text-align: right;\">20.57</td><td style = \"text-align: right;\">17.77</td><td style = \"text-align: right;\">132.9</td><td style = \"text-align: right;\">1326.0</td><td style = \"text-align: right;\">0.08474</td><td style = \"text-align: right;\">0.07864</td><td style = \"text-align: right;\">0.0869</td><td style = \"text-align: right;\">0.07017</td><td style = \"text-align: right;\">0.1812</td><td style = \"text-align: right;\">0.05667</td><td style = \"text-align: right;\">0.5435</td><td style = \"text-align: right;\">0.7339</td><td style = \"text-align: right;\">3.398</td><td style = \"text-align: right;\">74.08</td><td style = \"text-align: right;\">0.005225</td><td style = \"text-align: right;\">0.01308</td><td style = \"text-align: right;\">0.0186</td><td style = \"text-align: right;\">0.0134</td><td style = \"text-align: right;\">0.01389</td><td style = \"text-align: right;\">0.003532</td><td style = \"text-align: right;\">24.99</td><td style = \"text-align: right;\">23.41</td><td style = \"text-align: right;\">158.8</td><td style = \"text-align: right;\">1956.0</td><td style = \"text-align: right;\">0.1238</td><td style = \"text-align: right;\">0.1866</td><td style = \"text-align: right;\">0.2416</td><td style = \"text-align: right;\">0.186</td><td style = \"text-align: right;\">0.275</td><td style = \"text-align: right;\">0.08902</td><td style = \"font-style: italic; text-align: right;\">missing</td></tr><tr><td class = \"rowNumber\" style = \"font-weight: bold; text-align: right;\">3</td><td style = \"text-align: right;\">84300903</td><td style = \"text-align: left;\">M</td><td style = \"text-align: right;\">19.69</td><td style = \"text-align: right;\">21.25</td><td style = \"text-align: right;\">130.0</td><td style = \"text-align: right;\">1203.0</td><td style = \"text-align: right;\">0.1096</td><td style = \"text-align: right;\">0.1599</td><td style = \"text-align: right;\">0.1974</td><td style = \"text-align: right;\">0.1279</td><td style = \"text-align: right;\">0.2069</td><td style = \"text-align: right;\">0.05999</td><td style = \"text-align: right;\">0.7456</td><td style = \"text-align: right;\">0.7869</td><td style = \"text-align: right;\">4.585</td><td style = \"text-align: right;\">94.03</td><td style = \"text-align: right;\">0.00615</td><td style = \"text-align: right;\">0.04006</td><td style = \"text-align: right;\">0.03832</td><td style = \"text-align: right;\">0.02058</td><td style = \"text-align: right;\">0.0225</td><td style = \"text-align: right;\">0.004571</td><td style = \"text-align: right;\">23.57</td><td style = \"text-align: right;\">25.53</td><td style = \"text-align: right;\">152.5</td><td style = \"text-align: right;\">1709.0</td><td style = \"text-align: right;\">0.1444</td><td style = \"text-align: right;\">0.4245</td><td style = \"text-align: right;\">0.4504</td><td style = \"text-align: right;\">0.243</td><td style = \"text-align: right;\">0.3613</td><td style = \"text-align: right;\">0.08758</td><td style = \"font-style: italic; text-align: right;\">missing</td></tr><tr><td class = \"rowNumber\" style = \"font-weight: bold; text-align: right;\">4</td><td style = \"text-align: right;\">84348301</td><td style = \"text-align: left;\">M</td><td style = \"text-align: right;\">11.42</td><td style = \"text-align: right;\">20.38</td><td style = \"text-align: right;\">77.58</td><td style = \"text-align: right;\">386.1</td><td style = \"text-align: right;\">0.1425</td><td style = \"text-align: right;\">0.2839</td><td style = \"text-align: right;\">0.2414</td><td style = \"text-align: right;\">0.1052</td><td style = \"text-align: right;\">0.2597</td><td style = \"text-align: right;\">0.09744</td><td style = \"text-align: right;\">0.4956</td><td style = \"text-align: right;\">1.156</td><td style = \"text-align: right;\">3.445</td><td style = \"text-align: right;\">27.23</td><td style = \"text-align: right;\">0.00911</td><td style = \"text-align: right;\">0.07458</td><td style = \"text-align: right;\">0.05661</td><td style = \"text-align: right;\">0.01867</td><td style = \"text-align: right;\">0.05963</td><td style = \"text-align: right;\">0.009208</td><td style = \"text-align: right;\">14.91</td><td style = \"text-align: right;\">26.5</td><td style = \"text-align: right;\">98.87</td><td style = \"text-align: right;\">567.7</td><td style = \"text-align: right;\">0.2098</td><td style = \"text-align: right;\">0.8663</td><td style = \"text-align: right;\">0.6869</td><td style = \"text-align: right;\">0.2575</td><td style = \"text-align: right;\">0.6638</td><td style = \"text-align: right;\">0.173</td><td style = \"font-style: italic; text-align: right;\">missing</td></tr><tr><td class = \"rowNumber\" style = \"font-weight: bold; text-align: right;\">5</td><td style = \"text-align: right;\">84358402</td><td style = \"text-align: left;\">M</td><td style = \"text-align: right;\">20.29</td><td style = \"text-align: right;\">14.34</td><td style = \"text-align: right;\">135.1</td><td style = \"text-align: right;\">1297.0</td><td style = \"text-align: right;\">0.1003</td><td style = \"text-align: right;\">0.1328</td><td style = \"text-align: right;\">0.198</td><td style = \"text-align: right;\">0.1043</td><td style = \"text-align: right;\">0.1809</td><td style = \"text-align: right;\">0.05883</td><td style = \"text-align: right;\">0.7572</td><td style = \"text-align: right;\">0.7813</td><td style = \"text-align: right;\">5.438</td><td style = \"text-align: right;\">94.44</td><td style = \"text-align: right;\">0.01149</td><td style = \"text-align: right;\">0.02461</td><td style = \"text-align: right;\">0.05688</td><td style = \"text-align: right;\">0.01885</td><td style = \"text-align: right;\">0.01756</td><td style = \"text-align: right;\">0.005115</td><td style = \"text-align: right;\">22.54</td><td style = \"text-align: right;\">16.67</td><td style = \"text-align: right;\">152.2</td><td style = \"text-align: right;\">1575.0</td><td style = \"text-align: right;\">0.1374</td><td style = \"text-align: right;\">0.205</td><td style = \"text-align: right;\">0.4</td><td style = \"text-align: right;\">0.1625</td><td style = \"text-align: right;\">0.2364</td><td style = \"text-align: right;\">0.07678</td><td style = \"font-style: italic; text-align: right;\">missing</td></tr><tr><td class = \"rowNumber\" style = \"font-weight: bold; text-align: right;\">6</td><td style = \"text-align: right;\">843786</td><td style = \"text-align: left;\">M</td><td style = \"text-align: right;\">12.45</td><td style = \"text-align: right;\">15.7</td><td style = \"text-align: right;\">82.57</td><td style = \"text-align: right;\">477.1</td><td style = \"text-align: right;\">0.1278</td><td style = \"text-align: right;\">0.17</td><td style = \"text-align: right;\">0.1578</td><td style = \"text-align: right;\">0.08089</td><td style = \"text-align: right;\">0.2087</td><td style = \"text-align: right;\">0.07613</td><td style = \"text-align: right;\">0.3345</td><td style = \"text-align: right;\">0.8902</td><td style = \"text-align: right;\">2.217</td><td style = \"text-align: right;\">27.19</td><td style = \"text-align: right;\">0.00751</td><td style = \"text-align: right;\">0.03345</td><td style = \"text-align: right;\">0.03672</td><td style = \"text-align: right;\">0.01137</td><td style = \"text-align: right;\">0.02165</td><td style = \"text-align: right;\">0.005082</td><td style = \"text-align: right;\">15.47</td><td style = \"text-align: right;\">23.75</td><td style = \"text-align: right;\">103.4</td><td style = \"text-align: right;\">741.6</td><td style = \"text-align: right;\">0.1791</td><td style = \"text-align: right;\">0.5249</td><td style = \"text-align: right;\">0.5355</td><td style = \"text-align: right;\">0.1741</td><td style = \"text-align: right;\">0.3985</td><td style = \"text-align: right;\">0.1244</td><td style = \"font-style: italic; text-align: right;\">missing</td></tr><tr><td class = \"rowNumber\" style = \"font-weight: bold; text-align: right;\">7</td><td style = \"text-align: right;\">844359</td><td style = \"text-align: left;\">M</td><td style = \"text-align: right;\">18.25</td><td style = \"text-align: right;\">19.98</td><td style = \"text-align: right;\">119.6</td><td style = \"text-align: right;\">1040.0</td><td style = \"text-align: right;\">0.09463</td><td style = \"text-align: right;\">0.109</td><td style = \"text-align: right;\">0.1127</td><td style = \"text-align: right;\">0.074</td><td style = \"text-align: right;\">0.1794</td><td style = \"text-align: right;\">0.05742</td><td style = \"text-align: right;\">0.4467</td><td style = \"text-align: right;\">0.7732</td><td style = \"text-align: right;\">3.18</td><td style = \"text-align: right;\">53.91</td><td style = \"text-align: right;\">0.004314</td><td style = \"text-align: right;\">0.01382</td><td style = \"text-align: right;\">0.02254</td><td style = \"text-align: right;\">0.01039</td><td style = \"text-align: right;\">0.01369</td><td style = \"text-align: right;\">0.002179</td><td style = \"text-align: right;\">22.88</td><td style = \"text-align: right;\">27.66</td><td style = \"text-align: right;\">153.2</td><td style = \"text-align: right;\">1606.0</td><td style = \"text-align: right;\">0.1442</td><td style = \"text-align: right;\">0.2576</td><td style = \"text-align: right;\">0.3784</td><td style = \"text-align: right;\">0.1932</td><td style = \"text-align: right;\">0.3063</td><td style = \"text-align: right;\">0.08368</td><td style = \"font-style: italic; text-align: right;\">missing</td></tr><tr><td class = \"rowNumber\" style = \"font-weight: bold; text-align: right;\">8</td><td style = \"text-align: right;\">84458202</td><td style = \"text-align: left;\">M</td><td style = \"text-align: right;\">13.71</td><td style = \"text-align: right;\">20.83</td><td style = \"text-align: right;\">90.2</td><td style = \"text-align: right;\">577.9</td><td style = \"text-align: right;\">0.1189</td><td style = \"text-align: right;\">0.1645</td><td style = \"text-align: right;\">0.09366</td><td style = \"text-align: right;\">0.05985</td><td style = \"text-align: right;\">0.2196</td><td style = \"text-align: right;\">0.07451</td><td style = \"text-align: right;\">0.5835</td><td style = \"text-align: right;\">1.377</td><td style = \"text-align: right;\">3.856</td><td style = \"text-align: right;\">50.96</td><td style = \"text-align: right;\">0.008805</td><td style = \"text-align: right;\">0.03029</td><td style = \"text-align: right;\">0.02488</td><td style = \"text-align: right;\">0.01448</td><td style = \"text-align: right;\">0.01486</td><td style = \"text-align: right;\">0.005412</td><td style = \"text-align: right;\">17.06</td><td style = \"text-align: right;\">28.14</td><td style = \"text-align: right;\">110.6</td><td style = \"text-align: right;\">897.0</td><td style = \"text-align: right;\">0.1654</td><td style = \"text-align: right;\">0.3682</td><td style = \"text-align: right;\">0.2678</td><td style = \"text-align: right;\">0.1556</td><td style = \"text-align: right;\">0.3196</td><td style = \"text-align: right;\">0.1151</td><td style = \"font-style: italic; text-align: right;\">missing</td></tr><tr><td class = \"rowNumber\" style = \"font-weight: bold; text-align: right;\">9</td><td style = \"text-align: right;\">844981</td><td style = \"text-align: left;\">M</td><td style = \"text-align: right;\">13.0</td><td style = \"text-align: right;\">21.82</td><td style = \"text-align: right;\">87.5</td><td style = \"text-align: right;\">519.8</td><td style = \"text-align: right;\">0.1273</td><td style = \"text-align: right;\">0.1932</td><td style = \"text-align: right;\">0.1859</td><td style = \"text-align: right;\">0.09353</td><td style = \"text-align: right;\">0.235</td><td style = \"text-align: right;\">0.07389</td><td style = \"text-align: right;\">0.3063</td><td style = \"text-align: right;\">1.002</td><td style = \"text-align: right;\">2.406</td><td style = \"text-align: right;\">24.32</td><td style = \"text-align: right;\">0.005731</td><td style = \"text-align: right;\">0.03502</td><td style = \"text-align: right;\">0.03553</td><td style = \"text-align: right;\">0.01226</td><td style = \"text-align: right;\">0.02143</td><td style = \"text-align: right;\">0.003749</td><td style = \"text-align: right;\">15.49</td><td style = \"text-align: right;\">30.73</td><td style = \"text-align: right;\">106.2</td><td style = \"text-align: right;\">739.3</td><td style = \"text-align: right;\">0.1703</td><td style = \"text-align: right;\">0.5401</td><td style = \"text-align: right;\">0.539</td><td style = \"text-align: right;\">0.206</td><td style = \"text-align: right;\">0.4378</td><td style = \"text-align: right;\">0.1072</td><td style = \"font-style: italic; text-align: right;\">missing</td></tr><tr><td class = \"rowNumber\" style = \"font-weight: bold; text-align: right;\">10</td><td style = \"text-align: right;\">84501001</td><td style = \"text-align: left;\">M</td><td style = \"text-align: right;\">12.46</td><td style = \"text-align: right;\">24.04</td><td style = \"text-align: right;\">83.97</td><td style = \"text-align: right;\">475.9</td><td style = \"text-align: right;\">0.1186</td><td style = \"text-align: right;\">0.2396</td><td style = \"text-align: right;\">0.2273</td><td style = \"text-align: right;\">0.08543</td><td style = \"text-align: right;\">0.203</td><td style = \"text-align: right;\">0.08243</td><td style = \"text-align: right;\">0.2976</td><td style = \"text-align: right;\">1.599</td><td style = \"text-align: right;\">2.039</td><td style = \"text-align: right;\">23.94</td><td style = \"text-align: right;\">0.007149</td><td style = \"text-align: right;\">0.07217</td><td style = \"text-align: right;\">0.07743</td><td style = \"text-align: right;\">0.01432</td><td style = \"text-align: right;\">0.01789</td><td style = \"text-align: right;\">0.01008</td><td style = \"text-align: right;\">15.09</td><td style = \"text-align: right;\">40.68</td><td style = \"text-align: right;\">97.65</td><td style = \"text-align: right;\">711.4</td><td style = \"text-align: right;\">0.1853</td><td style = \"text-align: right;\">1.058</td><td style = \"text-align: right;\">1.105</td><td style = \"text-align: right;\">0.221</td><td style = \"text-align: right;\">0.4366</td><td style = \"text-align: right;\">0.2075</td><td style = \"font-style: italic; text-align: right;\">missing</td></tr><tr><td class = \"rowNumber\" style = \"font-weight: bold; text-align: right;\">11</td><td style = \"text-align: right;\">845636</td><td style = \"text-align: left;\">M</td><td style = \"text-align: right;\">16.02</td><td style = \"text-align: right;\">23.24</td><td style = \"text-align: right;\">102.7</td><td style = \"text-align: right;\">797.8</td><td style = \"text-align: right;\">0.08206</td><td style = \"text-align: right;\">0.06669</td><td style = \"text-align: right;\">0.03299</td><td style = \"text-align: right;\">0.03323</td><td style = \"text-align: right;\">0.1528</td><td style = \"text-align: right;\">0.05697</td><td style = \"text-align: right;\">0.3795</td><td style = \"text-align: right;\">1.187</td><td style = \"text-align: right;\">2.466</td><td style = \"text-align: right;\">40.51</td><td style = \"text-align: right;\">0.004029</td><td style = \"text-align: right;\">0.009269</td><td style = \"text-align: right;\">0.01101</td><td style = \"text-align: right;\">0.007591</td><td style = \"text-align: right;\">0.0146</td><td style = \"text-align: right;\">0.003042</td><td style = \"text-align: right;\">19.19</td><td style = \"text-align: right;\">33.88</td><td style = \"text-align: right;\">123.8</td><td style = \"text-align: right;\">1150.0</td><td style = \"text-align: right;\">0.1181</td><td style = \"text-align: right;\">0.1551</td><td style = \"text-align: right;\">0.1459</td><td style = \"text-align: right;\">0.09975</td><td style = \"text-align: right;\">0.2948</td><td style = \"text-align: right;\">0.08452</td><td style = \"font-style: italic; text-align: right;\">missing</td></tr><tr><td class = \"rowNumber\" style = \"font-weight: bold; text-align: right;\">12</td><td style = \"text-align: right;\">84610002</td><td style = \"text-align: left;\">M</td><td style = \"text-align: right;\">15.78</td><td style = \"text-align: right;\">17.89</td><td style = \"text-align: right;\">103.6</td><td style = \"text-align: right;\">781.0</td><td style = \"text-align: right;\">0.0971</td><td style = \"text-align: right;\">0.1292</td><td style = \"text-align: right;\">0.09954</td><td style = \"text-align: right;\">0.06606</td><td style = \"text-align: right;\">0.1842</td><td style = \"text-align: right;\">0.06082</td><td style = \"text-align: right;\">0.5058</td><td style = \"text-align: right;\">0.9849</td><td style = \"text-align: right;\">3.564</td><td style = \"text-align: right;\">54.16</td><td style = \"text-align: right;\">0.005771</td><td style = \"text-align: right;\">0.04061</td><td style = \"text-align: right;\">0.02791</td><td style = \"text-align: right;\">0.01282</td><td style = \"text-align: right;\">0.02008</td><td style = \"text-align: right;\">0.004144</td><td style = \"text-align: right;\">20.42</td><td style = \"text-align: right;\">27.28</td><td style = \"text-align: right;\">136.5</td><td style = \"text-align: right;\">1299.0</td><td style = \"text-align: right;\">0.1396</td><td style = \"text-align: right;\">0.5609</td><td style = \"text-align: right;\">0.3965</td><td style = \"text-align: right;\">0.181</td><td style = \"text-align: right;\">0.3792</td><td style = \"text-align: right;\">0.1048</td><td style = \"font-style: italic; text-align: right;\">missing</td></tr><tr><td class = \"rowNumber\" style = \"font-weight: bold; text-align: right;\">13</td><td style = \"text-align: right;\">846226</td><td style = \"text-align: left;\">M</td><td style = \"text-align: right;\">19.17</td><td style = \"text-align: right;\">24.8</td><td style = \"text-align: right;\">132.4</td><td style = \"text-align: right;\">1123.0</td><td style = \"text-align: right;\">0.0974</td><td style = \"text-align: right;\">0.2458</td><td style = \"text-align: right;\">0.2065</td><td style = \"text-align: right;\">0.1118</td><td style = \"text-align: right;\">0.2397</td><td style = \"text-align: right;\">0.078</td><td style = \"text-align: right;\">0.9555</td><td style = \"text-align: right;\">3.568</td><td style = \"text-align: right;\">11.07</td><td style = \"text-align: right;\">116.2</td><td style = \"text-align: right;\">0.003139</td><td style = \"text-align: right;\">0.08297</td><td style = \"text-align: right;\">0.0889</td><td style = \"text-align: right;\">0.0409</td><td style = \"text-align: right;\">0.04484</td><td style = \"text-align: right;\">0.01284</td><td style = \"text-align: right;\">20.96</td><td style = \"text-align: right;\">29.94</td><td style = \"text-align: right;\">151.7</td><td style = \"text-align: right;\">1332.0</td><td style = \"text-align: right;\">0.1037</td><td style = \"text-align: right;\">0.3903</td><td style = \"text-align: right;\">0.3639</td><td style = \"text-align: right;\">0.1767</td><td style = \"text-align: right;\">0.3176</td><td style = \"text-align: right;\">0.1023</td><td style = \"font-style: italic; text-align: right;\">missing</td></tr><tr><td style = \"text-align: right;\">&vellip;</td><td style = \"text-align: right;\">&vellip;</td><td style = \"text-align: right;\">&vellip;</td><td style = \"text-align: right;\">&vellip;</td><td style = \"text-align: right;\">&vellip;</td><td style = \"text-align: right;\">&vellip;</td><td style = \"text-align: right;\">&vellip;</td><td style = \"text-align: right;\">&vellip;</td><td style = \"text-align: right;\">&vellip;</td><td style = \"text-align: right;\">&vellip;</td><td style = \"text-align: right;\">&vellip;</td><td style = \"text-align: right;\">&vellip;</td><td style = \"text-align: right;\">&vellip;</td><td style = \"text-align: right;\">&vellip;</td><td style = \"text-align: right;\">&vellip;</td><td style = \"text-align: right;\">&vellip;</td><td style = \"text-align: right;\">&vellip;</td><td style = \"text-align: right;\">&vellip;</td><td style = \"text-align: right;\">&vellip;</td><td style = \"text-align: right;\">&vellip;</td><td style = \"text-align: right;\">&vellip;</td><td style = \"text-align: right;\">&vellip;</td><td style = \"text-align: right;\">&vellip;</td><td style = \"text-align: right;\">&vellip;</td><td style = \"text-align: right;\">&vellip;</td><td style = \"text-align: right;\">&vellip;</td><td style = \"text-align: right;\">&vellip;</td><td style = \"text-align: right;\">&vellip;</td><td style = \"text-align: right;\">&vellip;</td><td style = \"text-align: right;\">&vellip;</td><td style = \"text-align: right;\">&vellip;</td><td style = \"text-align: right;\">&vellip;</td><td style = \"text-align: right;\">&vellip;</td><td style = \"text-align: right;\">&vellip;</td></tr><tr><td class = \"rowNumber\" style = \"font-weight: bold; text-align: right;\">558</td><td style = \"text-align: right;\">925236</td><td style = \"text-align: left;\">B</td><td style = \"text-align: right;\">9.423</td><td style = \"text-align: right;\">27.88</td><td style = \"text-align: right;\">59.26</td><td style = \"text-align: right;\">271.3</td><td style = \"text-align: right;\">0.08123</td><td style = \"text-align: right;\">0.04971</td><td style = \"text-align: right;\">0.0</td><td style = \"text-align: right;\">0.0</td><td style = \"text-align: right;\">0.1742</td><td style = \"text-align: right;\">0.06059</td><td style = \"text-align: right;\">0.5375</td><td style = \"text-align: right;\">2.927</td><td style = \"text-align: right;\">3.618</td><td style = \"text-align: right;\">29.11</td><td style = \"text-align: right;\">0.01159</td><td style = \"text-align: right;\">0.01124</td><td style = \"text-align: right;\">0.0</td><td style = \"text-align: right;\">0.0</td><td style = \"text-align: right;\">0.03004</td><td style = \"text-align: right;\">0.003324</td><td style = \"text-align: right;\">10.49</td><td style = \"text-align: right;\">34.24</td><td style = \"text-align: right;\">66.5</td><td style = \"text-align: right;\">330.6</td><td style = \"text-align: right;\">0.1073</td><td style = \"text-align: right;\">0.07158</td><td style = \"text-align: right;\">0.0</td><td style = \"text-align: right;\">0.0</td><td style = \"text-align: right;\">0.2475</td><td style = \"text-align: right;\">0.06969</td><td style = \"font-style: italic; text-align: right;\">missing</td></tr><tr><td class = \"rowNumber\" style = \"font-weight: bold; text-align: right;\">559</td><td style = \"text-align: right;\">925277</td><td style = \"text-align: left;\">B</td><td style = \"text-align: right;\">14.59</td><td style = \"text-align: right;\">22.68</td><td style = \"text-align: right;\">96.39</td><td style = \"text-align: right;\">657.1</td><td style = \"text-align: right;\">0.08473</td><td style = \"text-align: right;\">0.133</td><td style = \"text-align: right;\">0.1029</td><td style = \"text-align: right;\">0.03736</td><td style = \"text-align: right;\">0.1454</td><td style = \"text-align: right;\">0.06147</td><td style = \"text-align: right;\">0.2254</td><td style = \"text-align: right;\">1.108</td><td style = \"text-align: right;\">2.224</td><td style = \"text-align: right;\">19.54</td><td style = \"text-align: right;\">0.004242</td><td style = \"text-align: right;\">0.04639</td><td style = \"text-align: right;\">0.06578</td><td style = \"text-align: right;\">0.01606</td><td style = \"text-align: right;\">0.01638</td><td style = \"text-align: right;\">0.004406</td><td style = \"text-align: right;\">15.48</td><td style = \"text-align: right;\">27.27</td><td style = \"text-align: right;\">105.9</td><td style = \"text-align: right;\">733.5</td><td style = \"text-align: right;\">0.1026</td><td style = \"text-align: right;\">0.3171</td><td style = \"text-align: right;\">0.3662</td><td style = \"text-align: right;\">0.1105</td><td style = \"text-align: right;\">0.2258</td><td style = \"text-align: right;\">0.08004</td><td style = \"font-style: italic; text-align: right;\">missing</td></tr><tr><td class = \"rowNumber\" style = \"font-weight: bold; text-align: right;\">560</td><td style = \"text-align: right;\">925291</td><td style = \"text-align: left;\">B</td><td style = \"text-align: right;\">11.51</td><td style = \"text-align: right;\">23.93</td><td style = \"text-align: right;\">74.52</td><td style = \"text-align: right;\">403.5</td><td style = \"text-align: right;\">0.09261</td><td style = \"text-align: right;\">0.1021</td><td style = \"text-align: right;\">0.1112</td><td style = \"text-align: right;\">0.04105</td><td style = \"text-align: right;\">0.1388</td><td style = \"text-align: right;\">0.0657</td><td style = \"text-align: right;\">0.2388</td><td style = \"text-align: right;\">2.904</td><td style = \"text-align: right;\">1.936</td><td style = \"text-align: right;\">16.97</td><td style = \"text-align: right;\">0.0082</td><td style = \"text-align: right;\">0.02982</td><td style = \"text-align: right;\">0.05738</td><td style = \"text-align: right;\">0.01267</td><td style = \"text-align: right;\">0.01488</td><td style = \"text-align: right;\">0.004738</td><td style = \"text-align: right;\">12.48</td><td style = \"text-align: right;\">37.16</td><td style = \"text-align: right;\">82.28</td><td style = \"text-align: right;\">474.2</td><td style = \"text-align: right;\">0.1298</td><td style = \"text-align: right;\">0.2517</td><td style = \"text-align: right;\">0.363</td><td style = \"text-align: right;\">0.09653</td><td style = \"text-align: right;\">0.2112</td><td style = \"text-align: right;\">0.08732</td><td style = \"font-style: italic; text-align: right;\">missing</td></tr><tr><td class = \"rowNumber\" style = \"font-weight: bold; text-align: right;\">561</td><td style = \"text-align: right;\">925292</td><td style = \"text-align: left;\">B</td><td style = \"text-align: right;\">14.05</td><td style = \"text-align: right;\">27.15</td><td style = \"text-align: right;\">91.38</td><td style = \"text-align: right;\">600.4</td><td style = \"text-align: right;\">0.09929</td><td style = \"text-align: right;\">0.1126</td><td style = \"text-align: right;\">0.04462</td><td style = \"text-align: right;\">0.04304</td><td style = \"text-align: right;\">0.1537</td><td style = \"text-align: right;\">0.06171</td><td style = \"text-align: right;\">0.3645</td><td style = \"text-align: right;\">1.492</td><td style = \"text-align: right;\">2.888</td><td style = \"text-align: right;\">29.84</td><td style = \"text-align: right;\">0.007256</td><td style = \"text-align: right;\">0.02678</td><td style = \"text-align: right;\">0.02071</td><td style = \"text-align: right;\">0.01626</td><td style = \"text-align: right;\">0.0208</td><td style = \"text-align: right;\">0.005304</td><td style = \"text-align: right;\">15.3</td><td style = \"text-align: right;\">33.17</td><td style = \"text-align: right;\">100.2</td><td style = \"text-align: right;\">706.7</td><td style = \"text-align: right;\">0.1241</td><td style = \"text-align: right;\">0.2264</td><td style = \"text-align: right;\">0.1326</td><td style = \"text-align: right;\">0.1048</td><td style = \"text-align: right;\">0.225</td><td style = \"text-align: right;\">0.08321</td><td style = \"font-style: italic; text-align: right;\">missing</td></tr><tr><td class = \"rowNumber\" style = \"font-weight: bold; text-align: right;\">562</td><td style = \"text-align: right;\">925311</td><td style = \"text-align: left;\">B</td><td style = \"text-align: right;\">11.2</td><td style = \"text-align: right;\">29.37</td><td style = \"text-align: right;\">70.67</td><td style = \"text-align: right;\">386.0</td><td style = \"text-align: right;\">0.07449</td><td style = \"text-align: right;\">0.03558</td><td style = \"text-align: right;\">0.0</td><td style = \"text-align: right;\">0.0</td><td style = \"text-align: right;\">0.106</td><td style = \"text-align: right;\">0.05502</td><td style = \"text-align: right;\">0.3141</td><td style = \"text-align: right;\">3.896</td><td style = \"text-align: right;\">2.041</td><td style = \"text-align: right;\">22.81</td><td style = \"text-align: right;\">0.007594</td><td style = \"text-align: right;\">0.008878</td><td style = \"text-align: right;\">0.0</td><td style = \"text-align: right;\">0.0</td><td style = \"text-align: right;\">0.01989</td><td style = \"text-align: right;\">0.001773</td><td style = \"text-align: right;\">11.92</td><td style = \"text-align: right;\">38.3</td><td style = \"text-align: right;\">75.19</td><td style = \"text-align: right;\">439.6</td><td style = \"text-align: right;\">0.09267</td><td style = \"text-align: right;\">0.05494</td><td style = \"text-align: right;\">0.0</td><td style = \"text-align: right;\">0.0</td><td style = \"text-align: right;\">0.1566</td><td style = \"text-align: right;\">0.05905</td><td style = \"font-style: italic; text-align: right;\">missing</td></tr><tr><td class = \"rowNumber\" style = \"font-weight: bold; text-align: right;\">563</td><td style = \"text-align: right;\">925622</td><td style = \"text-align: left;\">M</td><td style = \"text-align: right;\">15.22</td><td style = \"text-align: right;\">30.62</td><td style = \"text-align: right;\">103.4</td><td style = \"text-align: right;\">716.9</td><td style = \"text-align: right;\">0.1048</td><td style = \"text-align: right;\">0.2087</td><td style = \"text-align: right;\">0.255</td><td style = \"text-align: right;\">0.09429</td><td style = \"text-align: right;\">0.2128</td><td style = \"text-align: right;\">0.07152</td><td style = \"text-align: right;\">0.2602</td><td style = \"text-align: right;\">1.205</td><td style = \"text-align: right;\">2.362</td><td style = \"text-align: right;\">22.65</td><td style = \"text-align: right;\">0.004625</td><td style = \"text-align: right;\">0.04844</td><td style = \"text-align: right;\">0.07359</td><td style = \"text-align: right;\">0.01608</td><td style = \"text-align: right;\">0.02137</td><td style = \"text-align: right;\">0.006142</td><td style = \"text-align: right;\">17.52</td><td style = \"text-align: right;\">42.79</td><td style = \"text-align: right;\">128.7</td><td style = \"text-align: right;\">915.0</td><td style = \"text-align: right;\">0.1417</td><td style = \"text-align: right;\">0.7917</td><td style = \"text-align: right;\">1.17</td><td style = \"text-align: right;\">0.2356</td><td style = \"text-align: right;\">0.4089</td><td style = \"text-align: right;\">0.1409</td><td style = \"font-style: italic; text-align: right;\">missing</td></tr><tr><td class = \"rowNumber\" style = \"font-weight: bold; text-align: right;\">564</td><td style = \"text-align: right;\">926125</td><td style = \"text-align: left;\">M</td><td style = \"text-align: right;\">20.92</td><td style = \"text-align: right;\">25.09</td><td style = \"text-align: right;\">143.0</td><td style = \"text-align: right;\">1347.0</td><td style = \"text-align: right;\">0.1099</td><td style = \"text-align: right;\">0.2236</td><td style = \"text-align: right;\">0.3174</td><td style = \"text-align: right;\">0.1474</td><td style = \"text-align: right;\">0.2149</td><td style = \"text-align: right;\">0.06879</td><td style = \"text-align: right;\">0.9622</td><td style = \"text-align: right;\">1.026</td><td style = \"text-align: right;\">8.758</td><td style = \"text-align: right;\">118.8</td><td style = \"text-align: right;\">0.006399</td><td style = \"text-align: right;\">0.0431</td><td style = \"text-align: right;\">0.07845</td><td style = \"text-align: right;\">0.02624</td><td style = \"text-align: right;\">0.02057</td><td style = \"text-align: right;\">0.006213</td><td style = \"text-align: right;\">24.29</td><td style = \"text-align: right;\">29.41</td><td style = \"text-align: right;\">179.1</td><td style = \"text-align: right;\">1819.0</td><td style = \"text-align: right;\">0.1407</td><td style = \"text-align: right;\">0.4186</td><td style = \"text-align: right;\">0.6599</td><td style = \"text-align: right;\">0.2542</td><td style = \"text-align: right;\">0.2929</td><td style = \"text-align: right;\">0.09873</td><td style = \"font-style: italic; text-align: right;\">missing</td></tr><tr><td class = \"rowNumber\" style = \"font-weight: bold; text-align: right;\">565</td><td style = \"text-align: right;\">926424</td><td style = \"text-align: left;\">M</td><td style = \"text-align: right;\">21.56</td><td style = \"text-align: right;\">22.39</td><td style = \"text-align: right;\">142.0</td><td style = \"text-align: right;\">1479.0</td><td style = \"text-align: right;\">0.111</td><td style = \"text-align: right;\">0.1159</td><td style = \"text-align: right;\">0.2439</td><td style = \"text-align: right;\">0.1389</td><td style = \"text-align: right;\">0.1726</td><td style = \"text-align: right;\">0.05623</td><td style = \"text-align: right;\">1.176</td><td style = \"text-align: right;\">1.256</td><td style = \"text-align: right;\">7.673</td><td style = \"text-align: right;\">158.7</td><td style = \"text-align: right;\">0.0103</td><td style = \"text-align: right;\">0.02891</td><td style = \"text-align: right;\">0.05198</td><td style = \"text-align: right;\">0.02454</td><td style = \"text-align: right;\">0.01114</td><td style = \"text-align: right;\">0.004239</td><td style = \"text-align: right;\">25.45</td><td style = \"text-align: right;\">26.4</td><td style = \"text-align: right;\">166.1</td><td style = \"text-align: right;\">2027.0</td><td style = \"text-align: right;\">0.141</td><td style = \"text-align: right;\">0.2113</td><td style = \"text-align: right;\">0.4107</td><td style = \"text-align: right;\">0.2216</td><td style = \"text-align: right;\">0.206</td><td style = \"text-align: right;\">0.07115</td><td style = \"font-style: italic; text-align: right;\">missing</td></tr><tr><td class = \"rowNumber\" style = \"font-weight: bold; text-align: right;\">566</td><td style = \"text-align: right;\">926682</td><td style = \"text-align: left;\">M</td><td style = \"text-align: right;\">20.13</td><td style = \"text-align: right;\">28.25</td><td style = \"text-align: right;\">131.2</td><td style = \"text-align: right;\">1261.0</td><td style = \"text-align: right;\">0.0978</td><td style = \"text-align: right;\">0.1034</td><td style = \"text-align: right;\">0.144</td><td style = \"text-align: right;\">0.09791</td><td style = \"text-align: right;\">0.1752</td><td style = \"text-align: right;\">0.05533</td><td style = \"text-align: right;\">0.7655</td><td style = \"text-align: right;\">2.463</td><td style = \"text-align: right;\">5.203</td><td style = \"text-align: right;\">99.04</td><td style = \"text-align: right;\">0.005769</td><td style = \"text-align: right;\">0.02423</td><td style = \"text-align: right;\">0.0395</td><td style = \"text-align: right;\">0.01678</td><td style = \"text-align: right;\">0.01898</td><td style = \"text-align: right;\">0.002498</td><td style = \"text-align: right;\">23.69</td><td style = \"text-align: right;\">38.25</td><td style = \"text-align: right;\">155.0</td><td style = \"text-align: right;\">1731.0</td><td style = \"text-align: right;\">0.1166</td><td style = \"text-align: right;\">0.1922</td><td style = \"text-align: right;\">0.3215</td><td style = \"text-align: right;\">0.1628</td><td style = \"text-align: right;\">0.2572</td><td style = \"text-align: right;\">0.06637</td><td style = \"font-style: italic; text-align: right;\">missing</td></tr><tr><td class = \"rowNumber\" style = \"font-weight: bold; text-align: right;\">567</td><td style = \"text-align: right;\">926954</td><td style = \"text-align: left;\">M</td><td style = \"text-align: right;\">16.6</td><td style = \"text-align: right;\">28.08</td><td style = \"text-align: right;\">108.3</td><td style = \"text-align: right;\">858.1</td><td style = \"text-align: right;\">0.08455</td><td style = \"text-align: right;\">0.1023</td><td style = \"text-align: right;\">0.09251</td><td style = \"text-align: right;\">0.05302</td><td style = \"text-align: right;\">0.159</td><td style = \"text-align: right;\">0.05648</td><td style = \"text-align: right;\">0.4564</td><td style = \"text-align: right;\">1.075</td><td style = \"text-align: right;\">3.425</td><td style = \"text-align: right;\">48.55</td><td style = \"text-align: right;\">0.005903</td><td style = \"text-align: right;\">0.03731</td><td style = \"text-align: right;\">0.0473</td><td style = \"text-align: right;\">0.01557</td><td style = \"text-align: right;\">0.01318</td><td style = \"text-align: right;\">0.003892</td><td style = \"text-align: right;\">18.98</td><td style = \"text-align: right;\">34.12</td><td style = \"text-align: right;\">126.7</td><td style = \"text-align: right;\">1124.0</td><td style = \"text-align: right;\">0.1139</td><td style = \"text-align: right;\">0.3094</td><td style = \"text-align: right;\">0.3403</td><td style = \"text-align: right;\">0.1418</td><td style = \"text-align: right;\">0.2218</td><td style = \"text-align: right;\">0.0782</td><td style = \"font-style: italic; text-align: right;\">missing</td></tr><tr><td class = \"rowNumber\" style = \"font-weight: bold; text-align: right;\">568</td><td style = \"text-align: right;\">927241</td><td style = \"text-align: left;\">M</td><td style = \"text-align: right;\">20.6</td><td style = \"text-align: right;\">29.33</td><td style = \"text-align: right;\">140.1</td><td style = \"text-align: right;\">1265.0</td><td style = \"text-align: right;\">0.1178</td><td style = \"text-align: right;\">0.277</td><td style = \"text-align: right;\">0.3514</td><td style = \"text-align: right;\">0.152</td><td style = \"text-align: right;\">0.2397</td><td style = \"text-align: right;\">0.07016</td><td style = \"text-align: right;\">0.726</td><td style = \"text-align: right;\">1.595</td><td style = \"text-align: right;\">5.772</td><td style = \"text-align: right;\">86.22</td><td style = \"text-align: right;\">0.006522</td><td style = \"text-align: right;\">0.06158</td><td style = \"text-align: right;\">0.07117</td><td style = \"text-align: right;\">0.01664</td><td style = \"text-align: right;\">0.02324</td><td style = \"text-align: right;\">0.006185</td><td style = \"text-align: right;\">25.74</td><td style = \"text-align: right;\">39.42</td><td style = \"text-align: right;\">184.6</td><td style = \"text-align: right;\">1821.0</td><td style = \"text-align: right;\">0.165</td><td style = \"text-align: right;\">0.8681</td><td style = \"text-align: right;\">0.9387</td><td style = \"text-align: right;\">0.265</td><td style = \"text-align: right;\">0.4087</td><td style = \"text-align: right;\">0.124</td><td style = \"font-style: italic; text-align: right;\">missing</td></tr><tr><td class = \"rowNumber\" style = \"font-weight: bold; text-align: right;\">569</td><td style = \"text-align: right;\">92751</td><td style = \"text-align: left;\">B</td><td style = \"text-align: right;\">7.76</td><td style = \"text-align: right;\">24.54</td><td style = \"text-align: right;\">47.92</td><td style = \"text-align: right;\">181.0</td><td style = \"text-align: right;\">0.05263</td><td style = \"text-align: right;\">0.04362</td><td style = \"text-align: right;\">0.0</td><td style = \"text-align: right;\">0.0</td><td style = \"text-align: right;\">0.1587</td><td style = \"text-align: right;\">0.05884</td><td style = \"text-align: right;\">0.3857</td><td style = \"text-align: right;\">1.428</td><td style = \"text-align: right;\">2.548</td><td style = \"text-align: right;\">19.15</td><td style = \"text-align: right;\">0.007189</td><td style = \"text-align: right;\">0.00466</td><td style = \"text-align: right;\">0.0</td><td style = \"text-align: right;\">0.0</td><td style = \"text-align: right;\">0.02676</td><td style = \"text-align: right;\">0.002783</td><td style = \"text-align: right;\">9.456</td><td style = \"text-align: right;\">30.37</td><td style = \"text-align: right;\">59.16</td><td style = \"text-align: right;\">268.6</td><td style = \"text-align: right;\">0.08996</td><td style = \"text-align: right;\">0.06444</td><td style = \"text-align: right;\">0.0</td><td style = \"text-align: right;\">0.0</td><td style = \"text-align: right;\">0.2871</td><td style = \"text-align: right;\">0.07039</td><td style = \"font-style: italic; text-align: right;\">missing</td></tr></tbody></table></div>"
      ],
      "text/latex": [
       "\\begin{tabular}{r|cccccccc}\n",
       "\t& id & diagnosis & radius\\_mean & texture\\_mean & perimeter\\_mean & area\\_mean & smoothness\\_mean & \\\\\n",
       "\t\\hline\n",
       "\t& Int64 & String1 & Float64 & Float64 & Float64 & Float64 & Float64 & \\\\\n",
       "\t\\hline\n",
       "\t1 & 842302 & M & 17.99 & 10.38 & 122.8 & 1001.0 & 0.1184 & $\\dots$ \\\\\n",
       "\t2 & 842517 & M & 20.57 & 17.77 & 132.9 & 1326.0 & 0.08474 & $\\dots$ \\\\\n",
       "\t3 & 84300903 & M & 19.69 & 21.25 & 130.0 & 1203.0 & 0.1096 & $\\dots$ \\\\\n",
       "\t4 & 84348301 & M & 11.42 & 20.38 & 77.58 & 386.1 & 0.1425 & $\\dots$ \\\\\n",
       "\t5 & 84358402 & M & 20.29 & 14.34 & 135.1 & 1297.0 & 0.1003 & $\\dots$ \\\\\n",
       "\t6 & 843786 & M & 12.45 & 15.7 & 82.57 & 477.1 & 0.1278 & $\\dots$ \\\\\n",
       "\t7 & 844359 & M & 18.25 & 19.98 & 119.6 & 1040.0 & 0.09463 & $\\dots$ \\\\\n",
       "\t8 & 84458202 & M & 13.71 & 20.83 & 90.2 & 577.9 & 0.1189 & $\\dots$ \\\\\n",
       "\t9 & 844981 & M & 13.0 & 21.82 & 87.5 & 519.8 & 0.1273 & $\\dots$ \\\\\n",
       "\t10 & 84501001 & M & 12.46 & 24.04 & 83.97 & 475.9 & 0.1186 & $\\dots$ \\\\\n",
       "\t11 & 845636 & M & 16.02 & 23.24 & 102.7 & 797.8 & 0.08206 & $\\dots$ \\\\\n",
       "\t12 & 84610002 & M & 15.78 & 17.89 & 103.6 & 781.0 & 0.0971 & $\\dots$ \\\\\n",
       "\t13 & 846226 & M & 19.17 & 24.8 & 132.4 & 1123.0 & 0.0974 & $\\dots$ \\\\\n",
       "\t14 & 846381 & M & 15.85 & 23.95 & 103.7 & 782.7 & 0.08401 & $\\dots$ \\\\\n",
       "\t15 & 84667401 & M & 13.73 & 22.61 & 93.6 & 578.3 & 0.1131 & $\\dots$ \\\\\n",
       "\t16 & 84799002 & M & 14.54 & 27.54 & 96.73 & 658.8 & 0.1139 & $\\dots$ \\\\\n",
       "\t17 & 848406 & M & 14.68 & 20.13 & 94.74 & 684.5 & 0.09867 & $\\dots$ \\\\\n",
       "\t18 & 84862001 & M & 16.13 & 20.68 & 108.1 & 798.8 & 0.117 & $\\dots$ \\\\\n",
       "\t19 & 849014 & M & 19.81 & 22.15 & 130.0 & 1260.0 & 0.09831 & $\\dots$ \\\\\n",
       "\t20 & 8510426 & B & 13.54 & 14.36 & 87.46 & 566.3 & 0.09779 & $\\dots$ \\\\\n",
       "\t21 & 8510653 & B & 13.08 & 15.71 & 85.63 & 520.0 & 0.1075 & $\\dots$ \\\\\n",
       "\t22 & 8510824 & B & 9.504 & 12.44 & 60.34 & 273.9 & 0.1024 & $\\dots$ \\\\\n",
       "\t23 & 8511133 & M & 15.34 & 14.26 & 102.5 & 704.4 & 0.1073 & $\\dots$ \\\\\n",
       "\t24 & 851509 & M & 21.16 & 23.04 & 137.2 & 1404.0 & 0.09428 & $\\dots$ \\\\\n",
       "\t25 & 852552 & M & 16.65 & 21.38 & 110.0 & 904.6 & 0.1121 & $\\dots$ \\\\\n",
       "\t26 & 852631 & M & 17.14 & 16.4 & 116.0 & 912.7 & 0.1186 & $\\dots$ \\\\\n",
       "\t27 & 852763 & M & 14.58 & 21.53 & 97.41 & 644.8 & 0.1054 & $\\dots$ \\\\\n",
       "\t28 & 852781 & M & 18.61 & 20.25 & 122.1 & 1094.0 & 0.0944 & $\\dots$ \\\\\n",
       "\t29 & 852973 & M & 15.3 & 25.27 & 102.4 & 732.4 & 0.1082 & $\\dots$ \\\\\n",
       "\t30 & 853201 & M & 17.57 & 15.05 & 115.0 & 955.1 & 0.09847 & $\\dots$ \\\\\n",
       "\t$\\dots$ & $\\dots$ & $\\dots$ & $\\dots$ & $\\dots$ & $\\dots$ & $\\dots$ & $\\dots$ &  \\\\\n",
       "\\end{tabular}\n"
      ],
      "text/plain": [
       "\u001b[1m569×33 DataFrame\u001b[0m\n",
       "\u001b[1m Row \u001b[0m│\u001b[1m id       \u001b[0m\u001b[1m diagnosis \u001b[0m\u001b[1m radius_mean \u001b[0m\u001b[1m texture_mean \u001b[0m\u001b[1m perimeter_mean \u001b[0m\u001b[1m area_me\u001b[0m ⋯\n",
       "     │\u001b[90m Int64    \u001b[0m\u001b[90m String1   \u001b[0m\u001b[90m Float64     \u001b[0m\u001b[90m Float64      \u001b[0m\u001b[90m Float64        \u001b[0m\u001b[90m Float64\u001b[0m ⋯\n",
       "─────┼──────────────────────────────────────────────────────────────────────────\n",
       "   1 │   842302  M               17.99          10.38          122.8      1001 ⋯\n",
       "   2 │   842517  M               20.57          17.77          132.9      1326\n",
       "   3 │ 84300903  M               19.69          21.25          130.0      1203\n",
       "   4 │ 84348301  M               11.42          20.38           77.58      386\n",
       "   5 │ 84358402  M               20.29          14.34          135.1      1297 ⋯\n",
       "   6 │   843786  M               12.45          15.7            82.57      477\n",
       "   7 │   844359  M               18.25          19.98          119.6      1040\n",
       "   8 │ 84458202  M               13.71          20.83           90.2       577\n",
       "   9 │   844981  M               13.0           21.82           87.5       519 ⋯\n",
       "  10 │ 84501001  M               12.46          24.04           83.97      475\n",
       "  11 │   845636  M               16.02          23.24          102.7       797\n",
       "  ⋮  │    ⋮          ⋮           ⋮            ⋮              ⋮             ⋮   ⋱\n",
       " 560 │   925291  B               11.51          23.93           74.52      403\n",
       " 561 │   925292  B               14.05          27.15           91.38      600 ⋯\n",
       " 562 │   925311  B               11.2           29.37           70.67      386\n",
       " 563 │   925622  M               15.22          30.62          103.4       716\n",
       " 564 │   926125  M               20.92          25.09          143.0      1347\n",
       " 565 │   926424  M               21.56          22.39          142.0      1479 ⋯\n",
       " 566 │   926682  M               20.13          28.25          131.2      1261\n",
       " 567 │   926954  M               16.6           28.08          108.3       858\n",
       " 568 │   927241  M               20.6           29.33          140.1      1265\n",
       " 569 │    92751  B                7.76          24.54           47.92      181 ⋯\n",
       "\u001b[36m                                                 28 columns and 548 rows omitted\u001b[0m"
      ]
     },
     "execution_count": 23,
     "metadata": {},
     "output_type": "execute_result"
    }
   ],
   "source": [
    "using CSV\n",
    "using DataFrames\n",
    "\n",
    "df = CSV.read(\"/home/hoanganh/Desktop/math-topics/SOSModels/codes/data.csv\",DataFrame)"
   ]
  },
  {
   "cell_type": "code",
   "execution_count": 24,
   "id": "890e99ab",
   "metadata": {},
   "outputs": [
    {
     "data": {
      "text/plain": [
       "569×31 Matrix{Float64}:\n",
       " 17.99   10.38  122.8   1001.0  0.1184   …  0.2654   0.4601  0.1189   1.0\n",
       " 20.57   17.77  132.9   1326.0  0.08474     0.186    0.275   0.08902  1.0\n",
       " 19.69   21.25  130.0   1203.0  0.1096      0.243    0.3613  0.08758  1.0\n",
       " 11.42   20.38   77.58   386.1  0.1425      0.2575   0.6638  0.173    1.0\n",
       " 20.29   14.34  135.1   1297.0  0.1003      0.1625   0.2364  0.07678  1.0\n",
       " 12.45   15.7    82.57   477.1  0.1278   …  0.1741   0.3985  0.1244   1.0\n",
       " 18.25   19.98  119.6   1040.0  0.09463     0.1932   0.3063  0.08368  1.0\n",
       " 13.71   20.83   90.2    577.9  0.1189      0.1556   0.3196  0.1151   1.0\n",
       " 13.0    21.82   87.5    519.8  0.1273      0.206    0.4378  0.1072   1.0\n",
       " 12.46   24.04   83.97   475.9  0.1186      0.221    0.4366  0.2075   1.0\n",
       " 16.02   23.24  102.7    797.8  0.08206  …  0.09975  0.2948  0.08452  1.0\n",
       " 15.78   17.89  103.6    781.0  0.0971      0.181    0.3792  0.1048   1.0\n",
       " 19.17   24.8   132.4   1123.0  0.0974      0.1767   0.3176  0.1023   1.0\n",
       "  ⋮                                      ⋱                            ⋮\n",
       "  9.423  27.88   59.26   271.3  0.08123     0.0      0.2475  0.06969  2.0\n",
       " 14.59   22.68   96.39   657.1  0.08473     0.1105   0.2258  0.08004  2.0\n",
       " 11.51   23.93   74.52   403.5  0.09261     0.09653  0.2112  0.08732  2.0\n",
       " 14.05   27.15   91.38   600.4  0.09929  …  0.1048   0.225   0.08321  2.0\n",
       " 11.2    29.37   70.67   386.0  0.07449     0.0      0.1566  0.05905  2.0\n",
       " 15.22   30.62  103.4    716.9  0.1048      0.2356   0.4089  0.1409   1.0\n",
       " 20.92   25.09  143.0   1347.0  0.1099      0.2542   0.2929  0.09873  1.0\n",
       " 21.56   22.39  142.0   1479.0  0.111       0.2216   0.206   0.07115  1.0\n",
       " 20.13   28.25  131.2   1261.0  0.0978   …  0.1628   0.2572  0.06637  1.0\n",
       " 16.6    28.08  108.3    858.1  0.08455     0.1418   0.2218  0.0782   1.0\n",
       " 20.6    29.33  140.1   1265.0  0.1178      0.265    0.4087  0.124    1.0\n",
       "  7.76   24.54   47.92   181.0  0.05263     0.0      0.2871  0.07039  2.0"
      ]
     },
     "execution_count": 24,
     "metadata": {},
     "output_type": "execute_result"
    }
   ],
   "source": [
    "nr,nc=size(df)\n",
    "D=Matrix{Float64}(undef,nr,nc-2)\n",
    "for j=1:nr\n",
    "    for i=3:nc-1\n",
    "        D[j,i-2]=df[j,i]\n",
    "    end\n",
    "    if df[j,2]==\"M\"\n",
    "        D[j,nc-2]=1\n",
    "    else\n",
    "        D[j,nc-2]=2\n",
    "    end\n",
    "end\n",
    "D"
   ]
  },
  {
   "cell_type": "code",
   "execution_count": 25,
   "id": "246d0927",
   "metadata": {},
   "outputs": [
    {
     "data": {
      "text/plain": [
       "30-element Vector{Float64}:\n",
       "   28.11\n",
       "   39.28\n",
       "  188.5\n",
       " 2501.0\n",
       "    0.1634\n",
       "    0.3454\n",
       "    0.4268\n",
       "    0.2012\n",
       "    0.304\n",
       "    0.09744\n",
       "    2.873\n",
       "    4.885\n",
       "   21.98\n",
       "    ⋮\n",
       "    0.07895\n",
       "    0.02984\n",
       "   36.04\n",
       "   49.54\n",
       "  251.2\n",
       " 4254.0\n",
       "    0.2226\n",
       "    1.058\n",
       "    1.252\n",
       "    0.291\n",
       "    0.6638\n",
       "    0.2075"
      ]
     },
     "execution_count": 25,
     "metadata": {},
     "output_type": "execute_result"
    }
   ],
   "source": [
    "max_col=[maximum(D[:,j]) for j=1:30]"
   ]
  },
  {
   "cell_type": "code",
   "execution_count": 26,
   "id": "e2ff41ac",
   "metadata": {},
   "outputs": [
    {
     "data": {
      "text/plain": [
       "Int64[]"
      ]
     },
     "execution_count": 26,
     "metadata": {},
     "output_type": "execute_result"
    }
   ],
   "source": [
    "ind_zero=Vector{Int64}([])\n",
    "for j=1:30\n",
    "    if max_col[j]>0\n",
    "        D[:,j]/=max_col[j]\n",
    "    else\n",
    "        append!(ind_zero,j)\n",
    "    end\n",
    "end\n",
    "ind_zero"
   ]
  },
  {
   "cell_type": "code",
   "execution_count": 27,
   "id": "5448969f",
   "metadata": {},
   "outputs": [
    {
     "data": {
      "text/plain": [
       "569×31 Matrix{Float64}:\n",
       " 0.639986  0.264257  0.651459  …  0.912027  0.69313   0.573012  1.0\n",
       " 0.731768  0.452393  0.70504      0.639175  0.414281  0.429012  1.0\n",
       " 0.700462  0.540988  0.689655     0.835052  0.54429   0.422072  1.0\n",
       " 0.406261  0.518839  0.411565     0.88488   1.0       0.833735  1.0\n",
       " 0.721807  0.365071  0.716711     0.558419  0.356131  0.370024  1.0\n",
       " 0.442903  0.399695  0.438037  …  0.598282  0.600331  0.599518  1.0\n",
       " 0.649235  0.508656  0.634483     0.663918  0.461434  0.403277  1.0\n",
       " 0.487727  0.530295  0.478515     0.534708  0.48147   0.554699  1.0\n",
       " 0.462469  0.555499  0.464191     0.707904  0.659536  0.516627  1.0\n",
       " 0.443259  0.612016  0.445464     0.75945   0.657728  1.0       1.0\n",
       " 0.569904  0.59165   0.544828  …  0.342784  0.44411   0.407325  1.0\n",
       " 0.561366  0.455448  0.549602     0.621993  0.571256  0.50506   1.0\n",
       " 0.681964  0.631365  0.702387     0.607216  0.478457  0.493012  1.0\n",
       " ⋮                             ⋱                                ⋮\n",
       " 0.335219  0.709776  0.314377     0.0       0.372853  0.335855  2.0\n",
       " 0.519032  0.577393  0.511353     0.379725  0.340163  0.385735  2.0\n",
       " 0.409463  0.609216  0.395332     0.331718  0.318168  0.420819  2.0\n",
       " 0.499822  0.691191  0.484775  …  0.360137  0.338958  0.401012  2.0\n",
       " 0.398435  0.747709  0.374907     0.0       0.235914  0.284578  2.0\n",
       " 0.541444  0.779532  0.548541     0.809622  0.615999  0.679036  1.0\n",
       " 0.744219  0.638747  0.758621     0.87354   0.441247  0.475807  1.0\n",
       " 0.766987  0.57001   0.753316     0.761512  0.310334  0.342892  1.0\n",
       " 0.716115  0.719196  0.696021  …  0.55945   0.387466  0.319855  1.0\n",
       " 0.590537  0.714868  0.574536     0.487285  0.334137  0.376867  1.0\n",
       " 0.732835  0.74669   0.743236     0.910653  0.615697  0.59759   1.0\n",
       " 0.276058  0.624745  0.254218     0.0       0.43251   0.339229  2.0"
      ]
     },
     "execution_count": 27,
     "metadata": {},
     "output_type": "execute_result"
    }
   ],
   "source": [
    "D=D[:,setdiff(1:31,ind_zero)]"
   ]
  },
  {
   "cell_type": "code",
   "execution_count": 28,
   "id": "86959fac",
   "metadata": {},
   "outputs": [
    {
     "data": {
      "text/plain": [
       "569×30 Matrix{Float64}:\n",
       "  0.279972     -0.471487    0.302918   …   0.824055    0.386261    0.146024\n",
       "  0.463536     -0.0952138   0.41008        0.278351   -0.171437   -0.141976\n",
       "  0.400925      0.0819756   0.37931        0.670103    0.0885809  -0.155855\n",
       " -0.187478      0.0376782  -0.17687        0.769759    1.0         0.66747\n",
       "  0.443614     -0.269857    0.433422       0.116838   -0.287737   -0.259952\n",
       " -0.114194     -0.200611   -0.123926   …   0.196564    0.200663    0.199036\n",
       "  0.29847       0.0173116   0.268966       0.327835   -0.0771317  -0.193446\n",
       " -0.0245464     0.0605906  -0.0429708      0.0694158  -0.0370594   0.109398\n",
       " -0.0750623     0.110998   -0.071618       0.415808    0.319072    0.033253\n",
       " -0.113483      0.224033   -0.109072       0.5189      0.315456    1.0\n",
       "  0.139808      0.183299    0.0896552  …  -0.314433   -0.111781   -0.185349\n",
       "  0.122732     -0.0891039   0.0992042      0.243986    0.142513    0.0101205\n",
       "  0.363927      0.262729    0.404775       0.214433   -0.0430853  -0.0139759\n",
       "  ⋮                                    ⋱                          \n",
       " -0.329562      0.419552   -0.371247      -1.0        -0.254293   -0.328289\n",
       "  0.0380647     0.154786    0.0227056     -0.24055    -0.319675   -0.22853\n",
       " -0.181074      0.218432   -0.209337      -0.336564   -0.363664   -0.158361\n",
       " -0.000355745   0.382383   -0.0304509  …  -0.279725   -0.322085   -0.197976\n",
       " -0.203131      0.495418   -0.250186      -1.0        -0.528171   -0.430843\n",
       "  0.0828887     0.559063    0.0970822      0.619244    0.231998    0.358072\n",
       "  0.488438      0.277495    0.517241       0.747079   -0.117505   -0.0483855\n",
       "  0.533974      0.14002     0.506631       0.523024   -0.379331   -0.314217\n",
       "  0.432231      0.438391    0.392042   …   0.1189     -0.225068   -0.360289\n",
       "  0.181074      0.429735    0.149072      -0.0254296  -0.331726   -0.246265\n",
       "  0.465671      0.493381    0.486472       0.821306    0.231395    0.195181\n",
       " -0.447883      0.249491   -0.491565      -1.0        -0.13498    -0.321542"
      ]
     },
     "execution_count": 28,
     "metadata": {},
     "output_type": "execute_result"
    }
   ],
   "source": [
    "D[:,1:30].-=0.5\n",
    "D[:,1:30]*=2"
   ]
  },
  {
   "cell_type": "code",
   "execution_count": 29,
   "id": "1270e0d6",
   "metadata": {},
   "outputs": [
    {
     "data": {
      "text/plain": [
       "3.962383195528556"
      ]
     },
     "execution_count": 29,
     "metadata": {},
     "output_type": "execute_result"
    }
   ],
   "source": [
    "using LinearAlgebra\n",
    "\n",
    "max_norm_col=maximum(norm(D[j,1:30]) for j=1:nr)"
   ]
  },
  {
   "cell_type": "code",
   "execution_count": 30,
   "id": "53b908e5",
   "metadata": {},
   "outputs": [
    {
     "data": {
      "text/plain": [
       "569×31 Matrix{Float64}:\n",
       "  0.0706574   -0.118991     0.0764484   …   0.097482     0.0368526   1.0\n",
       "  0.116984    -0.0240294    0.103493       -0.0432662   -0.0358309   1.0\n",
       "  0.101183     0.0206884    0.0957278       0.0223555   -0.0393338   1.0\n",
       " -0.0473144    0.00950898  -0.0446373       0.252373     0.168452    1.0\n",
       "  0.111956    -0.0681048    0.109384       -0.0726172   -0.0656049   1.0\n",
       " -0.0288196   -0.0506289   -0.0312756   …   0.050642     0.0502314   1.0\n",
       "  0.075326     0.00436899   0.0678797      -0.019466    -0.0488206   1.0\n",
       " -0.00619486   0.0152915   -0.0108447      -0.00935279   0.027609    1.0\n",
       " -0.0189437    0.0280129   -0.0180745       0.0805253    0.00839217  1.0\n",
       " -0.02864      0.0565399   -0.0275268       0.0796128    0.252373    1.0\n",
       "  0.0352838    0.0462599    0.0226266   …  -0.0282105   -0.0467773   1.0\n",
       "  0.0309743   -0.0224874    0.0250365       0.0359664    0.00255414  1.0\n",
       "  0.0918456    0.0663058    0.102154       -0.0108736   -0.00352715  1.0\n",
       "  ⋮                                     ⋱                            ⋮\n",
       " -0.0831728    0.105884    -0.0936928      -0.0641769   -0.0828514   2.0\n",
       "  0.00960653   0.0390639    0.00573028     -0.0806774   -0.0576749   2.0\n",
       " -0.0456983    0.0551264   -0.0528311      -0.091779    -0.0399662   2.0\n",
       " -8.97806e-5   0.0965033   -0.007685    …  -0.0812857   -0.0499638   2.0\n",
       " -0.0512647    0.12503     -0.0631402      -0.133296    -0.108733    2.0\n",
       "  0.0209189    0.141093     0.024501        0.05855      0.0903679   1.0\n",
       "  0.123269     0.0700323    0.130538       -0.0296552   -0.0122112   1.0\n",
       "  0.134761     0.0353374    0.12786        -0.0957331   -0.0793      1.0\n",
       "  0.109083     0.110638     0.0989411   …  -0.0568011   -0.0909274   1.0\n",
       "  0.0456983    0.108454     0.0376217      -0.0837189   -0.0621507   1.0\n",
       "  0.117523     0.124516     0.122773        0.0583979    0.0492584   1.0\n",
       " -0.113034     0.0629648   -0.124058       -0.0340655   -0.0811487   2.0"
      ]
     },
     "execution_count": 30,
     "metadata": {},
     "output_type": "execute_result"
    }
   ],
   "source": [
    "R=1\n",
    "D[:,1:30]/=max_norm_col/R\n",
    "D"
   ]
  },
  {
   "cell_type": "code",
   "execution_count": 31,
   "id": "b38db549",
   "metadata": {},
   "outputs": [
    {
     "data": {
      "text/plain": [
       "30"
      ]
     },
     "execution_count": 31,
     "metadata": {},
     "output_type": "execute_result"
    }
   ],
   "source": [
    "Y=Vector{Matrix{Float64}}(undef,2)\n",
    "\n",
    "for r in 1:2\n",
    "    Y[r]=D[findall(u -> u == r, D[:,end]),1:30]\n",
    "end\n",
    "N=30\n"
   ]
  },
  {
   "cell_type": "code",
   "execution_count": 32,
   "id": "71502ded",
   "metadata": {},
   "outputs": [
    {
     "data": {
      "text/plain": [
       "357×30 Matrix{Float64}:\n",
       " -0.00924741  -0.0678478    -0.0181816   …  -0.0260053    -0.0757971\n",
       " -0.0175072   -0.0505004    -0.0230818      -0.0102653    -0.0533207\n",
       " -0.0817183   -0.0925198    -0.0908009      -0.0660779    -0.063294\n",
       " -0.018405    -0.015677     -0.0311684      -0.101284     -0.102312\n",
       " -0.105205    -0.0359799    -0.113909       -0.0162723    -0.0721484\n",
       " -0.036002    -0.0643783    -0.0434055   …  -0.0434943    -0.0504503\n",
       " -0.0101452    0.0341809    -0.0196543      -0.0340655    -0.0841163\n",
       " -0.0412093    0.0251859    -0.0522955      -0.0673705    -0.0927274\n",
       " -0.00745179  -0.0424049    -0.018851       -0.0739859    -0.0571641\n",
       " -0.0379772   -0.01799      -0.0496446      -0.0406048    -0.0721727\n",
       " -0.0455188   -0.0114365    -0.0559907   …  -0.000988507  -0.0812217\n",
       " -0.0180459   -0.00424049   -0.0311684      -0.0669143    -0.0993925\n",
       " -0.0976275   -0.100872     -0.106867       -0.00752786   -0.0328146\n",
       "  ⋮                                      ⋱                \n",
       " -0.0525217    0.0359799    -0.0609445   …  -0.0114058    -0.0569938\n",
       " -0.0230736    0.125801     -0.0345423      -0.0693475    -0.0946491\n",
       " -0.0847888    0.0295549    -0.0943622      -0.0672185    -0.0725376\n",
       " -0.0210984    0.119248     -0.031463       -0.0720089    -0.0762107\n",
       " -0.0676048    0.102414     -0.0765287      -0.0831106    -0.0508882\n",
       " -0.0699391   -0.000642498  -0.0790457   …  -0.0803732    -0.0883732\n",
       " -0.0831728    0.105884     -0.0936928      -0.0641769    -0.0828514\n",
       "  0.00960653   0.0390639     0.00573028     -0.0806774    -0.0576749\n",
       " -0.0456983    0.0551264    -0.0528311      -0.091779     -0.0399662\n",
       " -8.97806e-5   0.0965033    -0.007685       -0.0812857    -0.0499638\n",
       " -0.0512647    0.12503      -0.0631402   …  -0.133296     -0.108733\n",
       " -0.113034     0.0629648    -0.124058       -0.0340655    -0.0811487"
      ]
     },
     "execution_count": 32,
     "metadata": {},
     "output_type": "execute_result"
    }
   ],
   "source": [
    "Y[2]"
   ]
  },
  {
   "cell_type": "code",
   "execution_count": 33,
   "id": "6eee0c4e",
   "metadata": {},
   "outputs": [
    {
     "data": {
      "text/plain": [
       "170×30 Matrix{Float64}:\n",
       "  0.0706574   -0.118991     0.0764484    …   0.097482     0.0368526\n",
       "  0.116984    -0.0240294    0.103493        -0.0432662   -0.0358309\n",
       "  0.101183     0.0206884    0.0957278        0.0223555   -0.0393338\n",
       " -0.0473144    0.00950898  -0.0446373        0.252373     0.168452\n",
       "  0.111956    -0.0681048    0.109384        -0.0726172   -0.0656049\n",
       " -0.0288196   -0.0506289   -0.0312756    …   0.050642     0.0502314\n",
       "  0.075326     0.00436899   0.0678797       -0.019466    -0.0488206\n",
       " -0.00619486   0.0152915   -0.0108447       -0.00935279   0.027609\n",
       " -0.0189437    0.0280129   -0.0180745        0.0805253    0.00839217\n",
       " -0.02864      0.0565399   -0.0275268        0.0796128    0.252373\n",
       "  0.0352838    0.0462599    0.0226266    …  -0.0282105   -0.0467773\n",
       "  0.0309743   -0.0224874    0.0250365        0.0359664    0.00255414\n",
       "  0.0918456    0.0663058    0.102154        -0.0108736   -0.00352715\n",
       "  ⋮                                      ⋱               \n",
       "  0.0304356   -0.00539699   0.0344085        0.0704121    0.00304064\n",
       "  0.209638    -0.0280129    0.214082         0.0282105   -0.0379472\n",
       "  0.018405     0.0783848    0.0100414    …  -0.0505659   -0.0227927\n",
       "  0.11465      0.0274989    0.105903        -0.0539877   -0.0885435\n",
       "  0.11034      0.0923913    0.105635        -0.00364987  -0.0667239\n",
       "  0.137454    -0.0307114    0.124915        -0.0615155   -0.0944059\n",
       "  0.142841     0.0290409    0.141784        -0.0439505   -0.0438096\n",
       "  0.0412093    0.0469024    0.0394961    …   0.114439    -0.0185114\n",
       "  0.131349    -0.0583389    0.125986        -0.044787    -0.0415717\n",
       "  0.118241    -0.0294264    0.108581        -0.0479046   -0.0807595\n",
       " -0.0534195   -0.0104085   -0.0560978        0.0634925    0.0889084\n",
       "  0.00978609   0.0469024   -0.000749756     -0.0640248   -0.0860867"
      ]
     },
     "execution_count": 33,
     "metadata": {},
     "output_type": "execute_result"
    }
   ],
   "source": [
    "t=Vector{Int64}(undef,2)\n",
    "Y_train=Vector{Matrix{Float64}}(undef,2)\n",
    "\n",
    "for r=1:2\n",
    "    t[r]=ceil(Int64,0.8*size(Y[r],1))\n",
    "    Y_train[r]=Y[r][1:t[r],:]\n",
    "end\n",
    "\n",
    "Y_train[1]"
   ]
  },
  {
   "cell_type": "code",
   "execution_count": 34,
   "id": "c72a2e00",
   "metadata": {},
   "outputs": [],
   "source": [
    "Y_test=Vector{Matrix{Float64}}(undef,2)\n",
    "\n",
    "for r=1:2\n",
    "    Y_test[r]=Y[r][(t[r]+1):end,:]\n",
    "end"
   ]
  },
  {
   "cell_type": "code",
   "execution_count": 83,
   "id": "fbad3c7a",
   "metadata": {},
   "outputs": [
    {
     "name": "stdout",
     "output_type": "stream",
     "text": [
      "****Method based on polynomial regression****\n",
      "\n",
      "number of attributes: n=30\n",
      "sample sizes for traint sets: t=[170, 286]\n",
      "degree of separating polynomial: k=2\n",
      "perturbed parameter: c=Inf\n",
      "Problem\n",
      "  Name                   :                 \n",
      "  Objective sense        : minimize        \n",
      "  Type                   : CONIC (conic optimization problem)\n",
      "  Constraints            : 0               \n",
      "  Affine conic cons.     : 1               \n",
      "  Disjunctive cons.      : 0               \n",
      "  Cones                  : 0               \n",
      "  Scalar variables       : 497             \n",
      "  Matrix variables       : 0               \n",
      "  Integer variables      : 0               \n",
      "\n",
      "Optimizer started.\n",
      "Presolve started.\n",
      "Eliminator - tries                  : 0                 time                   : 0.00            \n",
      "Lin. dep.  - tries                  : 0                 time                   : 0.00            \n",
      "Lin. dep.  - number                 : 0               \n",
      "Presolve terminated. Time: 0.01    \n",
      "Optimizer terminated. Time: 0.03    \n",
      "\n",
      " 33.968135 seconds (4.36 M allocations: 4.317 GiB, 3.74% gc time, 1.63% compilation time)\n"
     ]
    },
    {
     "name": "stderr",
     "output_type": "stream",
     "text": [
      "WARNING: replacing module RegressionModels.\n"
     ]
    }
   ],
   "source": [
    "include(\"../src/RegressionModels.jl\")\n",
    "using .RegressionModels\n",
    "\n",
    "c=Inf\n",
    "s=2\n",
    "k=2\n",
    "\n",
    "eta=[1;2]\n",
    "@time eval_pol_approx=RegressionModels.model_pol_class(N,s,Y_train,t,c,k,eta,\n",
    "                                                    additional_monomials=false,lamb=0.001);"
   ]
  },
  {
   "cell_type": "code",
   "execution_count": 84,
   "id": "34fe3499",
   "metadata": {},
   "outputs": [
    {
     "data": {
      "text/plain": [
       "classifier (generic function with 1 method)"
      ]
     },
     "execution_count": 84,
     "metadata": {},
     "output_type": "execute_result"
    }
   ],
   "source": [
    "function classifier(y)\n",
    "    return findmin([abs(eval_pol_approx(y)-eta[r]) for r=1:2])[2]\n",
    "end"
   ]
  },
  {
   "cell_type": "code",
   "execution_count": 85,
   "id": "b4ce0e63",
   "metadata": {},
   "outputs": [],
   "source": [
    "predict=Vector{Vector{Int64}}(undef,2)\n",
    "\n",
    "for r=1:2\n",
    "    predict[r]=[classifier(Y_test[r][j,:]) for j in 1:size(Y_test[r],1)]\n",
    "end"
   ]
  },
  {
   "cell_type": "code",
   "execution_count": 86,
   "id": "64ff0fe8",
   "metadata": {},
   "outputs": [],
   "source": [
    "numcor=Vector{Int64}(undef,2)\n",
    "\n",
    "for r=1:2\n",
    "    numcor[r]=length(findall(u -> u == r, predict[r]))\n",
    "end"
   ]
  },
  {
   "cell_type": "code",
   "execution_count": 87,
   "id": "cea893d9",
   "metadata": {},
   "outputs": [
    {
     "data": {
      "text/plain": [
       "112"
      ]
     },
     "execution_count": 87,
     "metadata": {},
     "output_type": "execute_result"
    }
   ],
   "source": [
    "sum(numcor)"
   ]
  },
  {
   "cell_type": "code",
   "execution_count": 88,
   "id": "26e99b11",
   "metadata": {},
   "outputs": [
    {
     "data": {
      "text/plain": [
       "0.9911504424778761"
      ]
     },
     "execution_count": 88,
     "metadata": {},
     "output_type": "execute_result"
    }
   ],
   "source": [
    "accuracy=(sum(numcor))/(sum(size(Y_test[r],1) for r=1:2))"
   ]
  },
  {
   "cell_type": "code",
   "execution_count": 89,
   "id": "fd5a2936",
   "metadata": {},
   "outputs": [
    {
     "data": {
      "text/plain": [
       "113"
      ]
     },
     "execution_count": 89,
     "metadata": {},
     "output_type": "execute_result"
    }
   ],
   "source": [
    "nr-sum(t)"
   ]
  },
  {
   "cell_type": "code",
   "execution_count": 90,
   "id": "78c6b0f3",
   "metadata": {},
   "outputs": [
    {
     "data": {
      "text/plain": [
       "456"
      ]
     },
     "execution_count": 90,
     "metadata": {},
     "output_type": "execute_result"
    }
   ],
   "source": [
    "sum(t)"
   ]
  },
  {
   "cell_type": "code",
   "execution_count": null,
   "id": "6f182415",
   "metadata": {},
   "outputs": [],
   "source": []
  }
 ],
 "metadata": {
  "kernelspec": {
   "display_name": "Julia 1.7.1",
   "language": "julia",
   "name": "julia-1.7"
  },
  "language_info": {
   "file_extension": ".jl",
   "mimetype": "application/julia",
   "name": "julia",
   "version": "1.7.1"
  }
 },
 "nbformat": 4,
 "nbformat_minor": 5
}

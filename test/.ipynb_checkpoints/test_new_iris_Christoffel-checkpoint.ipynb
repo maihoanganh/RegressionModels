{
 "cells": [
  {
   "cell_type": "code",
   "execution_count": 29,
   "metadata": {},
   "outputs": [
    {
     "data": {
      "text/html": [
       "<table class=\"data-frame\"><thead><tr><th></th><th>Id</th><th>SepalLengthCm</th><th>SepalWidthCm</th><th>PetalLengthCm</th><th>PetalWidthCm</th><th>Species</th></tr><tr><th></th><th>Int64</th><th>Float64</th><th>Float64</th><th>Float64</th><th>Float64</th><th>String</th></tr></thead><tbody><p>150 rows × 6 columns</p><tr><th>1</th><td>1</td><td>5.1</td><td>3.5</td><td>1.4</td><td>0.2</td><td>Iris-setosa</td></tr><tr><th>2</th><td>2</td><td>4.9</td><td>3.0</td><td>1.4</td><td>0.2</td><td>Iris-setosa</td></tr><tr><th>3</th><td>3</td><td>4.7</td><td>3.2</td><td>1.3</td><td>0.2</td><td>Iris-setosa</td></tr><tr><th>4</th><td>4</td><td>4.6</td><td>3.1</td><td>1.5</td><td>0.2</td><td>Iris-setosa</td></tr><tr><th>5</th><td>5</td><td>5.0</td><td>3.6</td><td>1.4</td><td>0.2</td><td>Iris-setosa</td></tr><tr><th>6</th><td>6</td><td>5.4</td><td>3.9</td><td>1.7</td><td>0.4</td><td>Iris-setosa</td></tr><tr><th>7</th><td>7</td><td>4.6</td><td>3.4</td><td>1.4</td><td>0.3</td><td>Iris-setosa</td></tr><tr><th>8</th><td>8</td><td>5.0</td><td>3.4</td><td>1.5</td><td>0.2</td><td>Iris-setosa</td></tr><tr><th>9</th><td>9</td><td>4.4</td><td>2.9</td><td>1.4</td><td>0.2</td><td>Iris-setosa</td></tr><tr><th>10</th><td>10</td><td>4.9</td><td>3.1</td><td>1.5</td><td>0.1</td><td>Iris-setosa</td></tr><tr><th>11</th><td>11</td><td>5.4</td><td>3.7</td><td>1.5</td><td>0.2</td><td>Iris-setosa</td></tr><tr><th>12</th><td>12</td><td>4.8</td><td>3.4</td><td>1.6</td><td>0.2</td><td>Iris-setosa</td></tr><tr><th>13</th><td>13</td><td>4.8</td><td>3.0</td><td>1.4</td><td>0.1</td><td>Iris-setosa</td></tr><tr><th>14</th><td>14</td><td>4.3</td><td>3.0</td><td>1.1</td><td>0.1</td><td>Iris-setosa</td></tr><tr><th>15</th><td>15</td><td>5.8</td><td>4.0</td><td>1.2</td><td>0.2</td><td>Iris-setosa</td></tr><tr><th>16</th><td>16</td><td>5.7</td><td>4.4</td><td>1.5</td><td>0.4</td><td>Iris-setosa</td></tr><tr><th>17</th><td>17</td><td>5.4</td><td>3.9</td><td>1.3</td><td>0.4</td><td>Iris-setosa</td></tr><tr><th>18</th><td>18</td><td>5.1</td><td>3.5</td><td>1.4</td><td>0.3</td><td>Iris-setosa</td></tr><tr><th>19</th><td>19</td><td>5.7</td><td>3.8</td><td>1.7</td><td>0.3</td><td>Iris-setosa</td></tr><tr><th>20</th><td>20</td><td>5.1</td><td>3.8</td><td>1.5</td><td>0.3</td><td>Iris-setosa</td></tr><tr><th>21</th><td>21</td><td>5.4</td><td>3.4</td><td>1.7</td><td>0.2</td><td>Iris-setosa</td></tr><tr><th>22</th><td>22</td><td>5.1</td><td>3.7</td><td>1.5</td><td>0.4</td><td>Iris-setosa</td></tr><tr><th>23</th><td>23</td><td>4.6</td><td>3.6</td><td>1.0</td><td>0.2</td><td>Iris-setosa</td></tr><tr><th>24</th><td>24</td><td>5.1</td><td>3.3</td><td>1.7</td><td>0.5</td><td>Iris-setosa</td></tr><tr><th>25</th><td>25</td><td>4.8</td><td>3.4</td><td>1.9</td><td>0.2</td><td>Iris-setosa</td></tr><tr><th>26</th><td>26</td><td>5.0</td><td>3.0</td><td>1.6</td><td>0.2</td><td>Iris-setosa</td></tr><tr><th>27</th><td>27</td><td>5.0</td><td>3.4</td><td>1.6</td><td>0.4</td><td>Iris-setosa</td></tr><tr><th>28</th><td>28</td><td>5.2</td><td>3.5</td><td>1.5</td><td>0.2</td><td>Iris-setosa</td></tr><tr><th>29</th><td>29</td><td>5.2</td><td>3.4</td><td>1.4</td><td>0.2</td><td>Iris-setosa</td></tr><tr><th>30</th><td>30</td><td>4.7</td><td>3.2</td><td>1.6</td><td>0.2</td><td>Iris-setosa</td></tr><tr><th>&vellip;</th><td>&vellip;</td><td>&vellip;</td><td>&vellip;</td><td>&vellip;</td><td>&vellip;</td><td>&vellip;</td></tr></tbody></table>"
      ],
      "text/latex": [
       "\\begin{tabular}{r|cccccc}\n",
       "\t& Id & SepalLengthCm & SepalWidthCm & PetalLengthCm & PetalWidthCm & Species\\\\\n",
       "\t\\hline\n",
       "\t& Int64 & Float64 & Float64 & Float64 & Float64 & String\\\\\n",
       "\t\\hline\n",
       "\t1 & 1 & 5.1 & 3.5 & 1.4 & 0.2 & Iris-setosa \\\\\n",
       "\t2 & 2 & 4.9 & 3.0 & 1.4 & 0.2 & Iris-setosa \\\\\n",
       "\t3 & 3 & 4.7 & 3.2 & 1.3 & 0.2 & Iris-setosa \\\\\n",
       "\t4 & 4 & 4.6 & 3.1 & 1.5 & 0.2 & Iris-setosa \\\\\n",
       "\t5 & 5 & 5.0 & 3.6 & 1.4 & 0.2 & Iris-setosa \\\\\n",
       "\t6 & 6 & 5.4 & 3.9 & 1.7 & 0.4 & Iris-setosa \\\\\n",
       "\t7 & 7 & 4.6 & 3.4 & 1.4 & 0.3 & Iris-setosa \\\\\n",
       "\t8 & 8 & 5.0 & 3.4 & 1.5 & 0.2 & Iris-setosa \\\\\n",
       "\t9 & 9 & 4.4 & 2.9 & 1.4 & 0.2 & Iris-setosa \\\\\n",
       "\t10 & 10 & 4.9 & 3.1 & 1.5 & 0.1 & Iris-setosa \\\\\n",
       "\t11 & 11 & 5.4 & 3.7 & 1.5 & 0.2 & Iris-setosa \\\\\n",
       "\t12 & 12 & 4.8 & 3.4 & 1.6 & 0.2 & Iris-setosa \\\\\n",
       "\t13 & 13 & 4.8 & 3.0 & 1.4 & 0.1 & Iris-setosa \\\\\n",
       "\t14 & 14 & 4.3 & 3.0 & 1.1 & 0.1 & Iris-setosa \\\\\n",
       "\t15 & 15 & 5.8 & 4.0 & 1.2 & 0.2 & Iris-setosa \\\\\n",
       "\t16 & 16 & 5.7 & 4.4 & 1.5 & 0.4 & Iris-setosa \\\\\n",
       "\t17 & 17 & 5.4 & 3.9 & 1.3 & 0.4 & Iris-setosa \\\\\n",
       "\t18 & 18 & 5.1 & 3.5 & 1.4 & 0.3 & Iris-setosa \\\\\n",
       "\t19 & 19 & 5.7 & 3.8 & 1.7 & 0.3 & Iris-setosa \\\\\n",
       "\t20 & 20 & 5.1 & 3.8 & 1.5 & 0.3 & Iris-setosa \\\\\n",
       "\t21 & 21 & 5.4 & 3.4 & 1.7 & 0.2 & Iris-setosa \\\\\n",
       "\t22 & 22 & 5.1 & 3.7 & 1.5 & 0.4 & Iris-setosa \\\\\n",
       "\t23 & 23 & 4.6 & 3.6 & 1.0 & 0.2 & Iris-setosa \\\\\n",
       "\t24 & 24 & 5.1 & 3.3 & 1.7 & 0.5 & Iris-setosa \\\\\n",
       "\t25 & 25 & 4.8 & 3.4 & 1.9 & 0.2 & Iris-setosa \\\\\n",
       "\t26 & 26 & 5.0 & 3.0 & 1.6 & 0.2 & Iris-setosa \\\\\n",
       "\t27 & 27 & 5.0 & 3.4 & 1.6 & 0.4 & Iris-setosa \\\\\n",
       "\t28 & 28 & 5.2 & 3.5 & 1.5 & 0.2 & Iris-setosa \\\\\n",
       "\t29 & 29 & 5.2 & 3.4 & 1.4 & 0.2 & Iris-setosa \\\\\n",
       "\t30 & 30 & 4.7 & 3.2 & 1.6 & 0.2 & Iris-setosa \\\\\n",
       "\t$\\dots$ & $\\dots$ & $\\dots$ & $\\dots$ & $\\dots$ & $\\dots$ & $\\dots$ \\\\\n",
       "\\end{tabular}\n"
      ],
      "text/plain": [
       "\u001b[1m150×6 DataFrame\u001b[0m\n",
       "\u001b[1m Row \u001b[0m│\u001b[1m Id    \u001b[0m\u001b[1m SepalLengthCm \u001b[0m\u001b[1m SepalWidthCm \u001b[0m\u001b[1m PetalLengthCm \u001b[0m\u001b[1m PetalWidthCm \u001b[0m\u001b[1m Specie\u001b[0m ⋯\n",
       "\u001b[1m     \u001b[0m│\u001b[90m Int64 \u001b[0m\u001b[90m Float64       \u001b[0m\u001b[90m Float64      \u001b[0m\u001b[90m Float64       \u001b[0m\u001b[90m Float64      \u001b[0m\u001b[90m String\u001b[0m ⋯\n",
       "─────┼──────────────────────────────────────────────────────────────────────────\n",
       "   1 │     1            5.1           3.5            1.4           0.2  Iris-s ⋯\n",
       "   2 │     2            4.9           3.0            1.4           0.2  Iris-s\n",
       "   3 │     3            4.7           3.2            1.3           0.2  Iris-s\n",
       "   4 │     4            4.6           3.1            1.5           0.2  Iris-s\n",
       "   5 │     5            5.0           3.6            1.4           0.2  Iris-s ⋯\n",
       "   6 │     6            5.4           3.9            1.7           0.4  Iris-s\n",
       "   7 │     7            4.6           3.4            1.4           0.3  Iris-s\n",
       "   8 │     8            5.0           3.4            1.5           0.2  Iris-s\n",
       "   9 │     9            4.4           2.9            1.4           0.2  Iris-s ⋯\n",
       "  10 │    10            4.9           3.1            1.5           0.1  Iris-s\n",
       "  11 │    11            5.4           3.7            1.5           0.2  Iris-s\n",
       "  ⋮  │   ⋮          ⋮             ⋮              ⋮             ⋮               ⋱\n",
       " 141 │   141            6.7           3.1            5.6           2.4  Iris-v\n",
       " 142 │   142            6.9           3.1            5.1           2.3  Iris-v ⋯\n",
       " 143 │   143            5.8           2.7            5.1           1.9  Iris-v\n",
       " 144 │   144            6.8           3.2            5.9           2.3  Iris-v\n",
       " 145 │   145            6.7           3.3            5.7           2.5  Iris-v\n",
       " 146 │   146            6.7           3.0            5.2           2.3  Iris-v ⋯\n",
       " 147 │   147            6.3           2.5            5.0           1.9  Iris-v\n",
       " 148 │   148            6.5           3.0            5.2           2.0  Iris-v\n",
       " 149 │   149            6.2           3.4            5.4           2.3  Iris-v\n",
       " 150 │   150            5.9           3.0            5.1           1.8  Iris-v ⋯\n",
       "\u001b[36m                                                   1 column and 129 rows omitted\u001b[0m"
      ]
     },
     "execution_count": 29,
     "metadata": {},
     "output_type": "execute_result"
    }
   ],
   "source": [
    "using CSV\n",
    "using DataFrames\n",
    "\n",
    "df = CSV.read(\"../Iris.csv\", DataFrame)"
   ]
  },
  {
   "cell_type": "code",
   "execution_count": 30,
   "metadata": {},
   "outputs": [
    {
     "data": {
      "text/plain": [
       "150×5 Array{Float64,2}:\n",
       " 5.1  3.5  1.4  0.2  1.0\n",
       " 4.9  3.0  1.4  0.2  1.0\n",
       " 4.7  3.2  1.3  0.2  1.0\n",
       " 4.6  3.1  1.5  0.2  1.0\n",
       " 5.0  3.6  1.4  0.2  1.0\n",
       " 5.4  3.9  1.7  0.4  1.0\n",
       " 4.6  3.4  1.4  0.3  1.0\n",
       " 5.0  3.4  1.5  0.2  1.0\n",
       " 4.4  2.9  1.4  0.2  1.0\n",
       " 4.9  3.1  1.5  0.1  1.0\n",
       " 5.4  3.7  1.5  0.2  1.0\n",
       " 4.8  3.4  1.6  0.2  1.0\n",
       " 4.8  3.0  1.4  0.1  1.0\n",
       " ⋮                      \n",
       " 6.0  3.0  4.8  1.8  3.0\n",
       " 6.9  3.1  5.4  2.1  3.0\n",
       " 6.7  3.1  5.6  2.4  3.0\n",
       " 6.9  3.1  5.1  2.3  3.0\n",
       " 5.8  2.7  5.1  1.9  3.0\n",
       " 6.8  3.2  5.9  2.3  3.0\n",
       " 6.7  3.3  5.7  2.5  3.0\n",
       " 6.7  3.0  5.2  2.3  3.0\n",
       " 6.3  2.5  5.0  1.9  3.0\n",
       " 6.5  3.0  5.2  2.0  3.0\n",
       " 6.2  3.4  5.4  2.3  3.0\n",
       " 5.9  3.0  5.1  1.8  3.0"
      ]
     },
     "execution_count": 30,
     "metadata": {},
     "output_type": "execute_result"
    }
   ],
   "source": [
    "nr,nc=size(df)\n",
    "nc-=1\n",
    "D=Matrix{Float64}(undef,nr,nc)\n",
    "for j=1:nr\n",
    "    for i=2:5\n",
    "        D[j,i-1]=df[j,i]\n",
    "    end\n",
    "    if df[j,6]==\"Iris-setosa\"\n",
    "        D[j,5]=1\n",
    "    elseif df[j,6]==\"Iris-versicolor\"\n",
    "        D[j,5]=2\n",
    "    else\n",
    "        D[j,5]=3\n",
    "    end\n",
    "end\n",
    "D"
   ]
  },
  {
   "cell_type": "code",
   "execution_count": 31,
   "metadata": {},
   "outputs": [
    {
     "data": {
      "text/plain": [
       "4-element Array{Float64,1}:\n",
       " 7.9\n",
       " 4.4\n",
       " 6.9\n",
       " 2.5"
      ]
     },
     "execution_count": 31,
     "metadata": {},
     "output_type": "execute_result"
    }
   ],
   "source": [
    "max_col=[maximum(D[:,j]) for j=1:4]"
   ]
  },
  {
   "cell_type": "code",
   "execution_count": 32,
   "metadata": {},
   "outputs": [
    {
     "data": {
      "text/plain": [
       "0-element Array{Int64,1}"
      ]
     },
     "execution_count": 32,
     "metadata": {},
     "output_type": "execute_result"
    }
   ],
   "source": [
    "ind_zero=Vector{Int64}([])\n",
    "for j=1:4\n",
    "    if max_col[j]>0\n",
    "        D[:,j]/=max_col[j]\n",
    "    else\n",
    "        append!(ind_zero,j)\n",
    "    end\n",
    "end\n",
    "ind_zero"
   ]
  },
  {
   "cell_type": "code",
   "execution_count": 33,
   "metadata": {},
   "outputs": [
    {
     "data": {
      "text/plain": [
       "150×5 Array{Float64,2}:\n",
       " 0.64557   0.795455  0.202899  0.08  1.0\n",
       " 0.620253  0.681818  0.202899  0.08  1.0\n",
       " 0.594937  0.727273  0.188406  0.08  1.0\n",
       " 0.582278  0.704545  0.217391  0.08  1.0\n",
       " 0.632911  0.818182  0.202899  0.08  1.0\n",
       " 0.683544  0.886364  0.246377  0.16  1.0\n",
       " 0.582278  0.772727  0.202899  0.12  1.0\n",
       " 0.632911  0.772727  0.217391  0.08  1.0\n",
       " 0.556962  0.659091  0.202899  0.08  1.0\n",
       " 0.620253  0.704545  0.217391  0.04  1.0\n",
       " 0.683544  0.840909  0.217391  0.08  1.0\n",
       " 0.607595  0.772727  0.231884  0.08  1.0\n",
       " 0.607595  0.681818  0.202899  0.04  1.0\n",
       " ⋮                                      \n",
       " 0.759494  0.681818  0.695652  0.72  3.0\n",
       " 0.873418  0.704545  0.782609  0.84  3.0\n",
       " 0.848101  0.704545  0.811594  0.96  3.0\n",
       " 0.873418  0.704545  0.73913   0.92  3.0\n",
       " 0.734177  0.613636  0.73913   0.76  3.0\n",
       " 0.860759  0.727273  0.855072  0.92  3.0\n",
       " 0.848101  0.75      0.826087  1.0   3.0\n",
       " 0.848101  0.681818  0.753623  0.92  3.0\n",
       " 0.797468  0.568182  0.724638  0.76  3.0\n",
       " 0.822785  0.681818  0.753623  0.8   3.0\n",
       " 0.78481   0.772727  0.782609  0.92  3.0\n",
       " 0.746835  0.681818  0.73913   0.72  3.0"
      ]
     },
     "execution_count": 33,
     "metadata": {},
     "output_type": "execute_result"
    }
   ],
   "source": [
    "D=D[:,setdiff(1:5,ind_zero)]"
   ]
  },
  {
   "cell_type": "code",
   "execution_count": 34,
   "metadata": {},
   "outputs": [
    {
     "data": {
      "text/plain": [
       "150×4 Array{Float64,2}:\n",
       " 0.291139  0.590909  -0.594203  -0.84\n",
       " 0.240506  0.363636  -0.594203  -0.84\n",
       " 0.189873  0.454545  -0.623188  -0.84\n",
       " 0.164557  0.409091  -0.565217  -0.84\n",
       " 0.265823  0.636364  -0.594203  -0.84\n",
       " 0.367089  0.772727  -0.507246  -0.68\n",
       " 0.164557  0.545455  -0.594203  -0.76\n",
       " 0.265823  0.545455  -0.565217  -0.84\n",
       " 0.113924  0.318182  -0.594203  -0.84\n",
       " 0.240506  0.409091  -0.565217  -0.92\n",
       " 0.367089  0.681818  -0.565217  -0.84\n",
       " 0.21519   0.545455  -0.536232  -0.84\n",
       " 0.21519   0.363636  -0.594203  -0.92\n",
       " ⋮                                   \n",
       " 0.518987  0.363636   0.391304   0.44\n",
       " 0.746835  0.409091   0.565217   0.68\n",
       " 0.696203  0.409091   0.623188   0.92\n",
       " 0.746835  0.409091   0.478261   0.84\n",
       " 0.468354  0.227273   0.478261   0.52\n",
       " 0.721519  0.454545   0.710145   0.84\n",
       " 0.696203  0.5        0.652174   1.0 \n",
       " 0.696203  0.363636   0.507246   0.84\n",
       " 0.594937  0.136364   0.449275   0.52\n",
       " 0.64557   0.363636   0.507246   0.6 \n",
       " 0.56962   0.545455   0.565217   0.84\n",
       " 0.493671  0.363636   0.478261   0.44"
      ]
     },
     "execution_count": 34,
     "metadata": {},
     "output_type": "execute_result"
    }
   ],
   "source": [
    "D[:,1:4].-=0.5\n",
    "D[:,1:4]*=2"
   ]
  },
  {
   "cell_type": "code",
   "execution_count": 35,
   "metadata": {},
   "outputs": [
    {
     "data": {
      "text/plain": [
       "1.7015410950963787"
      ]
     },
     "execution_count": 35,
     "metadata": {},
     "output_type": "execute_result"
    }
   ],
   "source": [
    "using LinearAlgebra\n",
    "\n",
    "max_norm_col=maximum(norm(D[j,1:4]) for j=1:nr) "
   ]
  },
  {
   "cell_type": "code",
   "execution_count": 36,
   "metadata": {},
   "outputs": [
    {
     "data": {
      "text/plain": [
       "150×5 Array{Float64,2}:\n",
       " 0.171103   0.347279   -0.349215  -0.49367   1.0\n",
       " 0.141346   0.21371    -0.349215  -0.49367   1.0\n",
       " 0.111589   0.267138   -0.366249  -0.49367   1.0\n",
       " 0.0967105  0.240424   -0.33218   -0.49367   1.0\n",
       " 0.156225   0.373993   -0.349215  -0.49367   1.0\n",
       " 0.215739   0.454134   -0.29811   -0.399638  1.0\n",
       " 0.0967105  0.320565   -0.349215  -0.446654  1.0\n",
       " 0.156225   0.320565   -0.33218   -0.49367   1.0\n",
       " 0.0669535  0.186996   -0.349215  -0.49367   1.0\n",
       " 0.141346   0.240424   -0.33218   -0.540686  1.0\n",
       " 0.215739   0.400706   -0.33218   -0.49367   1.0\n",
       " 0.126468   0.320565   -0.315145  -0.49367   1.0\n",
       " 0.126468   0.21371    -0.349215  -0.540686  1.0\n",
       " ⋮                                              \n",
       " 0.30501    0.21371     0.229971   0.258589  3.0\n",
       " 0.438917   0.240424    0.33218    0.399638  3.0\n",
       " 0.40916    0.240424    0.366249   0.540686  3.0\n",
       " 0.438917   0.240424    0.281075   0.49367   3.0\n",
       " 0.275253   0.133569    0.281075   0.305605  3.0\n",
       " 0.424039   0.267138    0.417354   0.49367   3.0\n",
       " 0.40916    0.293851    0.383284   0.587703  3.0\n",
       " 0.40916    0.21371     0.29811    0.49367   3.0\n",
       " 0.349646   0.0801413   0.26404    0.305605  3.0\n",
       " 0.379403   0.21371     0.29811    0.352622  3.0\n",
       " 0.334767   0.320565    0.33218    0.49367   3.0\n",
       " 0.290132   0.21371     0.281075   0.258589  3.0"
      ]
     },
     "execution_count": 36,
     "metadata": {},
     "output_type": "execute_result"
    }
   ],
   "source": [
    "D[:,1:4]/=max_norm_col\n",
    "D"
   ]
  },
  {
   "cell_type": "code",
   "execution_count": 37,
   "metadata": {},
   "outputs": [
    {
     "data": {
      "text/plain": [
       "4"
      ]
     },
     "execution_count": 37,
     "metadata": {},
     "output_type": "execute_result"
    }
   ],
   "source": [
    "Y=Vector{Matrix{Float64}}(undef,3)\n",
    "\n",
    "for k in 1:3\n",
    "    Y[k]=D[findall(u -> u == k, D[:,end]),1:4]\n",
    "end\n",
    "N=4\n"
   ]
  },
  {
   "cell_type": "code",
   "execution_count": 38,
   "metadata": {},
   "outputs": [
    {
     "data": {
      "text/plain": [
       "50×4 Array{Float64,2}:\n",
       " 0.349646  0.293851   0.434389  0.587703\n",
       " 0.275253  0.133569   0.281075  0.305605\n",
       " 0.468674  0.21371    0.417354  0.399638\n",
       " 0.349646  0.186996   0.366249  0.258589\n",
       " 0.379403  0.21371    0.400319  0.446654\n",
       " 0.543067  0.21371    0.536598  0.399638\n",
       " 0.141346  0.0801413  0.178866  0.211573\n",
       " 0.498431  0.186996   0.485493  0.258589\n",
       " 0.40916   0.0801413  0.400319  0.258589\n",
       " 0.483553  0.373993   0.451424  0.587703\n",
       " 0.379403  0.267138   0.281075  0.352622\n",
       " 0.364524  0.133569   0.315145  0.305605\n",
       " 0.424039  0.21371    0.349215  0.399638\n",
       " ⋮                                      \n",
       " 0.30501   0.21371    0.229971  0.258589\n",
       " 0.438917  0.240424   0.33218   0.399638\n",
       " 0.40916   0.240424   0.366249  0.540686\n",
       " 0.438917  0.240424   0.281075  0.49367 \n",
       " 0.275253  0.133569   0.281075  0.305605\n",
       " 0.424039  0.267138   0.417354  0.49367 \n",
       " 0.40916   0.293851   0.383284  0.587703\n",
       " 0.40916   0.21371    0.29811   0.49367 \n",
       " 0.349646  0.0801413  0.26404   0.305605\n",
       " 0.379403  0.21371    0.29811   0.352622\n",
       " 0.334767  0.320565   0.33218   0.49367 \n",
       " 0.290132  0.21371    0.281075  0.258589"
      ]
     },
     "execution_count": 38,
     "metadata": {},
     "output_type": "execute_result"
    }
   ],
   "source": [
    "Y[3]"
   ]
  },
  {
   "cell_type": "code",
   "execution_count": 39,
   "metadata": {},
   "outputs": [
    {
     "data": {
      "text/plain": [
       "25×4 Array{Float64,2}:\n",
       " 0.171103   0.347279  -0.349215  -0.49367 \n",
       " 0.141346   0.21371   -0.349215  -0.49367 \n",
       " 0.111589   0.267138  -0.366249  -0.49367 \n",
       " 0.0967105  0.240424  -0.33218   -0.49367 \n",
       " 0.156225   0.373993  -0.349215  -0.49367 \n",
       " 0.215739   0.454134  -0.29811   -0.399638\n",
       " 0.0967105  0.320565  -0.349215  -0.446654\n",
       " 0.156225   0.320565  -0.33218   -0.49367 \n",
       " 0.0669535  0.186996  -0.349215  -0.49367 \n",
       " 0.141346   0.240424  -0.33218   -0.540686\n",
       " 0.215739   0.400706  -0.33218   -0.49367 \n",
       " 0.126468   0.320565  -0.315145  -0.49367 \n",
       " 0.126468   0.21371   -0.349215  -0.540686\n",
       " 0.0520749  0.21371   -0.400319  -0.540686\n",
       " 0.275253   0.480848  -0.383284  -0.49367 \n",
       " 0.260375   0.587703  -0.33218   -0.399638\n",
       " 0.215739   0.454134  -0.366249  -0.399638\n",
       " 0.171103   0.347279  -0.349215  -0.446654\n",
       " 0.260375   0.42742   -0.29811   -0.446654\n",
       " 0.171103   0.42742   -0.33218   -0.446654\n",
       " 0.215739   0.320565  -0.29811   -0.49367 \n",
       " 0.171103   0.400706  -0.33218   -0.399638\n",
       " 0.0967105  0.373993  -0.417354  -0.49367 \n",
       " 0.171103   0.293851  -0.29811   -0.352622\n",
       " 0.126468   0.320565  -0.26404   -0.49367 "
      ]
     },
     "execution_count": 39,
     "metadata": {},
     "output_type": "execute_result"
    }
   ],
   "source": [
    "t=Vector{Int64}(undef,3)\n",
    "Y_train=Vector{Matrix{Float64}}(undef,3)\n",
    "\n",
    "for k=1:3\n",
    "    t[k]=ceil(Int64,0.5*size(Y[k],1))\n",
    "    Y_train[k]=Y[k][1:t[k],:]\n",
    "end\n",
    "\n",
    "Y_train[1]"
   ]
  },
  {
   "cell_type": "code",
   "execution_count": 40,
   "metadata": {},
   "outputs": [],
   "source": [
    "Y_test=Vector{Matrix{Float64}}(undef,3)\n",
    "\n",
    "for k=1:3\n",
    "    Y_test[k]=Y[k][(t[k]+1):end,:]\n",
    "end"
   ]
  },
  {
   "cell_type": "code",
   "execution_count": 41,
   "metadata": {},
   "outputs": [
    {
     "name": "stdout",
     "output_type": "stream",
     "text": [
      "5\n",
      "5\n",
      "5\n"
     ]
    }
   ],
   "source": [
    "d=Vector{Int64}(undef,3)\n",
    "\n",
    "for k=1:3\n",
    "    d[k]=1\n",
    "    println(binomial(N+d[k],N))\n",
    "end"
   ]
  },
  {
   "cell_type": "code",
   "execution_count": 42,
   "metadata": {},
   "outputs": [
    {
     "name": "stdout",
     "output_type": "stream",
     "text": [
      "Class 1\n",
      "\n"
     ]
    },
    {
     "name": "stderr",
     "output_type": "stream",
     "text": [
      "WARNING: replacing module DensityEstimation.\n"
     ]
    },
    {
     "name": "stdout",
     "output_type": "stream",
     "text": [
      "Class 2\n",
      "\n",
      "Class 3\n",
      "\n"
     ]
    }
   ],
   "source": [
    "include(\"../src/DensityEstimation.jl\")\n",
    "using .DensityEstimation\n",
    "\n",
    "\n",
    "Lambda=Vector{Function}(undef,3)\n",
    "\n",
    "for k=1:3\n",
    "    println(\"Class \",k)\n",
    "    println()\n",
    "    \n",
    "    Lambda[k]=DensityEstimation.christoffel_func(N,Y_train[k],t[k],d[k],eps=0.0);\n",
    "end"
   ]
  },
  {
   "cell_type": "code",
   "execution_count": 43,
   "metadata": {},
   "outputs": [
    {
     "data": {
      "text/plain": [
       "classifier (generic function with 1 method)"
      ]
     },
     "execution_count": 43,
     "metadata": {},
     "output_type": "execute_result"
    }
   ],
   "source": [
    "function classifier(y)\n",
    "    return findmax([Lambda[k](y) for k=1:3])[2]\n",
    "end"
   ]
  },
  {
   "cell_type": "code",
   "execution_count": 44,
   "metadata": {},
   "outputs": [],
   "source": [
    "predict=Vector{Vector{Int64}}(undef,3)\n",
    "\n",
    "for k=1:3\n",
    "    predict[k]=[classifier(Y_test[k][j,:]) for j in 1:size(Y_test[k],1)]\n",
    "end"
   ]
  },
  {
   "cell_type": "code",
   "execution_count": 45,
   "metadata": {},
   "outputs": [],
   "source": [
    "numcor=Vector{Int64}(undef,3)\n",
    "\n",
    "for k=1:3\n",
    "    numcor[k]=length(findall(u -> u == k, predict[k]))\n",
    "end"
   ]
  },
  {
   "cell_type": "code",
   "execution_count": 46,
   "metadata": {},
   "outputs": [
    {
     "data": {
      "text/plain": [
       "73"
      ]
     },
     "execution_count": 46,
     "metadata": {},
     "output_type": "execute_result"
    }
   ],
   "source": [
    "sum(numcor)"
   ]
  },
  {
   "cell_type": "code",
   "execution_count": 47,
   "metadata": {},
   "outputs": [
    {
     "data": {
      "text/plain": [
       "0.9733333333333334"
      ]
     },
     "execution_count": 47,
     "metadata": {},
     "output_type": "execute_result"
    }
   ],
   "source": [
    "accuracy=(sum(numcor))/(sum(size(Y_test[k],1) for k=1:3))"
   ]
  },
  {
   "cell_type": "code",
   "execution_count": null,
   "metadata": {},
   "outputs": [],
   "source": []
  },
  {
   "cell_type": "code",
   "execution_count": 48,
   "metadata": {},
   "outputs": [
    {
     "data": {
      "text/plain": [
       "75"
      ]
     },
     "execution_count": 48,
     "metadata": {},
     "output_type": "execute_result"
    }
   ],
   "source": [
    "nr-sum(t)"
   ]
  },
  {
   "cell_type": "code",
   "execution_count": null,
   "metadata": {},
   "outputs": [],
   "source": []
  },
  {
   "cell_type": "code",
   "execution_count": null,
   "metadata": {},
   "outputs": [],
   "source": []
  }
 ],
 "metadata": {
  "kernelspec": {
   "display_name": "Julia 1.3.0",
   "language": "julia",
   "name": "julia-1.3"
  },
  "language_info": {
   "file_extension": ".jl",
   "mimetype": "application/julia",
   "name": "julia",
   "version": "1.3.0"
  }
 },
 "nbformat": 4,
 "nbformat_minor": 2
}
